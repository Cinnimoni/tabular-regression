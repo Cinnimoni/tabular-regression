{
 "cells": [
  {
   "cell_type": "code",
   "execution_count": 1,
   "metadata": {
    "execution": {
     "iopub.execute_input": "2023-03-07T18:29:31.974114Z",
     "iopub.status.busy": "2023-03-07T18:29:31.973632Z",
     "iopub.status.idle": "2023-03-07T18:29:31.987130Z",
     "shell.execute_reply": "2023-03-07T18:29:31.985427Z",
     "shell.execute_reply.started": "2023-03-07T18:29:31.974074Z"
    }
   },
   "outputs": [],
   "source": [
    "# This Python 3 environment comes with many helpful analytics libraries installed\n",
    "# It is defined by the kaggle/python Docker image: https://github.com/kaggle/docker-python\n",
    "# For example, here's several helpful packages to load\n",
    "\n",
    "import numpy as np\n",
    "import pandas as pd\n",
    "import matplotlib.pyplot as plt\n",
    "import seaborn as sns\n",
    "from xgboost import XGBRegressor\n",
    "from sklearn.ensemble import RandomForestRegressor\n",
    "from catboost import CatBoostRegressor\n",
    "from sklearn.model_selection import train_test_split,cross_val_score, KFold\n",
    "from sklearn.metrics import mean_squared_error, r2_score\n",
    "import optuna\n",
    "import warnings\n",
    "warnings.filterwarnings('ignore')\n",
    "warnings.filterwarnings('ignore', category=DeprecationWarning)\n",
    "from sklearn import svm\n",
    "import lightgbm as ltb\n",
    "from keras.callbacks import ModelCheckpoint\n",
    "from keras.models import Sequential\n",
    "from keras.layers import Dense, Activation, Flatten\n",
    "\n",
    "# Input data files are available in the read-only \"../input/\" directory\n",
    "# For example, running this (by clicking run or pressing Shift+Enter) will list all files under the input directory\n",
    "\n",
    "import os\n",
    "for dirname, _, filenames in os.walk('/kaggle/input'):\n",
    "    for filename in filenames:\n",
    "        print(os.path.join(dirname, filename))\n",
    "\n",
    "# You can write up to 20GB to the current directory (/kaggle/working/) that gets preserved as output when you create a version using \"Save & Run All\" \n",
    "# You can also write temporary files to /kaggle/temp/, but they won't be saved outside of the current session"
   ]
  },
  {
   "cell_type": "code",
   "execution_count": 2,
   "metadata": {
    "execution": {
     "iopub.execute_input": "2023-03-07T18:14:37.821954Z",
     "iopub.status.busy": "2023-03-07T18:14:37.820392Z",
     "iopub.status.idle": "2023-03-07T18:14:37.875903Z",
     "shell.execute_reply": "2023-03-07T18:14:37.874933Z",
     "shell.execute_reply.started": "2023-03-07T18:14:37.821888Z"
    }
   },
   "outputs": [
    {
     "data": {
      "text/html": [
       "<div>\n",
       "<style scoped>\n",
       "    .dataframe tbody tr th:only-of-type {\n",
       "        vertical-align: middle;\n",
       "    }\n",
       "\n",
       "    .dataframe tbody tr th {\n",
       "        vertical-align: top;\n",
       "    }\n",
       "\n",
       "    .dataframe thead th {\n",
       "        text-align: right;\n",
       "    }\n",
       "</style>\n",
       "<table border=\"1\" class=\"dataframe\">\n",
       "  <thead>\n",
       "    <tr style=\"text-align: right;\">\n",
       "      <th></th>\n",
       "      <th>CementComponent</th>\n",
       "      <th>BlastFurnaceSlag</th>\n",
       "      <th>FlyAshComponent</th>\n",
       "      <th>WaterComponent</th>\n",
       "      <th>SuperplasticizerComponent</th>\n",
       "      <th>CoarseAggregateComponent</th>\n",
       "      <th>FineAggregateComponent</th>\n",
       "      <th>AgeInDays</th>\n",
       "      <th>Strength</th>\n",
       "    </tr>\n",
       "  </thead>\n",
       "  <tbody>\n",
       "    <tr>\n",
       "      <th>count</th>\n",
       "      <td>5407.000000</td>\n",
       "      <td>5407.000000</td>\n",
       "      <td>5407.000000</td>\n",
       "      <td>5407.000000</td>\n",
       "      <td>5407.000000</td>\n",
       "      <td>5407.000000</td>\n",
       "      <td>5407.000000</td>\n",
       "      <td>5407.000000</td>\n",
       "      <td>5407.000000</td>\n",
       "    </tr>\n",
       "    <tr>\n",
       "      <th>mean</th>\n",
       "      <td>299.168189</td>\n",
       "      <td>58.610579</td>\n",
       "      <td>31.872795</td>\n",
       "      <td>185.076235</td>\n",
       "      <td>4.108441</td>\n",
       "      <td>992.000718</td>\n",
       "      <td>771.219974</td>\n",
       "      <td>51.751618</td>\n",
       "      <td>35.452071</td>\n",
       "    </tr>\n",
       "    <tr>\n",
       "      <th>std</th>\n",
       "      <td>105.537682</td>\n",
       "      <td>83.417801</td>\n",
       "      <td>54.605003</td>\n",
       "      <td>18.517583</td>\n",
       "      <td>5.692296</td>\n",
       "      <td>77.148010</td>\n",
       "      <td>78.725253</td>\n",
       "      <td>70.006975</td>\n",
       "      <td>16.401896</td>\n",
       "    </tr>\n",
       "    <tr>\n",
       "      <th>min</th>\n",
       "      <td>102.000000</td>\n",
       "      <td>0.000000</td>\n",
       "      <td>0.000000</td>\n",
       "      <td>121.800000</td>\n",
       "      <td>0.000000</td>\n",
       "      <td>801.000000</td>\n",
       "      <td>594.000000</td>\n",
       "      <td>1.000000</td>\n",
       "      <td>2.330000</td>\n",
       "    </tr>\n",
       "    <tr>\n",
       "      <th>25%</th>\n",
       "      <td>213.700000</td>\n",
       "      <td>0.000000</td>\n",
       "      <td>0.000000</td>\n",
       "      <td>175.100000</td>\n",
       "      <td>0.000000</td>\n",
       "      <td>938.200000</td>\n",
       "      <td>734.300000</td>\n",
       "      <td>7.000000</td>\n",
       "      <td>23.640000</td>\n",
       "    </tr>\n",
       "    <tr>\n",
       "      <th>50%</th>\n",
       "      <td>297.200000</td>\n",
       "      <td>0.000000</td>\n",
       "      <td>0.000000</td>\n",
       "      <td>187.400000</td>\n",
       "      <td>0.000000</td>\n",
       "      <td>978.000000</td>\n",
       "      <td>781.200000</td>\n",
       "      <td>28.000000</td>\n",
       "      <td>33.950000</td>\n",
       "    </tr>\n",
       "    <tr>\n",
       "      <th>75%</th>\n",
       "      <td>375.000000</td>\n",
       "      <td>122.600000</td>\n",
       "      <td>79.000000</td>\n",
       "      <td>192.000000</td>\n",
       "      <td>8.050000</td>\n",
       "      <td>1047.000000</td>\n",
       "      <td>821.000000</td>\n",
       "      <td>56.000000</td>\n",
       "      <td>45.850000</td>\n",
       "    </tr>\n",
       "    <tr>\n",
       "      <th>max</th>\n",
       "      <td>540.000000</td>\n",
       "      <td>359.400000</td>\n",
       "      <td>200.100000</td>\n",
       "      <td>247.000000</td>\n",
       "      <td>32.200000</td>\n",
       "      <td>1145.000000</td>\n",
       "      <td>992.600000</td>\n",
       "      <td>365.000000</td>\n",
       "      <td>82.600000</td>\n",
       "    </tr>\n",
       "  </tbody>\n",
       "</table>\n",
       "</div>"
      ],
      "text/plain": [
       "       CementComponent  BlastFurnaceSlag  FlyAshComponent  WaterComponent  \\\n",
       "count      5407.000000       5407.000000      5407.000000     5407.000000   \n",
       "mean        299.168189         58.610579        31.872795      185.076235   \n",
       "std         105.537682         83.417801        54.605003       18.517583   \n",
       "min         102.000000          0.000000         0.000000      121.800000   \n",
       "25%         213.700000          0.000000         0.000000      175.100000   \n",
       "50%         297.200000          0.000000         0.000000      187.400000   \n",
       "75%         375.000000        122.600000        79.000000      192.000000   \n",
       "max         540.000000        359.400000       200.100000      247.000000   \n",
       "\n",
       "       SuperplasticizerComponent  CoarseAggregateComponent  \\\n",
       "count                5407.000000               5407.000000   \n",
       "mean                    4.108441                992.000718   \n",
       "std                     5.692296                 77.148010   \n",
       "min                     0.000000                801.000000   \n",
       "25%                     0.000000                938.200000   \n",
       "50%                     0.000000                978.000000   \n",
       "75%                     8.050000               1047.000000   \n",
       "max                    32.200000               1145.000000   \n",
       "\n",
       "       FineAggregateComponent    AgeInDays     Strength  \n",
       "count             5407.000000  5407.000000  5407.000000  \n",
       "mean               771.219974    51.751618    35.452071  \n",
       "std                 78.725253    70.006975    16.401896  \n",
       "min                594.000000     1.000000     2.330000  \n",
       "25%                734.300000     7.000000    23.640000  \n",
       "50%                781.200000    28.000000    33.950000  \n",
       "75%                821.000000    56.000000    45.850000  \n",
       "max                992.600000   365.000000    82.600000  "
      ]
     },
     "execution_count": 2,
     "metadata": {},
     "output_type": "execute_result"
    }
   ],
   "source": [
    "df = pd.read_csv('train.csv').set_index('id')\n",
    "df.describe()"
   ]
  },
  {
   "cell_type": "code",
   "execution_count": 3,
   "metadata": {},
   "outputs": [
    {
     "data": {
      "text/plain": [
       "<AxesSubplot:>"
      ]
     },
     "execution_count": 3,
     "metadata": {},
     "output_type": "execute_result"
    },
    {
     "data": {
      "image/png": "[encoded data removed]",
      "text/plain": [
       "<Figure size 1200x900 with 2 Axes>"
      ]
     },
     "metadata": {},
     "output_type": "display_data"
    }
   ],
   "source": [
    "fig, ax = plt.subplots(figsize=(12,9))\n",
    "sns.heatmap(abs(df.corr()), annot=True)"
   ]
  },
  {
   "cell_type": "code",
   "execution_count": 4,
   "metadata": {
    "execution": {
     "iopub.execute_input": "2023-03-07T18:10:10.655658Z",
     "iopub.status.busy": "2023-03-07T18:10:10.654419Z",
     "iopub.status.idle": "2023-03-07T18:10:10.711694Z",
     "shell.execute_reply": "2023-03-07T18:10:10.710250Z",
     "shell.execute_reply.started": "2023-03-07T18:10:10.655608Z"
    },
    "scrolled": true
   },
   "outputs": [
    {
     "data": {
      "text/html": [
       "<div>\n",
       "<style scoped>\n",
       "    .dataframe tbody tr th:only-of-type {\n",
       "        vertical-align: middle;\n",
       "    }\n",
       "\n",
       "    .dataframe tbody tr th {\n",
       "        vertical-align: top;\n",
       "    }\n",
       "\n",
       "    .dataframe thead th {\n",
       "        text-align: right;\n",
       "    }\n",
       "</style>\n",
       "<table border=\"1\" class=\"dataframe\">\n",
       "  <thead>\n",
       "    <tr style=\"text-align: right;\">\n",
       "      <th></th>\n",
       "      <th>CementComponent</th>\n",
       "      <th>BlastFurnaceSlag</th>\n",
       "      <th>FlyAshComponent</th>\n",
       "      <th>WaterComponent</th>\n",
       "      <th>SuperplasticizerComponent</th>\n",
       "      <th>CoarseAggregateComponent</th>\n",
       "      <th>FineAggregateComponent</th>\n",
       "      <th>AgeInDays</th>\n",
       "    </tr>\n",
       "  </thead>\n",
       "  <tbody>\n",
       "    <tr>\n",
       "      <th>count</th>\n",
       "      <td>3605.000000</td>\n",
       "      <td>3605.000000</td>\n",
       "      <td>3605.000000</td>\n",
       "      <td>3605.000000</td>\n",
       "      <td>3605.000000</td>\n",
       "      <td>3605.000000</td>\n",
       "      <td>3605.000000</td>\n",
       "      <td>3605.000000</td>\n",
       "    </tr>\n",
       "    <tr>\n",
       "      <th>mean</th>\n",
       "      <td>299.943523</td>\n",
       "      <td>55.803273</td>\n",
       "      <td>32.829154</td>\n",
       "      <td>184.345825</td>\n",
       "      <td>4.194230</td>\n",
       "      <td>990.222330</td>\n",
       "      <td>774.736311</td>\n",
       "      <td>49.153398</td>\n",
       "    </tr>\n",
       "    <tr>\n",
       "      <th>std</th>\n",
       "      <td>104.809283</td>\n",
       "      <td>80.938863</td>\n",
       "      <td>55.490684</td>\n",
       "      <td>17.964842</td>\n",
       "      <td>5.807567</td>\n",
       "      <td>76.812197</td>\n",
       "      <td>77.412505</td>\n",
       "      <td>63.564334</td>\n",
       "    </tr>\n",
       "    <tr>\n",
       "      <th>min</th>\n",
       "      <td>102.000000</td>\n",
       "      <td>0.000000</td>\n",
       "      <td>0.000000</td>\n",
       "      <td>121.800000</td>\n",
       "      <td>0.000000</td>\n",
       "      <td>801.000000</td>\n",
       "      <td>594.000000</td>\n",
       "      <td>1.000000</td>\n",
       "    </tr>\n",
       "    <tr>\n",
       "      <th>25%</th>\n",
       "      <td>213.800000</td>\n",
       "      <td>0.000000</td>\n",
       "      <td>0.000000</td>\n",
       "      <td>174.900000</td>\n",
       "      <td>0.000000</td>\n",
       "      <td>938.200000</td>\n",
       "      <td>739.300000</td>\n",
       "      <td>7.000000</td>\n",
       "    </tr>\n",
       "    <tr>\n",
       "      <th>50%</th>\n",
       "      <td>300.000000</td>\n",
       "      <td>0.000000</td>\n",
       "      <td>0.000000</td>\n",
       "      <td>188.500000</td>\n",
       "      <td>0.000000</td>\n",
       "      <td>977.600000</td>\n",
       "      <td>781.500000</td>\n",
       "      <td>28.000000</td>\n",
       "    </tr>\n",
       "    <tr>\n",
       "      <th>75%</th>\n",
       "      <td>374.000000</td>\n",
       "      <td>117.200000</td>\n",
       "      <td>90.000000</td>\n",
       "      <td>192.000000</td>\n",
       "      <td>8.100000</td>\n",
       "      <td>1047.000000</td>\n",
       "      <td>821.000000</td>\n",
       "      <td>56.000000</td>\n",
       "    </tr>\n",
       "    <tr>\n",
       "      <th>max</th>\n",
       "      <td>540.000000</td>\n",
       "      <td>359.400000</td>\n",
       "      <td>200.100000</td>\n",
       "      <td>247.000000</td>\n",
       "      <td>32.200000</td>\n",
       "      <td>1145.000000</td>\n",
       "      <td>992.600000</td>\n",
       "      <td>365.000000</td>\n",
       "    </tr>\n",
       "  </tbody>\n",
       "</table>\n",
       "</div>"
      ],
      "text/plain": [
       "       CementComponent  BlastFurnaceSlag  FlyAshComponent  WaterComponent  \\\n",
       "count      3605.000000       3605.000000      3605.000000     3605.000000   \n",
       "mean        299.943523         55.803273        32.829154      184.345825   \n",
       "std         104.809283         80.938863        55.490684       17.964842   \n",
       "min         102.000000          0.000000         0.000000      121.800000   \n",
       "25%         213.800000          0.000000         0.000000      174.900000   \n",
       "50%         300.000000          0.000000         0.000000      188.500000   \n",
       "75%         374.000000        117.200000        90.000000      192.000000   \n",
       "max         540.000000        359.400000       200.100000      247.000000   \n",
       "\n",
       "       SuperplasticizerComponent  CoarseAggregateComponent  \\\n",
       "count                3605.000000               3605.000000   \n",
       "mean                    4.194230                990.222330   \n",
       "std                     5.807567                 76.812197   \n",
       "min                     0.000000                801.000000   \n",
       "25%                     0.000000                938.200000   \n",
       "50%                     0.000000                977.600000   \n",
       "75%                     8.100000               1047.000000   \n",
       "max                    32.200000               1145.000000   \n",
       "\n",
       "       FineAggregateComponent    AgeInDays  \n",
       "count             3605.000000  3605.000000  \n",
       "mean               774.736311    49.153398  \n",
       "std                 77.412505    63.564334  \n",
       "min                594.000000     1.000000  \n",
       "25%                739.300000     7.000000  \n",
       "50%                781.500000    28.000000  \n",
       "75%                821.000000    56.000000  \n",
       "max                992.600000   365.000000  "
      ]
     },
     "execution_count": 4,
     "metadata": {},
     "output_type": "execute_result"
    }
   ],
   "source": [
    "df_test = pd.read_csv('test.csv').set_index('id')\n",
    "df_test.describe()"
   ]
  },
  {
   "cell_type": "code",
   "execution_count": 5,
   "metadata": {
    "execution": {
     "iopub.execute_input": "2023-03-07T18:10:10.715311Z",
     "iopub.status.busy": "2023-03-07T18:10:10.714931Z",
     "iopub.status.idle": "2023-03-07T18:10:10.722941Z",
     "shell.execute_reply": "2023-03-07T18:10:10.721701Z",
     "shell.execute_reply.started": "2023-03-07T18:10:10.715273Z"
    }
   },
   "outputs": [
    {
     "name": "stdout",
     "output_type": "stream",
     "text": [
      "False\n",
      "False\n"
     ]
    }
   ],
   "source": [
    "#checking for any nan values\n",
    "print(df.isnull().values.any())\n",
    "print(df_test.isnull().values.any())"
   ]
  },
  {
   "cell_type": "markdown",
   "metadata": {},
   "source": [
    "# Dividing data for model training"
   ]
  },
  {
   "cell_type": "code",
   "execution_count": 6,
   "metadata": {
    "execution": {
     "iopub.execute_input": "2023-03-07T18:10:10.724900Z",
     "iopub.status.busy": "2023-03-07T18:10:10.724543Z",
     "iopub.status.idle": "2023-03-07T18:10:10.734724Z",
     "shell.execute_reply": "2023-03-07T18:10:10.733570Z",
     "shell.execute_reply.started": "2023-03-07T18:10:10.724865Z"
    }
   },
   "outputs": [],
   "source": [
    "X = df.drop('Strength',axis=1)\n",
    "y = df['Strength']"
   ]
  },
  {
   "cell_type": "code",
   "execution_count": 7,
   "metadata": {
    "execution": {
     "iopub.execute_input": "2023-03-07T18:10:10.754857Z",
     "iopub.status.busy": "2023-03-07T18:10:10.754141Z",
     "iopub.status.idle": "2023-03-07T18:10:10.774793Z",
     "shell.execute_reply": "2023-03-07T18:10:10.773450Z",
     "shell.execute_reply.started": "2023-03-07T18:10:10.754807Z"
    }
   },
   "outputs": [
    {
     "data": {
      "text/html": [
       "<div>\n",
       "<style scoped>\n",
       "    .dataframe tbody tr th:only-of-type {\n",
       "        vertical-align: middle;\n",
       "    }\n",
       "\n",
       "    .dataframe tbody tr th {\n",
       "        vertical-align: top;\n",
       "    }\n",
       "\n",
       "    .dataframe thead th {\n",
       "        text-align: right;\n",
       "    }\n",
       "</style>\n",
       "<table border=\"1\" class=\"dataframe\">\n",
       "  <thead>\n",
       "    <tr style=\"text-align: right;\">\n",
       "      <th></th>\n",
       "      <th>CementComponent</th>\n",
       "      <th>BlastFurnaceSlag</th>\n",
       "      <th>FlyAshComponent</th>\n",
       "      <th>WaterComponent</th>\n",
       "      <th>SuperplasticizerComponent</th>\n",
       "      <th>CoarseAggregateComponent</th>\n",
       "      <th>FineAggregateComponent</th>\n",
       "      <th>AgeInDays</th>\n",
       "    </tr>\n",
       "    <tr>\n",
       "      <th>id</th>\n",
       "      <th></th>\n",
       "      <th></th>\n",
       "      <th></th>\n",
       "      <th></th>\n",
       "      <th></th>\n",
       "      <th></th>\n",
       "      <th></th>\n",
       "      <th></th>\n",
       "    </tr>\n",
       "  </thead>\n",
       "  <tbody>\n",
       "    <tr>\n",
       "      <th>5407</th>\n",
       "      <td>166.1</td>\n",
       "      <td>75.4</td>\n",
       "      <td>163.8</td>\n",
       "      <td>173.8</td>\n",
       "      <td>4.6</td>\n",
       "      <td>1007.2</td>\n",
       "      <td>746.6</td>\n",
       "      <td>56</td>\n",
       "    </tr>\n",
       "    <tr>\n",
       "      <th>5408</th>\n",
       "      <td>304.0</td>\n",
       "      <td>0.0</td>\n",
       "      <td>0.0</td>\n",
       "      <td>190.0</td>\n",
       "      <td>0.0</td>\n",
       "      <td>998.0</td>\n",
       "      <td>801.0</td>\n",
       "      <td>7</td>\n",
       "    </tr>\n",
       "    <tr>\n",
       "      <th>5409</th>\n",
       "      <td>225.0</td>\n",
       "      <td>0.0</td>\n",
       "      <td>0.0</td>\n",
       "      <td>185.0</td>\n",
       "      <td>0.0</td>\n",
       "      <td>1113.0</td>\n",
       "      <td>833.0</td>\n",
       "      <td>28</td>\n",
       "    </tr>\n",
       "    <tr>\n",
       "      <th>5410</th>\n",
       "      <td>251.4</td>\n",
       "      <td>0.0</td>\n",
       "      <td>118.3</td>\n",
       "      <td>188.5</td>\n",
       "      <td>6.4</td>\n",
       "      <td>1028.4</td>\n",
       "      <td>757.7</td>\n",
       "      <td>100</td>\n",
       "    </tr>\n",
       "    <tr>\n",
       "      <th>5411</th>\n",
       "      <td>144.0</td>\n",
       "      <td>15.0</td>\n",
       "      <td>195.0</td>\n",
       "      <td>176.0</td>\n",
       "      <td>6.0</td>\n",
       "      <td>1021.0</td>\n",
       "      <td>709.0</td>\n",
       "      <td>28</td>\n",
       "    </tr>\n",
       "  </tbody>\n",
       "</table>\n",
       "</div>"
      ],
      "text/plain": [
       "      CementComponent  BlastFurnaceSlag  FlyAshComponent  WaterComponent  \\\n",
       "id                                                                         \n",
       "5407            166.1              75.4            163.8           173.8   \n",
       "5408            304.0               0.0              0.0           190.0   \n",
       "5409            225.0               0.0              0.0           185.0   \n",
       "5410            251.4               0.0            118.3           188.5   \n",
       "5411            144.0              15.0            195.0           176.0   \n",
       "\n",
       "      SuperplasticizerComponent  CoarseAggregateComponent  \\\n",
       "id                                                          \n",
       "5407                        4.6                    1007.2   \n",
       "5408                        0.0                     998.0   \n",
       "5409                        0.0                    1113.0   \n",
       "5410                        6.4                    1028.4   \n",
       "5411                        6.0                    1021.0   \n",
       "\n",
       "      FineAggregateComponent  AgeInDays  \n",
       "id                                       \n",
       "5407                   746.6         56  \n",
       "5408                   801.0          7  \n",
       "5409                   833.0         28  \n",
       "5410                   757.7        100  \n",
       "5411                   709.0         28  "
      ]
     },
     "execution_count": 7,
     "metadata": {},
     "output_type": "execute_result"
    }
   ],
   "source": [
    "X_test = df_test\n",
    "X_test.head()"
   ]
  },
  {
   "cell_type": "markdown",
   "metadata": {},
   "source": [
    "# XGB model"
   ]
  },
  {
   "cell_type": "code",
   "execution_count": 8,
   "metadata": {
    "execution": {
     "iopub.execute_input": "2023-03-07T18:29:35.893793Z",
     "iopub.status.busy": "2023-03-07T18:29:35.893260Z",
     "iopub.status.idle": "2023-03-07T18:34:15.199191Z",
     "shell.execute_reply": "2023-03-07T18:34:15.197455Z",
     "shell.execute_reply.started": "2023-03-07T18:29:35.893742Z"
    }
   },
   "outputs": [],
   "source": [
    "# def xbg_opt(x):\n",
    "#     #est = x.suggest_int('n_estimators', 1500, 3000)\n",
    "#     learning_rate = x.suggest_float('learning_rate', 0, 0.008)\n",
    "#     subsample = x.suggest_float('subsample', 0.6, 1)\n",
    "#     depth = x.suggest_int('max_depth', 3, 10)\n",
    "#     xgb = XGBRegressor(n_estimators=3000, max_depth=depth,\n",
    "#                        eta=learning_rate, subsample = subsample)\n",
    "    \n",
    "#     X_train, X_true, y_train, y_true = train_test_split(X, y, test_size=0.25, random_state=42)\n",
    "    \n",
    "#     xgb.fit(X_train, y_train)\n",
    "#     xgb_preds = xgb.predict(X_true)\n",
    "\n",
    "#     return mean_squared_error(y_true, xgb_preds, squared = False)\n",
    "\n",
    "# study = optuna.create_study(direction= 'minimize')\n",
    "# study.optimize(xbg_opt, n_trials= 100)\n",
    "\n",
    "# study.best_params"
   ]
  },
  {
   "cell_type": "code",
   "execution_count": 9,
   "metadata": {},
   "outputs": [],
   "source": [
    "k_fold = KFold(n_splits=5)\n",
    "\n",
    "modelsXGB = []\n",
    "predsXGB = []\n",
    "xgbr_params = dict(n_estimators=3000, max_depth=4,\n",
    "                   eta=0.0016871856953315112, subsample = 0.7198403750944147,\n",
    "                   tree_method = 'gpu_hist')\n",
    "\n",
    "for train_index, test_index in k_fold.split(X,y):\n",
    "    X_train, X_valid = X.iloc[train_index], X.iloc[test_index]\n",
    "    y_train, y_valid = y.iloc[train_index], y.iloc[test_index]\n",
    "  \n",
    "    xgb = XGBRegressor(**xgbr_params)\n",
    "    \n",
    "    xgb.fit(X=X_train, y=y_train, eval_set=[(X_valid, y_valid)],\n",
    "    early_stopping_rounds = 100, verbose = False)\n",
    "\n",
    "    xgb_preds = xgb.predict(X_test)\n",
    "    \n",
    "    modelsXGB.append(xgb)\n",
    "    predsXGB.append(xgb_preds)"
   ]
  },
  {
   "cell_type": "markdown",
   "metadata": {},
   "source": [
    "# Catboost model"
   ]
  },
  {
   "cell_type": "code",
   "execution_count": 10,
   "metadata": {},
   "outputs": [],
   "source": [
    "# def cb_opt(x):\n",
    "#     # iterations = x.suggest_int('iterations', 1500, 3000)\n",
    "#     learning_rate = x.suggest_float('learning_rate', 0, 0.05)\n",
    "#     subsample = x.suggest_float('subsample', 0.5, 1)\n",
    "#     # depth =  x.suggest_int('depth', 3, 10)\n",
    "#     reg = x.suggest_float('reg', 0, 1)\n",
    "#     cb = CatBoostRegressor(iterations=2500, learning_rate=learning_rate, \n",
    "#                            depth=5, verbose=False, subsample = subsample, \n",
    "#                            l2_leaf_reg=reg)\n",
    "    \n",
    "#     X_train, X_true, y_train, y_true = train_test_split(X, y, test_size=0.2, random_state=42)\n",
    "    \n",
    "    \n",
    "#     cb.fit(X_train, y_train)\n",
    "#     cb_preds = cb.predict(X_true)\n",
    "\n",
    "#     return mean_squared_error(y_true, cb_preds, squared = False)\n",
    "\n",
    "# study = optuna.create_study(direction= 'minimize')\n",
    "# study.optimize(cb_opt, n_trials= 100)\n",
    "\n",
    "# study.best_params"
   ]
  },
  {
   "cell_type": "code",
   "execution_count": 11,
   "metadata": {},
   "outputs": [],
   "source": [
    "k_fold = KFold(n_splits=5)\n",
    "\n",
    "modelsCB = []\n",
    "predsCB = []\n",
    "cbr_params = dict(iterations=2500, max_depth=5,\n",
    "                  learning_rate = 0.0033882877566152616, subsample = 0.8953685117189872,\n",
    "                  task_type = 'GPU', l2_leaf_reg = 0.714399266280004, verbose = False, \n",
    "                  bootstrap_type='Poisson')\n",
    "\n",
    "for train_index, test_index in k_fold.split(X,y):\n",
    "    X_train, X_valid = X.iloc[train_index], X.iloc[test_index]\n",
    "    y_train, y_valid = y.iloc[train_index], y.iloc[test_index]\n",
    "  \n",
    "    cb = CatBoostRegressor(**cbr_params)\n",
    "    \n",
    "    cb.fit(X=X_train, y=y_train, eval_set=[(X_valid, y_valid)],\n",
    "    early_stopping_rounds = 100)\n",
    "\n",
    "    cb_preds = cb.predict(X_test)\n",
    "    \n",
    "    modelsCB.append(cb)\n",
    "    predsCB.append(cb_preds)"
   ]
  },
  {
   "cell_type": "markdown",
   "metadata": {},
   "source": [
    "# Random Forest model"
   ]
  },
  {
   "cell_type": "code",
   "execution_count": 12,
   "metadata": {},
   "outputs": [],
   "source": [
    "# def rf_opt(x):\n",
    "#     depth = x.suggest_int('max_depth', 5, 10)\n",
    "#     max_features = x.suggest_int('max_features', 2, 8)\n",
    "#     min_samples_leaf = x.suggest_int('min_samples_leaf', 5, 50)\n",
    "#     rf = RandomForestRegressor(n_estimators = 2000, criterion = 'squared_error', max_depth = depth, \n",
    "#                                max_features = max_features, min_samples_leaf = min_samples_leaf)\n",
    "    \n",
    "    \n",
    "#     X_train, X_true, y_train, y_true = train_test_split(X, y, test_size=0.2, random_state=42)\n",
    "    \n",
    "    \n",
    "#     rf.fit(X_train, y_train)\n",
    "#     rf_preds = rf.predict(X_true)\n",
    "\n",
    "#     return mean_squared_error(y_true, rf_preds, squared = False)\n",
    "\n",
    "# study = optuna.create_study(direction= 'minimize')\n",
    "# study.optimize(rf_opt, n_trials= 100)\n",
    "\n",
    "# study.best_params"
   ]
  },
  {
   "cell_type": "code",
   "execution_count": 13,
   "metadata": {},
   "outputs": [],
   "source": [
    "k_fold = KFold(n_splits=5)\n",
    "\n",
    "modelsRF = []\n",
    "predsRF = []\n",
    "\n",
    "rfr_params = dict(n_estimators=2000, max_depth=6,\n",
    "                  max_features = 7, verbose = False, \n",
    "                  min_samples_leaf = 15)\n",
    "\n",
    "for train_index, test_index in k_fold.split(X,y):\n",
    "    X_train, y_train = X.iloc[train_index], y.iloc[train_index]\n",
    "  \n",
    "    rf = RandomForestRegressor(**rfr_params)\n",
    "    \n",
    "    rf.fit(X=X_train, y=y_train)\n",
    "\n",
    "    rf_preds = rf.predict(X_test)\n",
    "    \n",
    "    modelsRF.append(rf)\n",
    "    predsRF.append(rf_preds)"
   ]
  },
  {
   "cell_type": "markdown",
   "metadata": {},
   "source": [
    "# LASSO model"
   ]
  },
  {
   "cell_type": "code",
   "execution_count": 14,
   "metadata": {},
   "outputs": [],
   "source": [
    "from sklearn.linear_model import LassoCV, Lasso"
   ]
  },
  {
   "cell_type": "code",
   "execution_count": 15,
   "metadata": {},
   "outputs": [],
   "source": [
    "# def lasso_opt(x):\n",
    "#     eps = x.suggest_float('eps', 0, 0.001)\n",
    "#     cv = x.suggest_int('cv', 2, 5)\n",
    "#     n_alphas = x.suggest_int('n_alphas', 1000, 2000)\n",
    "#     alpha = x.suggest_float('alpha', 0, 0.1)\n",
    "#     tol = x.suggest_float('tol', 0, 0.01)\n",
    "#     lasso = LassoCV(precompute = 'auto', fit_intercept = True,\n",
    "#                     normalize = False, max_iter = 10000, eps = eps, \n",
    "#                     cv = cv, n_alphas = n_alphas, n_jobs = 8,\n",
    "#                     tol = tol)\n",
    "#     lasso_par = {\n",
    "#          'alpha': alpha,\n",
    "#          'max_iter': 10000,\n",
    "#          'tol': tol    \n",
    "#      }\n",
    "    \n",
    "#     X_train, X_true, y_train, y_true = train_test_split(X, y, test_size=0.25, random_state=42)\n",
    "    \n",
    "    \n",
    "#     lasso.fit(X_train, y_train)\n",
    "#     lasso_preds = lasso.predict(X_true)\n",
    "\n",
    "#     return mean_squared_error(y_true, lasso_preds, squared = False)\n",
    "\n",
    "# study = optuna.create_study(direction= 'minimize')\n",
    "# study.optimize(lasso_opt, n_trials= 100)\n",
    "\n",
    "# study.best_params"
   ]
  },
  {
   "cell_type": "code",
   "execution_count": 16,
   "metadata": {},
   "outputs": [],
   "source": [
    "k_fold = KFold(n_splits=5)\n",
    "\n",
    "modelsLasso = []\n",
    "predsLasso = []\n",
    "\n",
    "lasso_params = dict(alpha = 0.011331309463411023, max_iter = 10000, tol = 0.009713287632154238)\n",
    "\n",
    "lassocv_params = dict(precompute = 'auto', fit_intercept = True,\n",
    "                    normalize = False, max_iter = 10000, eps = 0.00043732786136795276, \n",
    "                    cv = 5, n_alphas = 1742, n_jobs = 8,\n",
    "                    tol = 0.009713287632154238)\n",
    "\n",
    "for train_index, test_index in k_fold.split(X,y):\n",
    "    X_train, y_train = X.iloc[train_index], y.iloc[train_index]\n",
    "  \n",
    "    lasso = Lasso(**lasso_params)\n",
    "    \n",
    "    lasso.fit(X=X_train, y=y_train)\n",
    "\n",
    "    lasso_preds = lasso.predict(X_test)\n",
    "    \n",
    "    modelsLasso.append(lasso)\n",
    "    predsLasso.append(lasso_preds)"
   ]
  },
  {
   "cell_type": "markdown",
   "metadata": {},
   "source": [
    "# Support Vector Regression"
   ]
  },
  {
   "cell_type": "code",
   "execution_count": 17,
   "metadata": {},
   "outputs": [],
   "source": [
    "# def SVR_opt(x):\n",
    "#     tol = x.suggest_float('tol', 0, 0.001)\n",
    "#     C = x.suggest_float('C', 0.98, 1.05)\n",
    "#     eps = x.suggest_float('epsilon', 0.005, 0.02)\n",
    "#     SVR = svm.SVR(tol = tol, C = C, epsilon = eps, gamma = 0.001)\n",
    "    \n",
    "#     X_train, X_true, y_train, y_true = train_test_split(X, y, test_size=0.25, random_state=42)\n",
    "    \n",
    "    \n",
    "#     SVR.fit(X_train, y_train)\n",
    "#     svr_preds = SVR.predict(X_true)\n",
    "\n",
    "#     return mean_squared_error(y_true, svr_preds, squared = False)\n",
    "\n",
    "# study = optuna.create_study(direction= 'minimize')\n",
    "# study.optimize(SVR_opt, n_trials= 100)\n",
    "\n",
    "# study.best_params"
   ]
  },
  {
   "cell_type": "code",
   "execution_count": 18,
   "metadata": {},
   "outputs": [],
   "source": [
    "k_fold = KFold(n_splits=5)\n",
    "\n",
    "modelsSVR = []\n",
    "predsSVR = []\n",
    "\n",
    "\n",
    "svr_params = dict(tol = 0.0007618119753298281, C = 1.049996968413195, \n",
    "                  epsilon = 0.015552737698416759, gamma = 0.001)\n",
    "\n",
    "for train_index, test_index in k_fold.split(X,y):\n",
    "    X_train, y_train = X.iloc[train_index], y.iloc[train_index]\n",
    "  \n",
    "    SVR = svm.SVR(**svr_params)\n",
    "    \n",
    "    SVR.fit(X=X_train, y=y_train)\n",
    "\n",
    "    SVR_preds = SVR.predict(X_test)\n",
    "    \n",
    "    modelsSVR.append(SVR)\n",
    "    predsSVR.append(SVR_preds)"
   ]
  },
  {
   "cell_type": "markdown",
   "metadata": {},
   "source": [
    "# LightGBM regressor model"
   ]
  },
  {
   "cell_type": "code",
   "execution_count": 19,
   "metadata": {},
   "outputs": [],
   "source": [
    "# def LGBM_opt(x):\n",
    "#     learning_rate = x.suggest_float('learning_rate', 0.001, 0.01)\n",
    "#     #reg_alpha = x.suggest_float('reg_alpha', 0.001, 0.015)\n",
    "#     #reg_lambda = x.suggest_float('reg_lambda', 0.001, 0.015)\n",
    "#     #num_leaves = x.suggest_int('num_leaves', 5, 20)\n",
    "#     subsample = x.suggest_float('subsample', 0.5, 1)\n",
    "#     lambda_l1 = x.suggest_int('lambda_l1', 1, 6)\n",
    "#     lambda_l2 = x.suggest_int('lambda_l2', 1, 6)\n",
    "#     LGBM = ltb.LGBMRegressor(n_estimators = 1000, num_leaves = 9, learning_rate = learning_rate,\n",
    "#                              lambda_l1 = lambda_l1, lambda_l2 = lambda_l2 , max_depth = 10,\n",
    "#                              subsample = subsample, feature_fraction = 0.8, bagging_fraction = 0.8,\n",
    "#                              device = 'gpu')\n",
    "    \n",
    "#     X_train, X_true, y_train, y_true = train_test_split(X, y, test_size=0.33, random_state=42)\n",
    "     \n",
    "#     LGBM.fit(X_train, y_train)\n",
    "#     lgbm_preds = LGBM.predict(X_true)\n",
    "\n",
    "#     return mean_squared_error(y_true, lgbm_preds, squared = False)\n",
    "\n",
    "# study = optuna.create_study(direction= 'minimize')\n",
    "# study.optimize(LGBM_opt, n_trials= 100)\n",
    "\n",
    "# study.best_params"
   ]
  },
  {
   "cell_type": "code",
   "execution_count": 20,
   "metadata": {},
   "outputs": [
    {
     "name": "stdout",
     "output_type": "stream",
     "text": [
      "[LightGBM] [Warning] feature_fraction is set=0.8, colsample_bytree=1.0 will be ignored. Current value: feature_fraction=0.8\n",
      "[LightGBM] [Warning] lambda_l1 is set=4, reg_alpha=0.0 will be ignored. Current value: lambda_l1=4\n",
      "[LightGBM] [Warning] bagging_fraction is set=0.8, subsample=0.9410521882109187 will be ignored. Current value: bagging_fraction=0.8\n",
      "[LightGBM] [Warning] lambda_l2 is set=3, reg_lambda=0.0 will be ignored. Current value: lambda_l2=3\n",
      "[LightGBM] [Warning] feature_fraction is set=0.8, colsample_bytree=1.0 will be ignored. Current value: feature_fraction=0.8\n",
      "[LightGBM] [Warning] lambda_l1 is set=4, reg_alpha=0.0 will be ignored. Current value: lambda_l1=4\n",
      "[LightGBM] [Warning] bagging_fraction is set=0.8, subsample=0.9410521882109187 will be ignored. Current value: bagging_fraction=0.8\n",
      "[LightGBM] [Warning] lambda_l2 is set=3, reg_lambda=0.0 will be ignored. Current value: lambda_l2=3\n",
      "[LightGBM] [Warning] feature_fraction is set=0.8, colsample_bytree=1.0 will be ignored. Current value: feature_fraction=0.8\n",
      "[LightGBM] [Warning] lambda_l1 is set=4, reg_alpha=0.0 will be ignored. Current value: lambda_l1=4\n",
      "[LightGBM] [Warning] bagging_fraction is set=0.8, subsample=0.9410521882109187 will be ignored. Current value: bagging_fraction=0.8\n",
      "[LightGBM] [Warning] lambda_l2 is set=3, reg_lambda=0.0 will be ignored. Current value: lambda_l2=3\n",
      "[LightGBM] [Warning] feature_fraction is set=0.8, colsample_bytree=1.0 will be ignored. Current value: feature_fraction=0.8\n",
      "[LightGBM] [Warning] lambda_l1 is set=4, reg_alpha=0.0 will be ignored. Current value: lambda_l1=4\n",
      "[LightGBM] [Warning] bagging_fraction is set=0.8, subsample=0.9410521882109187 will be ignored. Current value: bagging_fraction=0.8\n",
      "[LightGBM] [Warning] lambda_l2 is set=3, reg_lambda=0.0 will be ignored. Current value: lambda_l2=3\n",
      "[LightGBM] [Warning] feature_fraction is set=0.8, colsample_bytree=1.0 will be ignored. Current value: feature_fraction=0.8\n",
      "[LightGBM] [Warning] lambda_l1 is set=4, reg_alpha=0.0 will be ignored. Current value: lambda_l1=4\n",
      "[LightGBM] [Warning] bagging_fraction is set=0.8, subsample=0.9410521882109187 will be ignored. Current value: bagging_fraction=0.8\n",
      "[LightGBM] [Warning] lambda_l2 is set=3, reg_lambda=0.0 will be ignored. Current value: lambda_l2=3\n"
     ]
    }
   ],
   "source": [
    "k_fold = KFold(n_splits=5)\n",
    "\n",
    "modelsLGBM = []\n",
    "predsLGBM = []\n",
    "\n",
    "\n",
    "lgbm_params = dict(n_estimators = 1000, num_leaves = 9, learning_rate = 0.009121343086184033,\n",
    "                             lambda_l1 = 4, lambda_l2 = 3 , max_depth = 10,\n",
    "                             subsample = 0.9410521882109187, feature_fraction = 0.8, bagging_fraction = 0.8,\n",
    "                             device = 'gpu')\n",
    "\n",
    "for train_index, test_index in k_fold.split(X,y):\n",
    "    X_train, X_valid = X.iloc[train_index], X.iloc[test_index]\n",
    "    y_train, y_valid = y.iloc[train_index], y.iloc[test_index]\n",
    "  \n",
    "    LGBM = ltb.LGBMRegressor(**lgbm_params)\n",
    "    \n",
    "    LGBM.fit(X=X_train, y=y_train, eval_set=[(X_valid, y_valid)],\n",
    "          early_stopping_rounds = 100, verbose = False)\n",
    "\n",
    "    LGBM_preds = LGBM.predict(X_test)\n",
    "    \n",
    "    modelsLGBM.append(LGBM)\n",
    "    predsLGBM.append(LGBM_preds)"
   ]
  },
  {
   "cell_type": "markdown",
   "metadata": {},
   "source": [
    "# Keras Neural Network"
   ]
  },
  {
   "cell_type": "code",
   "execution_count": 21,
   "metadata": {},
   "outputs": [
    {
     "name": "stdout",
     "output_type": "stream",
     "text": [
      "Model: \"sequential\"\n",
      "_________________________________________________________________\n",
      " Layer (type)                Output Shape              Param #   \n",
      "=================================================================\n",
      " dense (Dense)               (None, 128)               1152      \n",
      "                                                                 \n",
      " dense_1 (Dense)             (None, 256)               33024     \n",
      "                                                                 \n",
      " dense_2 (Dense)             (None, 256)               65792     \n",
      "                                                                 \n",
      " dense_3 (Dense)             (None, 256)               65792     \n",
      "                                                                 \n",
      " dense_4 (Dense)             (None, 1)                 257       \n",
      "                                                                 \n",
      "=================================================================\n",
      "Total params: 166,017\n",
      "Trainable params: 166,017\n",
      "Non-trainable params: 0\n",
      "_________________________________________________________________\n"
     ]
    }
   ],
   "source": [
    "NN_model = Sequential()\n",
    "\n",
    "# The Input Layer :\n",
    "NN_model.add(Dense(128, kernel_initializer='normal',input_dim = X.shape[1], activation='relu'))\n",
    "\n",
    "# The Hidden Layers :\n",
    "NN_model.add(Dense(256, kernel_initializer='normal',activation='relu'))\n",
    "NN_model.add(Dense(256, kernel_initializer='normal',activation='relu'))\n",
    "NN_model.add(Dense(256, kernel_initializer='normal',activation='relu'))\n",
    "\n",
    "# The Output Layer :\n",
    "NN_model.add(Dense(1, kernel_initializer='normal',activation='linear'))\n",
    "\n",
    "# Compile the network :\n",
    "NN_model.compile(loss='mean_absolute_error', optimizer='adam', metrics=['mean_absolute_error'])\n",
    "NN_model.summary()"
   ]
  },
  {
   "cell_type": "code",
   "execution_count": 22,
   "metadata": {},
   "outputs": [],
   "source": [
    "checkpoint_name = 'Weights-{epoch}--{val_loss:.5f}.hdf5' \n",
    "checkpoint = ModelCheckpoint(checkpoint_name, monitor='val_loss', verbose = 10, save_best_only = True, mode ='auto')\n",
    "callbacks_list = [checkpoint]"
   ]
  },
  {
   "cell_type": "code",
   "execution_count": 23,
   "metadata": {},
   "outputs": [
    {
     "name": "stdout",
     "output_type": "stream",
     "text": [
      "Epoch 1/500\n",
      "112/136 [=======================>......] - ETA: 0s - loss: 12.5610 - mean_absolute_error: 12.5610\n",
      "Epoch 1: val_loss improved from inf to 12.26200, saving model to Weights-1--12.26200.hdf5\n",
      "136/136 [==============================] - 1s 3ms/step - loss: 12.3642 - mean_absolute_error: 12.3642 - val_loss: 12.2620 - val_mean_absolute_error: 12.2620\n",
      "Epoch 2/500\n",
      "114/136 [========================>.....] - ETA: 0s - loss: 10.9337 - mean_absolute_error: 10.9337\n",
      "Epoch 2: val_loss improved from 12.26200 to 10.95823, saving model to Weights-2--10.95823.hdf5\n",
      "136/136 [==============================] - 0s 2ms/step - loss: 10.9184 - mean_absolute_error: 10.9184 - val_loss: 10.9582 - val_mean_absolute_error: 10.9582\n",
      "Epoch 3/500\n",
      "117/136 [========================>.....] - ETA: 0s - loss: 10.3720 - mean_absolute_error: 10.3720\n",
      "Epoch 3: val_loss improved from 10.95823 to 10.54099, saving model to Weights-3--10.54099.hdf5\n",
      "136/136 [==============================] - 0s 2ms/step - loss: 10.2972 - mean_absolute_error: 10.2972 - val_loss: 10.5410 - val_mean_absolute_error: 10.5410\n",
      "Epoch 4/500\n",
      "114/136 [========================>.....] - ETA: 0s - loss: 9.9978 - mean_absolute_error: 9.9978  \n",
      "Epoch 4: val_loss did not improve from 10.54099\n",
      "136/136 [==============================] - 0s 2ms/step - loss: 10.0931 - mean_absolute_error: 10.0931 - val_loss: 10.9855 - val_mean_absolute_error: 10.9855\n",
      "Epoch 5/500\n",
      "110/136 [=======================>......] - ETA: 0s - loss: 9.7489 - mean_absolute_error: 9.7489\n",
      "Epoch 5: val_loss improved from 10.54099 to 10.06694, saving model to Weights-5--10.06694.hdf5\n",
      "136/136 [==============================] - 0s 2ms/step - loss: 9.7684 - mean_absolute_error: 9.7684 - val_loss: 10.0669 - val_mean_absolute_error: 10.0669\n",
      "Epoch 6/500\n",
      "103/136 [=====================>........] - ETA: 0s - loss: 9.4680 - mean_absolute_error: 9.4680\n",
      "Epoch 6: val_loss did not improve from 10.06694\n",
      "136/136 [==============================] - 0s 2ms/step - loss: 9.5105 - mean_absolute_error: 9.5105 - val_loss: 10.2028 - val_mean_absolute_error: 10.2028\n",
      "Epoch 7/500\n",
      "114/136 [========================>.....] - ETA: 0s - loss: 9.5537 - mean_absolute_error: 9.5537\n",
      "Epoch 7: val_loss improved from 10.06694 to 10.00767, saving model to Weights-7--10.00767.hdf5\n",
      "136/136 [==============================] - 0s 2ms/step - loss: 9.6014 - mean_absolute_error: 9.6014 - val_loss: 10.0077 - val_mean_absolute_error: 10.0077\n",
      "Epoch 8/500\n",
      "109/136 [=======================>......] - ETA: 0s - loss: 9.7423 - mean_absolute_error: 9.7423\n",
      "Epoch 8: val_loss did not improve from 10.00767\n",
      "136/136 [==============================] - 0s 2ms/step - loss: 9.6888 - mean_absolute_error: 9.6888 - val_loss: 10.5641 - val_mean_absolute_error: 10.5641\n",
      "Epoch 9/500\n",
      "115/136 [========================>.....] - ETA: 0s - loss: 9.4134 - mean_absolute_error: 9.4134\n",
      "Epoch 9: val_loss improved from 10.00767 to 9.82375, saving model to Weights-9--9.82375.hdf5\n",
      "136/136 [==============================] - 0s 2ms/step - loss: 9.4654 - mean_absolute_error: 9.4654 - val_loss: 9.8238 - val_mean_absolute_error: 9.8238\n",
      "Epoch 10/500\n",
      "114/136 [========================>.....] - ETA: 0s - loss: 9.4395 - mean_absolute_error: 9.4395\n",
      "Epoch 10: val_loss did not improve from 9.82375\n",
      "136/136 [==============================] - 0s 2ms/step - loss: 9.4763 - mean_absolute_error: 9.4763 - val_loss: 11.0288 - val_mean_absolute_error: 11.0288\n",
      "Epoch 11/500\n",
      "118/136 [=========================>....] - ETA: 0s - loss: 9.4807 - mean_absolute_error: 9.4807\n",
      "Epoch 11: val_loss did not improve from 9.82375\n",
      "136/136 [==============================] - 0s 2ms/step - loss: 9.4986 - mean_absolute_error: 9.4986 - val_loss: 11.0959 - val_mean_absolute_error: 11.0959\n",
      "Epoch 12/500\n",
      "116/136 [========================>.....] - ETA: 0s - loss: 9.5065 - mean_absolute_error: 9.5065\n",
      "Epoch 12: val_loss did not improve from 9.82375\n",
      "136/136 [==============================] - 0s 2ms/step - loss: 9.5404 - mean_absolute_error: 9.5404 - val_loss: 10.1614 - val_mean_absolute_error: 10.1614\n",
      "Epoch 13/500\n",
      "108/136 [======================>.......] - ETA: 0s - loss: 9.5147 - mean_absolute_error: 9.5147\n",
      "Epoch 13: val_loss did not improve from 9.82375\n",
      "136/136 [==============================] - 0s 2ms/step - loss: 9.5630 - mean_absolute_error: 9.5630 - val_loss: 12.2599 - val_mean_absolute_error: 12.2599\n",
      "Epoch 14/500\n",
      "112/136 [=======================>......] - ETA: 0s - loss: 9.4495 - mean_absolute_error: 9.4495\n",
      "Epoch 14: val_loss did not improve from 9.82375\n",
      "136/136 [==============================] - 0s 2ms/step - loss: 9.4003 - mean_absolute_error: 9.4003 - val_loss: 10.2758 - val_mean_absolute_error: 10.2758\n",
      "Epoch 15/500\n",
      "110/136 [=======================>......] - ETA: 0s - loss: 9.2998 - mean_absolute_error: 9.2998\n",
      "Epoch 15: val_loss did not improve from 9.82375\n",
      "136/136 [==============================] - 0s 2ms/step - loss: 9.4165 - mean_absolute_error: 9.4165 - val_loss: 9.9642 - val_mean_absolute_error: 9.9642\n",
      "Epoch 16/500\n",
      "113/136 [=======================>......] - ETA: 0s - loss: 9.4155 - mean_absolute_error: 9.4155\n",
      "Epoch 16: val_loss did not improve from 9.82375\n",
      "136/136 [==============================] - 0s 2ms/step - loss: 9.5238 - mean_absolute_error: 9.5238 - val_loss: 9.9811 - val_mean_absolute_error: 9.9811\n",
      "Epoch 17/500\n",
      "117/136 [========================>.....] - ETA: 0s - loss: 9.4897 - mean_absolute_error: 9.4897\n",
      "Epoch 17: val_loss did not improve from 9.82375\n",
      "136/136 [==============================] - 0s 2ms/step - loss: 9.4457 - mean_absolute_error: 9.4457 - val_loss: 10.0973 - val_mean_absolute_error: 10.0973\n",
      "Epoch 18/500\n",
      "119/136 [=========================>....] - ETA: 0s - loss: 9.3701 - mean_absolute_error: 9.3701\n",
      "Epoch 18: val_loss did not improve from 9.82375\n",
      "136/136 [==============================] - 0s 2ms/step - loss: 9.3805 - mean_absolute_error: 9.3805 - val_loss: 10.4045 - val_mean_absolute_error: 10.4045\n",
      "Epoch 19/500\n",
      "119/136 [=========================>....] - ETA: 0s - loss: 9.2688 - mean_absolute_error: 9.2688\n",
      "Epoch 19: val_loss did not improve from 9.82375\n",
      "136/136 [==============================] - 0s 2ms/step - loss: 9.3688 - mean_absolute_error: 9.3688 - val_loss: 9.9257 - val_mean_absolute_error: 9.9257\n",
      "Epoch 20/500\n",
      "118/136 [=========================>....] - ETA: 0s - loss: 9.4613 - mean_absolute_error: 9.4613\n",
      "Epoch 20: val_loss did not improve from 9.82375\n",
      "136/136 [==============================] - 0s 2ms/step - loss: 9.4794 - mean_absolute_error: 9.4794 - val_loss: 10.9357 - val_mean_absolute_error: 10.9357\n",
      "Epoch 21/500\n",
      "115/136 [========================>.....] - ETA: 0s - loss: 9.5041 - mean_absolute_error: 9.5041\n",
      "Epoch 21: val_loss did not improve from 9.82375\n",
      "136/136 [==============================] - 0s 2ms/step - loss: 9.4688 - mean_absolute_error: 9.4688 - val_loss: 10.3353 - val_mean_absolute_error: 10.3353\n",
      "Epoch 22/500\n",
      "110/136 [=======================>......] - ETA: 0s - loss: 9.2944 - mean_absolute_error: 9.2944\n",
      "Epoch 22: val_loss did not improve from 9.82375\n",
      "136/136 [==============================] - 0s 2ms/step - loss: 9.3800 - mean_absolute_error: 9.3800 - val_loss: 10.1002 - val_mean_absolute_error: 10.1002\n",
      "Epoch 23/500\n",
      "114/136 [========================>.....] - ETA: 0s - loss: 9.5671 - mean_absolute_error: 9.5671\n",
      "Epoch 23: val_loss did not improve from 9.82375\n",
      "136/136 [==============================] - 0s 2ms/step - loss: 9.5126 - mean_absolute_error: 9.5126 - val_loss: 10.5906 - val_mean_absolute_error: 10.5906\n",
      "Epoch 24/500\n",
      "115/136 [========================>.....] - ETA: 0s - loss: 9.4655 - mean_absolute_error: 9.4655\n",
      "Epoch 24: val_loss did not improve from 9.82375\n",
      "136/136 [==============================] - 0s 2ms/step - loss: 9.4815 - mean_absolute_error: 9.4815 - val_loss: 10.0655 - val_mean_absolute_error: 10.0655\n",
      "Epoch 25/500\n",
      "113/136 [=======================>......] - ETA: 0s - loss: 9.2678 - mean_absolute_error: 9.2678\n",
      "Epoch 25: val_loss did not improve from 9.82375\n",
      "136/136 [==============================] - 0s 2ms/step - loss: 9.4480 - mean_absolute_error: 9.4480 - val_loss: 11.1947 - val_mean_absolute_error: 11.1947\n",
      "Epoch 26/500\n",
      "117/136 [========================>.....] - ETA: 0s - loss: 9.1892 - mean_absolute_error: 9.1892\n",
      "Epoch 26: val_loss did not improve from 9.82375\n"
     ]
    },
    {
     "name": "stdout",
     "output_type": "stream",
     "text": [
      "136/136 [==============================] - 0s 2ms/step - loss: 9.3614 - mean_absolute_error: 9.3614 - val_loss: 10.4983 - val_mean_absolute_error: 10.4983\n",
      "Epoch 27/500\n",
      "121/136 [=========================>....] - ETA: 0s - loss: 9.3566 - mean_absolute_error: 9.3566\n",
      "Epoch 27: val_loss did not improve from 9.82375\n",
      "136/136 [==============================] - 0s 2ms/step - loss: 9.3874 - mean_absolute_error: 9.3874 - val_loss: 11.6776 - val_mean_absolute_error: 11.6776\n",
      "Epoch 28/500\n",
      "121/136 [=========================>....] - ETA: 0s - loss: 9.4346 - mean_absolute_error: 9.4346\n",
      "Epoch 28: val_loss did not improve from 9.82375\n",
      "136/136 [==============================] - 0s 2ms/step - loss: 9.4779 - mean_absolute_error: 9.4779 - val_loss: 9.9774 - val_mean_absolute_error: 9.9774\n",
      "Epoch 29/500\n",
      "121/136 [=========================>....] - ETA: 0s - loss: 9.4031 - mean_absolute_error: 9.4031\n",
      "Epoch 29: val_loss did not improve from 9.82375\n",
      "136/136 [==============================] - 0s 2ms/step - loss: 9.4665 - mean_absolute_error: 9.4665 - val_loss: 10.4273 - val_mean_absolute_error: 10.4273\n",
      "Epoch 30/500\n",
      "119/136 [=========================>....] - ETA: 0s - loss: 9.4000 - mean_absolute_error: 9.4000\n",
      "Epoch 30: val_loss did not improve from 9.82375\n",
      "136/136 [==============================] - 0s 2ms/step - loss: 9.3827 - mean_absolute_error: 9.3827 - val_loss: 10.1669 - val_mean_absolute_error: 10.1669\n",
      "Epoch 31/500\n",
      "112/136 [=======================>......] - ETA: 0s - loss: 9.4583 - mean_absolute_error: 9.4583\n",
      "Epoch 31: val_loss did not improve from 9.82375\n",
      "136/136 [==============================] - 0s 2ms/step - loss: 9.4953 - mean_absolute_error: 9.4953 - val_loss: 10.1659 - val_mean_absolute_error: 10.1659\n",
      "Epoch 32/500\n",
      "117/136 [========================>.....] - ETA: 0s - loss: 9.4630 - mean_absolute_error: 9.4630\n",
      "Epoch 32: val_loss improved from 9.82375 to 9.80418, saving model to Weights-32--9.80418.hdf5\n",
      "136/136 [==============================] - 0s 2ms/step - loss: 9.3595 - mean_absolute_error: 9.3595 - val_loss: 9.8042 - val_mean_absolute_error: 9.8042\n",
      "Epoch 33/500\n",
      "116/136 [========================>.....] - ETA: 0s - loss: 9.4728 - mean_absolute_error: 9.4728\n",
      "Epoch 33: val_loss did not improve from 9.80418\n",
      "136/136 [==============================] - 0s 2ms/step - loss: 9.3899 - mean_absolute_error: 9.3899 - val_loss: 9.9115 - val_mean_absolute_error: 9.9115\n",
      "Epoch 34/500\n",
      "115/136 [========================>.....] - ETA: 0s - loss: 9.3732 - mean_absolute_error: 9.3732\n",
      "Epoch 34: val_loss did not improve from 9.80418\n",
      "136/136 [==============================] - 0s 2ms/step - loss: 9.4223 - mean_absolute_error: 9.4223 - val_loss: 9.9289 - val_mean_absolute_error: 9.9289\n",
      "Epoch 35/500\n",
      "118/136 [=========================>....] - ETA: 0s - loss: 9.3504 - mean_absolute_error: 9.3504\n",
      "Epoch 35: val_loss did not improve from 9.80418\n",
      "136/136 [==============================] - 0s 2ms/step - loss: 9.3614 - mean_absolute_error: 9.3614 - val_loss: 9.8879 - val_mean_absolute_error: 9.8879\n",
      "Epoch 36/500\n",
      "121/136 [=========================>....] - ETA: 0s - loss: 9.4910 - mean_absolute_error: 9.4910\n",
      "Epoch 36: val_loss did not improve from 9.80418\n",
      "136/136 [==============================] - 0s 2ms/step - loss: 9.4211 - mean_absolute_error: 9.4211 - val_loss: 10.2421 - val_mean_absolute_error: 10.2421\n",
      "Epoch 37/500\n",
      "117/136 [========================>.....] - ETA: 0s - loss: 9.3250 - mean_absolute_error: 9.3250\n",
      "Epoch 37: val_loss did not improve from 9.80418\n",
      "136/136 [==============================] - 0s 2ms/step - loss: 9.2871 - mean_absolute_error: 9.2871 - val_loss: 9.9873 - val_mean_absolute_error: 9.9873\n",
      "Epoch 38/500\n",
      "113/136 [=======================>......] - ETA: 0s - loss: 9.4383 - mean_absolute_error: 9.4383\n",
      "Epoch 38: val_loss did not improve from 9.80418\n",
      "136/136 [==============================] - 0s 2ms/step - loss: 9.3753 - mean_absolute_error: 9.3753 - val_loss: 10.2301 - val_mean_absolute_error: 10.2301\n",
      "Epoch 39/500\n",
      "118/136 [=========================>....] - ETA: 0s - loss: 9.2857 - mean_absolute_error: 9.2857\n",
      "Epoch 39: val_loss did not improve from 9.80418\n",
      "136/136 [==============================] - 0s 2ms/step - loss: 9.2900 - mean_absolute_error: 9.2900 - val_loss: 9.9634 - val_mean_absolute_error: 9.9634\n",
      "Epoch 40/500\n",
      "117/136 [========================>.....] - ETA: 0s - loss: 9.6211 - mean_absolute_error: 9.6211\n",
      "Epoch 40: val_loss did not improve from 9.80418\n",
      "136/136 [==============================] - 0s 2ms/step - loss: 9.5877 - mean_absolute_error: 9.5877 - val_loss: 10.0171 - val_mean_absolute_error: 10.0171\n",
      "Epoch 41/500\n",
      "113/136 [=======================>......] - ETA: 0s - loss: 9.4411 - mean_absolute_error: 9.4411\n",
      "Epoch 41: val_loss did not improve from 9.80418\n",
      "136/136 [==============================] - 0s 2ms/step - loss: 9.3782 - mean_absolute_error: 9.3782 - val_loss: 9.8238 - val_mean_absolute_error: 9.8238\n",
      "Epoch 42/500\n",
      "117/136 [========================>.....] - ETA: 0s - loss: 9.2372 - mean_absolute_error: 9.2372\n",
      "Epoch 42: val_loss did not improve from 9.80418\n",
      "136/136 [==============================] - 0s 2ms/step - loss: 9.2864 - mean_absolute_error: 9.2864 - val_loss: 10.0566 - val_mean_absolute_error: 10.0566\n",
      "Epoch 43/500\n",
      "115/136 [========================>.....] - ETA: 0s - loss: 9.1984 - mean_absolute_error: 9.1984\n",
      "Epoch 43: val_loss did not improve from 9.80418\n",
      "136/136 [==============================] - 0s 2ms/step - loss: 9.2406 - mean_absolute_error: 9.2406 - val_loss: 10.0402 - val_mean_absolute_error: 10.0402\n",
      "Epoch 44/500\n",
      "119/136 [=========================>....] - ETA: 0s - loss: 9.4161 - mean_absolute_error: 9.4161\n",
      "Epoch 44: val_loss did not improve from 9.80418\n",
      "136/136 [==============================] - 0s 2ms/step - loss: 9.3678 - mean_absolute_error: 9.3678 - val_loss: 10.1226 - val_mean_absolute_error: 10.1226\n",
      "Epoch 45/500\n",
      "120/136 [=========================>....] - ETA: 0s - loss: 9.2729 - mean_absolute_error: 9.2729\n",
      "Epoch 45: val_loss did not improve from 9.80418\n",
      "136/136 [==============================] - 0s 2ms/step - loss: 9.2828 - mean_absolute_error: 9.2828 - val_loss: 10.4483 - val_mean_absolute_error: 10.4483\n",
      "Epoch 46/500\n",
      "118/136 [=========================>....] - ETA: 0s - loss: 9.3614 - mean_absolute_error: 9.3614 \n",
      "Epoch 46: val_loss did not improve from 9.80418\n",
      "136/136 [==============================] - 0s 2ms/step - loss: 9.2822 - mean_absolute_error: 9.2822 - val_loss: 10.0269 - val_mean_absolute_error: 10.0269\n",
      "Epoch 47/500\n",
      "118/136 [=========================>....] - ETA: 0s - loss: 9.5876 - mean_absolute_error: 9.5876\n",
      "Epoch 47: val_loss did not improve from 9.80418\n",
      "136/136 [==============================] - 0s 2ms/step - loss: 9.4899 - mean_absolute_error: 9.4899 - val_loss: 10.0441 - val_mean_absolute_error: 10.0441\n",
      "Epoch 48/500\n",
      "116/136 [========================>.....] - ETA: 0s - loss: 9.2986 - mean_absolute_error: 9.2986\n",
      "Epoch 48: val_loss did not improve from 9.80418\n",
      "136/136 [==============================] - 0s 2ms/step - loss: 9.2506 - mean_absolute_error: 9.2506 - val_loss: 10.3144 - val_mean_absolute_error: 10.3144\n",
      "Epoch 49/500\n",
      "114/136 [========================>.....] - ETA: 0s - loss: 9.2823 - mean_absolute_error: 9.2823\n",
      "Epoch 49: val_loss did not improve from 9.80418\n",
      "136/136 [==============================] - 0s 2ms/step - loss: 9.2336 - mean_absolute_error: 9.2336 - val_loss: 10.2106 - val_mean_absolute_error: 10.2106\n",
      "Epoch 50/500\n",
      "109/136 [=======================>......] - ETA: 0s - loss: 9.3523 - mean_absolute_error: 9.3523\n",
      "Epoch 50: val_loss improved from 9.80418 to 9.79795, saving model to Weights-50--9.79795.hdf5\n",
      "136/136 [==============================] - 0s 2ms/step - loss: 9.3252 - mean_absolute_error: 9.3252 - val_loss: 9.7979 - val_mean_absolute_error: 9.7979\n",
      "Epoch 51/500\n",
      "114/136 [========================>.....] - ETA: 0s - loss: 9.3451 - mean_absolute_error: 9.3451\n",
      "Epoch 51: val_loss did not improve from 9.79795\n",
      "136/136 [==============================] - 0s 2ms/step - loss: 9.2974 - mean_absolute_error: 9.2974 - val_loss: 10.0256 - val_mean_absolute_error: 10.0256\n",
      "Epoch 52/500\n",
      "116/136 [========================>.....] - ETA: 0s - loss: 9.1486 - mean_absolute_error: 9.1486\n",
      "Epoch 52: val_loss did not improve from 9.79795\n",
      "136/136 [==============================] - 0s 2ms/step - loss: 9.2078 - mean_absolute_error: 9.2078 - val_loss: 9.8252 - val_mean_absolute_error: 9.8252\n"
     ]
    },
    {
     "name": "stdout",
     "output_type": "stream",
     "text": [
      "Epoch 53/500\n",
      "119/136 [=========================>....] - ETA: 0s - loss: 9.2457 - mean_absolute_error: 9.2457\n",
      "Epoch 53: val_loss did not improve from 9.79795\n",
      "136/136 [==============================] - 0s 2ms/step - loss: 9.1557 - mean_absolute_error: 9.1557 - val_loss: 10.1536 - val_mean_absolute_error: 10.1536\n",
      "Epoch 54/500\n",
      "120/136 [=========================>....] - ETA: 0s - loss: 9.1831 - mean_absolute_error: 9.1831\n",
      "Epoch 54: val_loss did not improve from 9.79795\n",
      "136/136 [==============================] - 0s 2ms/step - loss: 9.2379 - mean_absolute_error: 9.2379 - val_loss: 10.0024 - val_mean_absolute_error: 10.0024\n",
      "Epoch 55/500\n",
      "118/136 [=========================>....] - ETA: 0s - loss: 9.1497 - mean_absolute_error: 9.1497\n",
      "Epoch 55: val_loss did not improve from 9.79795\n",
      "136/136 [==============================] - 0s 2ms/step - loss: 9.1807 - mean_absolute_error: 9.1807 - val_loss: 9.9972 - val_mean_absolute_error: 9.9972\n",
      "Epoch 56/500\n",
      "120/136 [=========================>....] - ETA: 0s - loss: 9.3068 - mean_absolute_error: 9.3068\n",
      "Epoch 56: val_loss did not improve from 9.79795\n",
      "136/136 [==============================] - 0s 2ms/step - loss: 9.2746 - mean_absolute_error: 9.2746 - val_loss: 9.8528 - val_mean_absolute_error: 9.8528\n",
      "Epoch 57/500\n",
      "117/136 [========================>.....] - ETA: 0s - loss: 9.3169 - mean_absolute_error: 9.3169\n",
      "Epoch 57: val_loss did not improve from 9.79795\n",
      "136/136 [==============================] - 0s 2ms/step - loss: 9.3253 - mean_absolute_error: 9.3253 - val_loss: 9.9739 - val_mean_absolute_error: 9.9739\n",
      "Epoch 58/500\n",
      "116/136 [========================>.....] - ETA: 0s - loss: 9.4184 - mean_absolute_error: 9.4184\n",
      "Epoch 58: val_loss did not improve from 9.79795\n",
      "136/136 [==============================] - 0s 2ms/step - loss: 9.4263 - mean_absolute_error: 9.4263 - val_loss: 9.9207 - val_mean_absolute_error: 9.9207\n",
      "Epoch 59/500\n",
      "115/136 [========================>.....] - ETA: 0s - loss: 9.1582 - mean_absolute_error: 9.1582\n",
      "Epoch 59: val_loss did not improve from 9.79795\n",
      "136/136 [==============================] - 0s 2ms/step - loss: 9.1904 - mean_absolute_error: 9.1904 - val_loss: 10.0930 - val_mean_absolute_error: 10.0930\n",
      "Epoch 60/500\n",
      "113/136 [=======================>......] - ETA: 0s - loss: 9.2574 - mean_absolute_error: 9.2574\n",
      "Epoch 60: val_loss did not improve from 9.79795\n",
      "136/136 [==============================] - 0s 2ms/step - loss: 9.2128 - mean_absolute_error: 9.2128 - val_loss: 9.8265 - val_mean_absolute_error: 9.8265\n",
      "Epoch 61/500\n",
      "120/136 [=========================>....] - ETA: 0s - loss: 9.2488 - mean_absolute_error: 9.2488\n",
      "Epoch 61: val_loss improved from 9.79795 to 9.74993, saving model to Weights-61--9.74993.hdf5\n",
      "136/136 [==============================] - 0s 2ms/step - loss: 9.2072 - mean_absolute_error: 9.2072 - val_loss: 9.7499 - val_mean_absolute_error: 9.7499\n",
      "Epoch 62/500\n",
      "118/136 [=========================>....] - ETA: 0s - loss: 9.1259 - mean_absolute_error: 9.1259\n",
      "Epoch 62: val_loss did not improve from 9.74993\n",
      "136/136 [==============================] - 0s 2ms/step - loss: 9.1088 - mean_absolute_error: 9.1088 - val_loss: 10.4003 - val_mean_absolute_error: 10.4003\n",
      "Epoch 63/500\n",
      "120/136 [=========================>....] - ETA: 0s - loss: 9.2167 - mean_absolute_error: 9.2167\n",
      "Epoch 63: val_loss did not improve from 9.74993\n",
      "136/136 [==============================] - 0s 2ms/step - loss: 9.2320 - mean_absolute_error: 9.2320 - val_loss: 9.7950 - val_mean_absolute_error: 9.7950\n",
      "Epoch 64/500\n",
      "120/136 [=========================>....] - ETA: 0s - loss: 9.2156 - mean_absolute_error: 9.2156\n",
      "Epoch 64: val_loss did not improve from 9.74993\n",
      "136/136 [==============================] - 0s 2ms/step - loss: 9.1548 - mean_absolute_error: 9.1548 - val_loss: 9.8942 - val_mean_absolute_error: 9.8942\n",
      "Epoch 65/500\n",
      "121/136 [=========================>....] - ETA: 0s - loss: 9.2962 - mean_absolute_error: 9.2962\n",
      "Epoch 65: val_loss did not improve from 9.74993\n",
      "136/136 [==============================] - 0s 2ms/step - loss: 9.2870 - mean_absolute_error: 9.2870 - val_loss: 9.9027 - val_mean_absolute_error: 9.9027\n",
      "Epoch 66/500\n",
      "116/136 [========================>.....] - ETA: 0s - loss: 9.2685 - mean_absolute_error: 9.2685\n",
      "Epoch 66: val_loss did not improve from 9.74993\n",
      "136/136 [==============================] - 0s 2ms/step - loss: 9.3572 - mean_absolute_error: 9.3572 - val_loss: 9.9281 - val_mean_absolute_error: 9.9281\n",
      "Epoch 67/500\n",
      "116/136 [========================>.....] - ETA: 0s - loss: 9.1669 - mean_absolute_error: 9.1669\n",
      "Epoch 67: val_loss did not improve from 9.74993\n",
      "136/136 [==============================] - 0s 2ms/step - loss: 9.2051 - mean_absolute_error: 9.2051 - val_loss: 9.8862 - val_mean_absolute_error: 9.8862\n",
      "Epoch 68/500\n",
      "116/136 [========================>.....] - ETA: 0s - loss: 9.2137 - mean_absolute_error: 9.2137\n",
      "Epoch 68: val_loss did not improve from 9.74993\n",
      "136/136 [==============================] - 0s 2ms/step - loss: 9.2166 - mean_absolute_error: 9.2166 - val_loss: 9.9669 - val_mean_absolute_error: 9.9669\n",
      "Epoch 69/500\n",
      "116/136 [========================>.....] - ETA: 0s - loss: 9.0401 - mean_absolute_error: 9.0401\n",
      "Epoch 69: val_loss did not improve from 9.74993\n",
      "136/136 [==============================] - 0s 2ms/step - loss: 9.2083 - mean_absolute_error: 9.2083 - val_loss: 10.7430 - val_mean_absolute_error: 10.7430\n",
      "Epoch 70/500\n",
      "117/136 [========================>.....] - ETA: 0s - loss: 9.3062 - mean_absolute_error: 9.3062\n",
      "Epoch 70: val_loss did not improve from 9.74993\n",
      "136/136 [==============================] - 0s 2ms/step - loss: 9.2356 - mean_absolute_error: 9.2356 - val_loss: 9.9584 - val_mean_absolute_error: 9.9584\n",
      "Epoch 71/500\n",
      "117/136 [========================>.....] - ETA: 0s - loss: 9.1045 - mean_absolute_error: 9.1045\n",
      "Epoch 71: val_loss did not improve from 9.74993\n",
      "136/136 [==============================] - 0s 2ms/step - loss: 9.1871 - mean_absolute_error: 9.1871 - val_loss: 10.5996 - val_mean_absolute_error: 10.5996\n",
      "Epoch 72/500\n",
      "119/136 [=========================>....] - ETA: 0s - loss: 9.3287 - mean_absolute_error: 9.3287\n",
      "Epoch 72: val_loss did not improve from 9.74993\n",
      "136/136 [==============================] - 0s 2ms/step - loss: 9.2650 - mean_absolute_error: 9.2650 - val_loss: 10.5683 - val_mean_absolute_error: 10.5683\n",
      "Epoch 73/500\n",
      "119/136 [=========================>....] - ETA: 0s - loss: 9.2090 - mean_absolute_error: 9.2090\n",
      "Epoch 73: val_loss improved from 9.74993 to 9.70097, saving model to Weights-73--9.70097.hdf5\n",
      "136/136 [==============================] - 0s 2ms/step - loss: 9.2294 - mean_absolute_error: 9.2294 - val_loss: 9.7010 - val_mean_absolute_error: 9.7010\n",
      "Epoch 74/500\n",
      "121/136 [=========================>....] - ETA: 0s - loss: 9.2791 - mean_absolute_error: 9.2791\n",
      "Epoch 74: val_loss did not improve from 9.70097\n",
      "136/136 [==============================] - 0s 2ms/step - loss: 9.3405 - mean_absolute_error: 9.3405 - val_loss: 9.9996 - val_mean_absolute_error: 9.9996\n",
      "Epoch 75/500\n",
      "118/136 [=========================>....] - ETA: 0s - loss: 9.2755 - mean_absolute_error: 9.2755\n",
      "Epoch 75: val_loss did not improve from 9.70097\n",
      "136/136 [==============================] - 0s 2ms/step - loss: 9.1928 - mean_absolute_error: 9.1928 - val_loss: 10.0388 - val_mean_absolute_error: 10.0388\n",
      "Epoch 76/500\n",
      "114/136 [========================>.....] - ETA: 0s - loss: 9.1154 - mean_absolute_error: 9.1154\n",
      "Epoch 76: val_loss did not improve from 9.70097\n",
      "136/136 [==============================] - 0s 2ms/step - loss: 9.1695 - mean_absolute_error: 9.1695 - val_loss: 9.8466 - val_mean_absolute_error: 9.8466\n",
      "Epoch 77/500\n",
      "115/136 [========================>.....] - ETA: 0s - loss: 9.1518 - mean_absolute_error: 9.1518\n",
      "Epoch 77: val_loss did not improve from 9.70097\n",
      "136/136 [==============================] - 0s 2ms/step - loss: 9.1371 - mean_absolute_error: 9.1371 - val_loss: 10.1323 - val_mean_absolute_error: 10.1323\n",
      "Epoch 78/500\n",
      "109/136 [=======================>......] - ETA: 0s - loss: 9.1995 - mean_absolute_error: 9.1995\n",
      "Epoch 78: val_loss did not improve from 9.70097\n",
      "136/136 [==============================] - 0s 2ms/step - loss: 9.1823 - mean_absolute_error: 9.1823 - val_loss: 9.9853 - val_mean_absolute_error: 9.9853\n",
      "Epoch 79/500\n"
     ]
    },
    {
     "name": "stdout",
     "output_type": "stream",
     "text": [
      "115/136 [========================>.....] - ETA: 0s - loss: 9.2500 - mean_absolute_error: 9.2500\n",
      "Epoch 79: val_loss did not improve from 9.70097\n",
      "136/136 [==============================] - 0s 2ms/step - loss: 9.2133 - mean_absolute_error: 9.2133 - val_loss: 9.7536 - val_mean_absolute_error: 9.7536\n",
      "Epoch 80/500\n",
      "115/136 [========================>.....] - ETA: 0s - loss: 9.0978 - mean_absolute_error: 9.0978\n",
      "Epoch 80: val_loss did not improve from 9.70097\n",
      "136/136 [==============================] - 0s 2ms/step - loss: 9.1223 - mean_absolute_error: 9.1223 - val_loss: 9.7641 - val_mean_absolute_error: 9.7641\n",
      "Epoch 81/500\n",
      "121/136 [=========================>....] - ETA: 0s - loss: 9.1795 - mean_absolute_error: 9.1795\n",
      "Epoch 81: val_loss did not improve from 9.70097\n",
      "136/136 [==============================] - 0s 2ms/step - loss: 9.1324 - mean_absolute_error: 9.1324 - val_loss: 10.3172 - val_mean_absolute_error: 10.3172\n",
      "Epoch 82/500\n",
      "122/136 [=========================>....] - ETA: 0s - loss: 9.2727 - mean_absolute_error: 9.2727\n",
      "Epoch 82: val_loss did not improve from 9.70097\n",
      "136/136 [==============================] - 0s 2ms/step - loss: 9.2350 - mean_absolute_error: 9.2350 - val_loss: 10.0367 - val_mean_absolute_error: 10.0367\n",
      "Epoch 83/500\n",
      "117/136 [========================>.....] - ETA: 0s - loss: 9.1942 - mean_absolute_error: 9.1942\n",
      "Epoch 83: val_loss did not improve from 9.70097\n",
      "136/136 [==============================] - 0s 2ms/step - loss: 9.2562 - mean_absolute_error: 9.2562 - val_loss: 9.8802 - val_mean_absolute_error: 9.8802\n",
      "Epoch 84/500\n",
      "120/136 [=========================>....] - ETA: 0s - loss: 9.2172 - mean_absolute_error: 9.2172\n",
      "Epoch 84: val_loss did not improve from 9.70097\n",
      "136/136 [==============================] - 0s 2ms/step - loss: 9.2136 - mean_absolute_error: 9.2136 - val_loss: 10.2622 - val_mean_absolute_error: 10.2622\n",
      "Epoch 85/500\n",
      "119/136 [=========================>....] - ETA: 0s - loss: 9.3357 - mean_absolute_error: 9.3357\n",
      "Epoch 85: val_loss did not improve from 9.70097\n",
      "136/136 [==============================] - 0s 2ms/step - loss: 9.2954 - mean_absolute_error: 9.2954 - val_loss: 10.0529 - val_mean_absolute_error: 10.0529\n",
      "Epoch 86/500\n",
      "115/136 [========================>.....] - ETA: 0s - loss: 9.2072 - mean_absolute_error: 9.2072\n",
      "Epoch 86: val_loss did not improve from 9.70097\n",
      "136/136 [==============================] - 0s 2ms/step - loss: 9.1747 - mean_absolute_error: 9.1747 - val_loss: 9.7161 - val_mean_absolute_error: 9.7161\n",
      "Epoch 87/500\n",
      "117/136 [========================>.....] - ETA: 0s - loss: 9.1604 - mean_absolute_error: 9.1604\n",
      "Epoch 87: val_loss did not improve from 9.70097\n",
      "136/136 [==============================] - 0s 2ms/step - loss: 9.1591 - mean_absolute_error: 9.1591 - val_loss: 10.4416 - val_mean_absolute_error: 10.4416\n",
      "Epoch 88/500\n",
      "115/136 [========================>.....] - ETA: 0s - loss: 9.1858 - mean_absolute_error: 9.1858\n",
      "Epoch 88: val_loss did not improve from 9.70097\n",
      "136/136 [==============================] - 0s 2ms/step - loss: 9.2002 - mean_absolute_error: 9.2002 - val_loss: 10.1016 - val_mean_absolute_error: 10.1016\n",
      "Epoch 89/500\n",
      "117/136 [========================>.....] - ETA: 0s - loss: 9.3620 - mean_absolute_error: 9.3620\n",
      "Epoch 89: val_loss did not improve from 9.70097\n",
      "136/136 [==============================] - 0s 2ms/step - loss: 9.2739 - mean_absolute_error: 9.2739 - val_loss: 10.0849 - val_mean_absolute_error: 10.0849\n",
      "Epoch 90/500\n",
      "121/136 [=========================>....] - ETA: 0s - loss: 9.1672 - mean_absolute_error: 9.1672\n",
      "Epoch 90: val_loss did not improve from 9.70097\n",
      "136/136 [==============================] - 0s 2ms/step - loss: 9.1609 - mean_absolute_error: 9.1609 - val_loss: 9.7250 - val_mean_absolute_error: 9.7250\n",
      "Epoch 91/500\n",
      "112/136 [=======================>......] - ETA: 0s - loss: 9.0510 - mean_absolute_error: 9.0510\n",
      "Epoch 91: val_loss did not improve from 9.70097\n",
      "136/136 [==============================] - 0s 2ms/step - loss: 9.1725 - mean_absolute_error: 9.1725 - val_loss: 10.2104 - val_mean_absolute_error: 10.2104\n",
      "Epoch 92/500\n",
      "121/136 [=========================>....] - ETA: 0s - loss: 9.1306 - mean_absolute_error: 9.1306\n",
      "Epoch 92: val_loss did not improve from 9.70097\n",
      "136/136 [==============================] - 0s 2ms/step - loss: 9.0877 - mean_absolute_error: 9.0877 - val_loss: 9.8734 - val_mean_absolute_error: 9.8734\n",
      "Epoch 93/500\n",
      "118/136 [=========================>....] - ETA: 0s - loss: 9.0612 - mean_absolute_error: 9.0612\n",
      "Epoch 93: val_loss did not improve from 9.70097\n",
      "136/136 [==============================] - 0s 2ms/step - loss: 9.1069 - mean_absolute_error: 9.1069 - val_loss: 9.9042 - val_mean_absolute_error: 9.9042\n",
      "Epoch 94/500\n",
      "114/136 [========================>.....] - ETA: 0s - loss: 9.2857 - mean_absolute_error: 9.2857\n",
      "Epoch 94: val_loss did not improve from 9.70097\n",
      "136/136 [==============================] - 0s 2ms/step - loss: 9.2036 - mean_absolute_error: 9.2036 - val_loss: 9.9352 - val_mean_absolute_error: 9.9352\n",
      "Epoch 95/500\n",
      "112/136 [=======================>......] - ETA: 0s - loss: 9.2384 - mean_absolute_error: 9.2384\n",
      "Epoch 95: val_loss did not improve from 9.70097\n",
      "136/136 [==============================] - 0s 2ms/step - loss: 9.1488 - mean_absolute_error: 9.1488 - val_loss: 10.4700 - val_mean_absolute_error: 10.4700\n",
      "Epoch 96/500\n",
      "110/136 [=======================>......] - ETA: 0s - loss: 9.1934 - mean_absolute_error: 9.1934\n",
      "Epoch 96: val_loss did not improve from 9.70097\n",
      "136/136 [==============================] - 0s 2ms/step - loss: 9.1669 - mean_absolute_error: 9.1669 - val_loss: 10.0509 - val_mean_absolute_error: 10.0509\n",
      "Epoch 97/500\n",
      "116/136 [========================>.....] - ETA: 0s - loss: 9.1233 - mean_absolute_error: 9.1233\n",
      "Epoch 97: val_loss did not improve from 9.70097\n",
      "136/136 [==============================] - 0s 2ms/step - loss: 9.1190 - mean_absolute_error: 9.1190 - val_loss: 9.9358 - val_mean_absolute_error: 9.9358\n",
      "Epoch 98/500\n",
      "115/136 [========================>.....] - ETA: 0s - loss: 9.0827 - mean_absolute_error: 9.0827\n",
      "Epoch 98: val_loss did not improve from 9.70097\n",
      "136/136 [==============================] - 0s 2ms/step - loss: 9.1119 - mean_absolute_error: 9.1119 - val_loss: 9.9276 - val_mean_absolute_error: 9.9276\n",
      "Epoch 99/500\n",
      "119/136 [=========================>....] - ETA: 0s - loss: 9.1292 - mean_absolute_error: 9.1292\n",
      "Epoch 99: val_loss did not improve from 9.70097\n",
      "136/136 [==============================] - 0s 2ms/step - loss: 9.1424 - mean_absolute_error: 9.1424 - val_loss: 10.0077 - val_mean_absolute_error: 10.0077\n",
      "Epoch 100/500\n",
      "118/136 [=========================>....] - ETA: 0s - loss: 9.1885 - mean_absolute_error: 9.1885\n",
      "Epoch 100: val_loss did not improve from 9.70097\n",
      "136/136 [==============================] - 0s 2ms/step - loss: 9.2099 - mean_absolute_error: 9.2099 - val_loss: 9.9635 - val_mean_absolute_error: 9.9635\n",
      "Epoch 101/500\n",
      "120/136 [=========================>....] - ETA: 0s - loss: 9.1501 - mean_absolute_error: 9.1501\n",
      "Epoch 101: val_loss did not improve from 9.70097\n",
      "136/136 [==============================] - 0s 2ms/step - loss: 9.0942 - mean_absolute_error: 9.0942 - val_loss: 10.0494 - val_mean_absolute_error: 10.0494\n",
      "Epoch 102/500\n",
      "115/136 [========================>.....] - ETA: 0s - loss: 9.1655 - mean_absolute_error: 9.1655\n",
      "Epoch 102: val_loss did not improve from 9.70097\n",
      "136/136 [==============================] - 0s 2ms/step - loss: 9.1386 - mean_absolute_error: 9.1386 - val_loss: 10.0706 - val_mean_absolute_error: 10.0706\n",
      "Epoch 103/500\n",
      "116/136 [========================>.....] - ETA: 0s - loss: 9.0345 - mean_absolute_error: 9.0345\n",
      "Epoch 103: val_loss did not improve from 9.70097\n",
      "136/136 [==============================] - 0s 2ms/step - loss: 9.0537 - mean_absolute_error: 9.0537 - val_loss: 9.8303 - val_mean_absolute_error: 9.8303\n",
      "Epoch 104/500\n",
      "114/136 [========================>.....] - ETA: 0s - loss: 9.0255 - mean_absolute_error: 9.0255\n",
      "Epoch 104: val_loss did not improve from 9.70097\n",
      "136/136 [==============================] - 0s 2ms/step - loss: 9.1185 - mean_absolute_error: 9.1185 - val_loss: 9.8704 - val_mean_absolute_error: 9.8704\n",
      "Epoch 105/500\n"
     ]
    },
    {
     "name": "stdout",
     "output_type": "stream",
     "text": [
      "116/136 [========================>.....] - ETA: 0s - loss: 9.1714 - mean_absolute_error: 9.1714\n",
      "Epoch 105: val_loss did not improve from 9.70097\n",
      "136/136 [==============================] - 0s 2ms/step - loss: 9.1991 - mean_absolute_error: 9.1991 - val_loss: 9.7232 - val_mean_absolute_error: 9.7232\n",
      "Epoch 106/500\n",
      "112/136 [=======================>......] - ETA: 0s - loss: 9.1621 - mean_absolute_error: 9.1621\n",
      "Epoch 106: val_loss did not improve from 9.70097\n",
      "136/136 [==============================] - 0s 2ms/step - loss: 9.1279 - mean_absolute_error: 9.1279 - val_loss: 9.8904 - val_mean_absolute_error: 9.8904\n",
      "Epoch 107/500\n",
      "116/136 [========================>.....] - ETA: 0s - loss: 9.1615 - mean_absolute_error: 9.1615\n",
      "Epoch 107: val_loss did not improve from 9.70097\n",
      "136/136 [==============================] - 0s 2ms/step - loss: 9.1021 - mean_absolute_error: 9.1021 - val_loss: 9.9701 - val_mean_absolute_error: 9.9701\n",
      "Epoch 108/500\n",
      "120/136 [=========================>....] - ETA: 0s - loss: 9.1990 - mean_absolute_error: 9.1990\n",
      "Epoch 108: val_loss did not improve from 9.70097\n",
      "136/136 [==============================] - 0s 2ms/step - loss: 9.1676 - mean_absolute_error: 9.1676 - val_loss: 9.7638 - val_mean_absolute_error: 9.7638\n",
      "Epoch 109/500\n",
      "119/136 [=========================>....] - ETA: 0s - loss: 9.1364 - mean_absolute_error: 9.1364\n",
      "Epoch 109: val_loss did not improve from 9.70097\n",
      "136/136 [==============================] - 0s 2ms/step - loss: 9.0981 - mean_absolute_error: 9.0981 - val_loss: 9.8393 - val_mean_absolute_error: 9.8393\n",
      "Epoch 110/500\n",
      "121/136 [=========================>....] - ETA: 0s - loss: 9.0654 - mean_absolute_error: 9.0654\n",
      "Epoch 110: val_loss did not improve from 9.70097\n",
      "136/136 [==============================] - 0s 2ms/step - loss: 9.0315 - mean_absolute_error: 9.0315 - val_loss: 9.8547 - val_mean_absolute_error: 9.8547\n",
      "Epoch 111/500\n",
      "117/136 [========================>.....] - ETA: 0s - loss: 9.0482 - mean_absolute_error: 9.0482\n",
      "Epoch 111: val_loss did not improve from 9.70097\n",
      "136/136 [==============================] - 0s 2ms/step - loss: 9.1029 - mean_absolute_error: 9.1029 - val_loss: 9.9365 - val_mean_absolute_error: 9.9365\n",
      "Epoch 112/500\n",
      "116/136 [========================>.....] - ETA: 0s - loss: 9.0329 - mean_absolute_error: 9.0329\n",
      "Epoch 112: val_loss did not improve from 9.70097\n",
      "136/136 [==============================] - 0s 2ms/step - loss: 9.0290 - mean_absolute_error: 9.0290 - val_loss: 9.7228 - val_mean_absolute_error: 9.7228\n",
      "Epoch 113/500\n",
      "119/136 [=========================>....] - ETA: 0s - loss: 9.1163 - mean_absolute_error: 9.1163\n",
      "Epoch 113: val_loss did not improve from 9.70097\n",
      "136/136 [==============================] - 0s 2ms/step - loss: 9.0855 - mean_absolute_error: 9.0855 - val_loss: 9.7139 - val_mean_absolute_error: 9.7139\n",
      "Epoch 114/500\n",
      "107/136 [======================>.......] - ETA: 0s - loss: 9.0236 - mean_absolute_error: 9.0236\n",
      "Epoch 114: val_loss did not improve from 9.70097\n",
      "136/136 [==============================] - 0s 2ms/step - loss: 9.0998 - mean_absolute_error: 9.0998 - val_loss: 9.8553 - val_mean_absolute_error: 9.8553\n",
      "Epoch 115/500\n",
      "117/136 [========================>.....] - ETA: 0s - loss: 8.9831 - mean_absolute_error: 8.9831\n",
      "Epoch 115: val_loss did not improve from 9.70097\n",
      "136/136 [==============================] - 0s 2ms/step - loss: 9.0500 - mean_absolute_error: 9.0500 - val_loss: 9.9498 - val_mean_absolute_error: 9.9498\n",
      "Epoch 116/500\n",
      "116/136 [========================>.....] - ETA: 0s - loss: 9.0425 - mean_absolute_error: 9.0425\n",
      "Epoch 116: val_loss did not improve from 9.70097\n",
      "136/136 [==============================] - 0s 2ms/step - loss: 9.0657 - mean_absolute_error: 9.0657 - val_loss: 9.7653 - val_mean_absolute_error: 9.7653\n",
      "Epoch 117/500\n",
      "119/136 [=========================>....] - ETA: 0s - loss: 9.0516 - mean_absolute_error: 9.0516\n",
      "Epoch 117: val_loss did not improve from 9.70097\n",
      "136/136 [==============================] - 0s 2ms/step - loss: 9.0357 - mean_absolute_error: 9.0357 - val_loss: 9.7568 - val_mean_absolute_error: 9.7568\n",
      "Epoch 118/500\n",
      "118/136 [=========================>....] - ETA: 0s - loss: 9.0796 - mean_absolute_error: 9.0796\n",
      "Epoch 118: val_loss did not improve from 9.70097\n",
      "136/136 [==============================] - 0s 2ms/step - loss: 9.0919 - mean_absolute_error: 9.0919 - val_loss: 9.9464 - val_mean_absolute_error: 9.9464\n",
      "Epoch 119/500\n",
      "120/136 [=========================>....] - ETA: 0s - loss: 9.2377 - mean_absolute_error: 9.2377\n",
      "Epoch 119: val_loss did not improve from 9.70097\n",
      "136/136 [==============================] - 0s 2ms/step - loss: 9.1146 - mean_absolute_error: 9.1146 - val_loss: 9.8220 - val_mean_absolute_error: 9.8220\n",
      "Epoch 120/500\n",
      "119/136 [=========================>....] - ETA: 0s - loss: 9.0431 - mean_absolute_error: 9.0431\n",
      "Epoch 120: val_loss did not improve from 9.70097\n",
      "136/136 [==============================] - 0s 2ms/step - loss: 9.0576 - mean_absolute_error: 9.0576 - val_loss: 9.7449 - val_mean_absolute_error: 9.7449\n",
      "Epoch 121/500\n",
      "117/136 [========================>.....] - ETA: 0s - loss: 8.9801 - mean_absolute_error: 8.9801\n",
      "Epoch 121: val_loss did not improve from 9.70097\n",
      "136/136 [==============================] - 0s 2ms/step - loss: 9.0312 - mean_absolute_error: 9.0312 - val_loss: 9.7792 - val_mean_absolute_error: 9.7792\n",
      "Epoch 122/500\n",
      "115/136 [========================>.....] - ETA: 0s - loss: 8.9890 - mean_absolute_error: 8.9890\n",
      "Epoch 122: val_loss did not improve from 9.70097\n",
      "136/136 [==============================] - 0s 2ms/step - loss: 9.0302 - mean_absolute_error: 9.0302 - val_loss: 10.0310 - val_mean_absolute_error: 10.0310\n",
      "Epoch 123/500\n",
      "114/136 [========================>.....] - ETA: 0s - loss: 9.0934 - mean_absolute_error: 9.0934\n",
      "Epoch 123: val_loss did not improve from 9.70097\n",
      "136/136 [==============================] - 0s 2ms/step - loss: 9.1489 - mean_absolute_error: 9.1489 - val_loss: 10.0780 - val_mean_absolute_error: 10.0780\n",
      "Epoch 124/500\n",
      "115/136 [========================>.....] - ETA: 0s - loss: 9.1066 - mean_absolute_error: 9.1066\n",
      "Epoch 124: val_loss did not improve from 9.70097\n",
      "136/136 [==============================] - 0s 2ms/step - loss: 9.0278 - mean_absolute_error: 9.0278 - val_loss: 10.4064 - val_mean_absolute_error: 10.4064\n",
      "Epoch 125/500\n",
      "113/136 [=======================>......] - ETA: 0s - loss: 9.1041 - mean_absolute_error: 9.1041\n",
      "Epoch 125: val_loss did not improve from 9.70097\n",
      "136/136 [==============================] - 0s 2ms/step - loss: 9.0470 - mean_absolute_error: 9.0470 - val_loss: 9.9197 - val_mean_absolute_error: 9.9197\n",
      "Epoch 126/500\n",
      "118/136 [=========================>....] - ETA: 0s - loss: 9.0887 - mean_absolute_error: 9.0887\n",
      "Epoch 126: val_loss did not improve from 9.70097\n",
      "136/136 [==============================] - 0s 2ms/step - loss: 9.0315 - mean_absolute_error: 9.0315 - val_loss: 10.0154 - val_mean_absolute_error: 10.0154\n",
      "Epoch 127/500\n",
      "119/136 [=========================>....] - ETA: 0s - loss: 9.1243 - mean_absolute_error: 9.1243\n",
      "Epoch 127: val_loss did not improve from 9.70097\n",
      "136/136 [==============================] - 0s 2ms/step - loss: 9.0617 - mean_absolute_error: 9.0617 - val_loss: 10.2706 - val_mean_absolute_error: 10.2706\n",
      "Epoch 128/500\n",
      "117/136 [========================>.....] - ETA: 0s - loss: 9.1369 - mean_absolute_error: 9.1369\n",
      "Epoch 128: val_loss did not improve from 9.70097\n",
      "136/136 [==============================] - 0s 2ms/step - loss: 9.0576 - mean_absolute_error: 9.0576 - val_loss: 9.8295 - val_mean_absolute_error: 9.8295\n",
      "Epoch 129/500\n",
      "116/136 [========================>.....] - ETA: 0s - loss: 9.0894 - mean_absolute_error: 9.0894\n",
      "Epoch 129: val_loss did not improve from 9.70097\n",
      "136/136 [==============================] - 0s 2ms/step - loss: 9.0755 - mean_absolute_error: 9.0755 - val_loss: 9.7574 - val_mean_absolute_error: 9.7574\n",
      "Epoch 130/500\n",
      "117/136 [========================>.....] - ETA: 0s - loss: 9.0629 - mean_absolute_error: 9.0629\n",
      "Epoch 130: val_loss did not improve from 9.70097\n",
      "136/136 [==============================] - 0s 2ms/step - loss: 9.0989 - mean_absolute_error: 9.0989 - val_loss: 9.9219 - val_mean_absolute_error: 9.9219\n",
      "Epoch 131/500\n"
     ]
    },
    {
     "name": "stdout",
     "output_type": "stream",
     "text": [
      "111/136 [=======================>......] - ETA: 0s - loss: 8.9446 - mean_absolute_error: 8.9446\n",
      "Epoch 131: val_loss did not improve from 9.70097\n",
      "136/136 [==============================] - 0s 2ms/step - loss: 8.9971 - mean_absolute_error: 8.9971 - val_loss: 9.7030 - val_mean_absolute_error: 9.7030\n",
      "Epoch 132/500\n",
      "112/136 [=======================>......] - ETA: 0s - loss: 9.1631 - mean_absolute_error: 9.1631\n",
      "Epoch 132: val_loss did not improve from 9.70097\n",
      "136/136 [==============================] - 0s 2ms/step - loss: 9.1131 - mean_absolute_error: 9.1131 - val_loss: 9.7097 - val_mean_absolute_error: 9.7097\n",
      "Epoch 133/500\n",
      "117/136 [========================>.....] - ETA: 0s - loss: 8.9771 - mean_absolute_error: 8.9771\n",
      "Epoch 133: val_loss did not improve from 9.70097\n",
      "136/136 [==============================] - 0s 2ms/step - loss: 8.9452 - mean_absolute_error: 8.9452 - val_loss: 9.8432 - val_mean_absolute_error: 9.8432\n",
      "Epoch 134/500\n",
      "117/136 [========================>.....] - ETA: 0s - loss: 8.9694 - mean_absolute_error: 8.9694\n",
      "Epoch 134: val_loss did not improve from 9.70097\n",
      "136/136 [==============================] - 0s 2ms/step - loss: 9.0105 - mean_absolute_error: 9.0105 - val_loss: 9.9468 - val_mean_absolute_error: 9.9468\n",
      "Epoch 135/500\n",
      "121/136 [=========================>....] - ETA: 0s - loss: 9.0679 - mean_absolute_error: 9.0679\n",
      "Epoch 135: val_loss did not improve from 9.70097\n",
      "136/136 [==============================] - 0s 2ms/step - loss: 9.0593 - mean_absolute_error: 9.0593 - val_loss: 9.9356 - val_mean_absolute_error: 9.9356\n",
      "Epoch 136/500\n",
      "119/136 [=========================>....] - ETA: 0s - loss: 9.1175 - mean_absolute_error: 9.1175\n",
      "Epoch 136: val_loss did not improve from 9.70097\n",
      "136/136 [==============================] - 0s 2ms/step - loss: 9.1158 - mean_absolute_error: 9.1158 - val_loss: 10.0982 - val_mean_absolute_error: 10.0982\n",
      "Epoch 137/500\n",
      "119/136 [=========================>....] - ETA: 0s - loss: 9.0501 - mean_absolute_error: 9.0501\n",
      "Epoch 137: val_loss did not improve from 9.70097\n",
      "136/136 [==============================] - 0s 2ms/step - loss: 9.0441 - mean_absolute_error: 9.0441 - val_loss: 9.8764 - val_mean_absolute_error: 9.8764\n",
      "Epoch 138/500\n",
      "122/136 [=========================>....] - ETA: 0s - loss: 8.9878 - mean_absolute_error: 8.9878\n",
      "Epoch 138: val_loss did not improve from 9.70097\n",
      "136/136 [==============================] - 0s 2ms/step - loss: 8.9751 - mean_absolute_error: 8.9751 - val_loss: 9.8935 - val_mean_absolute_error: 9.8935\n",
      "Epoch 139/500\n",
      "117/136 [========================>.....] - ETA: 0s - loss: 8.9470 - mean_absolute_error: 8.9470\n",
      "Epoch 139: val_loss did not improve from 9.70097\n",
      "136/136 [==============================] - 0s 2ms/step - loss: 8.9986 - mean_absolute_error: 8.9986 - val_loss: 10.0215 - val_mean_absolute_error: 10.0215\n",
      "Epoch 140/500\n",
      "114/136 [========================>.....] - ETA: 0s - loss: 9.1117 - mean_absolute_error: 9.1117\n",
      "Epoch 140: val_loss did not improve from 9.70097\n",
      "136/136 [==============================] - 0s 2ms/step - loss: 9.1201 - mean_absolute_error: 9.1201 - val_loss: 10.4715 - val_mean_absolute_error: 10.4715\n",
      "Epoch 141/500\n",
      "115/136 [========================>.....] - ETA: 0s - loss: 9.0790 - mean_absolute_error: 9.0790\n",
      "Epoch 141: val_loss did not improve from 9.70097\n",
      "136/136 [==============================] - 0s 2ms/step - loss: 9.0348 - mean_absolute_error: 9.0348 - val_loss: 9.7292 - val_mean_absolute_error: 9.7292\n",
      "Epoch 142/500\n",
      "114/136 [========================>.....] - ETA: 0s - loss: 9.0135 - mean_absolute_error: 9.0135\n",
      "Epoch 142: val_loss did not improve from 9.70097\n",
      "136/136 [==============================] - 0s 2ms/step - loss: 9.0341 - mean_absolute_error: 9.0341 - val_loss: 10.0042 - val_mean_absolute_error: 10.0042\n",
      "Epoch 143/500\n",
      "107/136 [======================>.......] - ETA: 0s - loss: 9.1694 - mean_absolute_error: 9.1694\n",
      "Epoch 143: val_loss did not improve from 9.70097\n",
      "136/136 [==============================] - 0s 2ms/step - loss: 9.0071 - mean_absolute_error: 9.0071 - val_loss: 9.8118 - val_mean_absolute_error: 9.8118\n",
      "Epoch 144/500\n",
      "117/136 [========================>.....] - ETA: 0s - loss: 9.1367 - mean_absolute_error: 9.1367\n",
      "Epoch 144: val_loss did not improve from 9.70097\n",
      "136/136 [==============================] - 0s 2ms/step - loss: 9.0916 - mean_absolute_error: 9.0916 - val_loss: 9.8321 - val_mean_absolute_error: 9.8321\n",
      "Epoch 145/500\n",
      "113/136 [=======================>......] - ETA: 0s - loss: 9.0096 - mean_absolute_error: 9.0096\n",
      "Epoch 145: val_loss did not improve from 9.70097\n",
      "136/136 [==============================] - 0s 2ms/step - loss: 9.0253 - mean_absolute_error: 9.0253 - val_loss: 9.9198 - val_mean_absolute_error: 9.9198\n",
      "Epoch 146/500\n",
      "112/136 [=======================>......] - ETA: 0s - loss: 9.0418 - mean_absolute_error: 9.0418\n",
      "Epoch 146: val_loss did not improve from 9.70097\n",
      "136/136 [==============================] - 0s 2ms/step - loss: 9.0369 - mean_absolute_error: 9.0369 - val_loss: 9.8219 - val_mean_absolute_error: 9.8219\n",
      "Epoch 147/500\n",
      "116/136 [========================>.....] - ETA: 0s - loss: 8.9687 - mean_absolute_error: 8.9687\n",
      "Epoch 147: val_loss did not improve from 9.70097\n",
      "136/136 [==============================] - 0s 2ms/step - loss: 9.0519 - mean_absolute_error: 9.0519 - val_loss: 9.9339 - val_mean_absolute_error: 9.9339\n",
      "Epoch 148/500\n",
      "111/136 [=======================>......] - ETA: 0s - loss: 8.9388 - mean_absolute_error: 8.9388\n",
      "Epoch 148: val_loss did not improve from 9.70097\n",
      "136/136 [==============================] - 0s 2ms/step - loss: 8.9908 - mean_absolute_error: 8.9908 - val_loss: 9.7535 - val_mean_absolute_error: 9.7535\n",
      "Epoch 149/500\n",
      "108/136 [======================>.......] - ETA: 0s - loss: 9.0786 - mean_absolute_error: 9.0786\n",
      "Epoch 149: val_loss did not improve from 9.70097\n",
      "136/136 [==============================] - 0s 2ms/step - loss: 8.9704 - mean_absolute_error: 8.9704 - val_loss: 10.0483 - val_mean_absolute_error: 10.0483\n",
      "Epoch 150/500\n",
      "126/136 [==========================>...] - ETA: 0s - loss: 8.9964 - mean_absolute_error: 8.9964\n",
      "Epoch 150: val_loss did not improve from 9.70097\n",
      "136/136 [==============================] - 0s 2ms/step - loss: 9.0438 - mean_absolute_error: 9.0438 - val_loss: 9.8337 - val_mean_absolute_error: 9.8337\n",
      "Epoch 151/500\n",
      "132/136 [============================>.] - ETA: 0s - loss: 9.0909 - mean_absolute_error: 9.0909\n",
      "Epoch 151: val_loss improved from 9.70097 to 9.66185, saving model to Weights-151--9.66185.hdf5\n",
      "136/136 [==============================] - 0s 2ms/step - loss: 9.1005 - mean_absolute_error: 9.1005 - val_loss: 9.6618 - val_mean_absolute_error: 9.6618\n",
      "Epoch 152/500\n",
      "104/136 [=====================>........] - ETA: 0s - loss: 9.0163 - mean_absolute_error: 9.0163\n",
      "Epoch 152: val_loss did not improve from 9.66185\n",
      "136/136 [==============================] - 0s 2ms/step - loss: 9.0544 - mean_absolute_error: 9.0544 - val_loss: 10.0009 - val_mean_absolute_error: 10.0009\n",
      "Epoch 153/500\n",
      "105/136 [======================>.......] - ETA: 0s - loss: 8.9791 - mean_absolute_error: 8.9791\n",
      "Epoch 153: val_loss did not improve from 9.66185\n",
      "136/136 [==============================] - 0s 2ms/step - loss: 8.9349 - mean_absolute_error: 8.9349 - val_loss: 9.9611 - val_mean_absolute_error: 9.9611\n",
      "Epoch 154/500\n",
      "105/136 [======================>.......] - ETA: 0s - loss: 9.1715 - mean_absolute_error: 9.1715\n",
      "Epoch 154: val_loss did not improve from 9.66185\n",
      "136/136 [==============================] - 0s 2ms/step - loss: 9.0691 - mean_absolute_error: 9.0691 - val_loss: 10.0749 - val_mean_absolute_error: 10.0749\n",
      "Epoch 155/500\n",
      "104/136 [=====================>........] - ETA: 0s - loss: 9.0581 - mean_absolute_error: 9.0581\n",
      "Epoch 155: val_loss did not improve from 9.66185\n",
      "136/136 [==============================] - 0s 2ms/step - loss: 9.0157 - mean_absolute_error: 9.0157 - val_loss: 9.7266 - val_mean_absolute_error: 9.7266\n",
      "Epoch 156/500\n",
      "104/136 [=====================>........] - ETA: 0s - loss: 9.1145 - mean_absolute_error: 9.1145\n",
      "Epoch 156: val_loss did not improve from 9.66185\n",
      "136/136 [==============================] - 0s 2ms/step - loss: 8.9998 - mean_absolute_error: 8.9998 - val_loss: 9.8761 - val_mean_absolute_error: 9.8761\n",
      "Epoch 157/500\n"
     ]
    },
    {
     "name": "stdout",
     "output_type": "stream",
     "text": [
      "133/136 [============================>.] - ETA: 0s - loss: 8.9885 - mean_absolute_error: 8.9885\n",
      "Epoch 157: val_loss did not improve from 9.66185\n",
      "136/136 [==============================] - 0s 2ms/step - loss: 9.0008 - mean_absolute_error: 9.0008 - val_loss: 9.9193 - val_mean_absolute_error: 9.9193\n",
      "Epoch 158/500\n",
      "114/136 [========================>.....] - ETA: 0s - loss: 9.0857 - mean_absolute_error: 9.0857\n",
      "Epoch 158: val_loss did not improve from 9.66185\n",
      "136/136 [==============================] - 0s 2ms/step - loss: 9.0446 - mean_absolute_error: 9.0446 - val_loss: 10.2612 - val_mean_absolute_error: 10.2612\n",
      "Epoch 159/500\n",
      "117/136 [========================>.....] - ETA: 0s - loss: 8.9550 - mean_absolute_error: 8.9550\n",
      "Epoch 159: val_loss did not improve from 9.66185\n",
      "136/136 [==============================] - 0s 2ms/step - loss: 8.9819 - mean_absolute_error: 8.9819 - val_loss: 10.1886 - val_mean_absolute_error: 10.1886\n",
      "Epoch 160/500\n",
      "114/136 [========================>.....] - ETA: 0s - loss: 8.9470 - mean_absolute_error: 8.9470\n",
      "Epoch 160: val_loss did not improve from 9.66185\n",
      "136/136 [==============================] - 0s 2ms/step - loss: 8.9983 - mean_absolute_error: 8.9983 - val_loss: 9.6667 - val_mean_absolute_error: 9.6667\n",
      "Epoch 161/500\n",
      "120/136 [=========================>....] - ETA: 0s - loss: 8.9023 - mean_absolute_error: 8.9023\n",
      "Epoch 161: val_loss did not improve from 9.66185\n",
      "136/136 [==============================] - 0s 2ms/step - loss: 8.9766 - mean_absolute_error: 8.9766 - val_loss: 10.8263 - val_mean_absolute_error: 10.8263\n",
      "Epoch 162/500\n",
      "119/136 [=========================>....] - ETA: 0s - loss: 8.9383 - mean_absolute_error: 8.9383\n",
      "Epoch 162: val_loss did not improve from 9.66185\n",
      "136/136 [==============================] - 0s 2ms/step - loss: 9.0271 - mean_absolute_error: 9.0271 - val_loss: 10.0854 - val_mean_absolute_error: 10.0854\n",
      "Epoch 163/500\n",
      "119/136 [=========================>....] - ETA: 0s - loss: 8.9425 - mean_absolute_error: 8.9425\n",
      "Epoch 163: val_loss did not improve from 9.66185\n",
      "136/136 [==============================] - 0s 2ms/step - loss: 8.9604 - mean_absolute_error: 8.9604 - val_loss: 9.7480 - val_mean_absolute_error: 9.7480\n",
      "Epoch 164/500\n",
      "119/136 [=========================>....] - ETA: 0s - loss: 8.9647 - mean_absolute_error: 8.9647\n",
      "Epoch 164: val_loss did not improve from 9.66185\n",
      "136/136 [==============================] - 0s 2ms/step - loss: 8.9915 - mean_absolute_error: 8.9915 - val_loss: 9.8385 - val_mean_absolute_error: 9.8385\n",
      "Epoch 165/500\n",
      "117/136 [========================>.....] - ETA: 0s - loss: 8.9985 - mean_absolute_error: 8.9985\n",
      "Epoch 165: val_loss did not improve from 9.66185\n",
      "136/136 [==============================] - 0s 2ms/step - loss: 9.0195 - mean_absolute_error: 9.0195 - val_loss: 9.8222 - val_mean_absolute_error: 9.8222\n",
      "Epoch 166/500\n",
      "113/136 [=======================>......] - ETA: 0s - loss: 8.9085 - mean_absolute_error: 8.9085\n",
      "Epoch 166: val_loss did not improve from 9.66185\n",
      "136/136 [==============================] - 0s 2ms/step - loss: 9.0089 - mean_absolute_error: 9.0089 - val_loss: 9.8619 - val_mean_absolute_error: 9.8619\n",
      "Epoch 167/500\n",
      "111/136 [=======================>......] - ETA: 0s - loss: 9.0624 - mean_absolute_error: 9.0624\n",
      "Epoch 167: val_loss did not improve from 9.66185\n",
      "136/136 [==============================] - 0s 2ms/step - loss: 9.0073 - mean_absolute_error: 9.0073 - val_loss: 10.0925 - val_mean_absolute_error: 10.0925\n",
      "Epoch 168/500\n",
      "114/136 [========================>.....] - ETA: 0s - loss: 9.0268 - mean_absolute_error: 9.0268\n",
      "Epoch 168: val_loss did not improve from 9.66185\n",
      "136/136 [==============================] - 0s 2ms/step - loss: 9.0439 - mean_absolute_error: 9.0439 - val_loss: 9.7764 - val_mean_absolute_error: 9.7764\n",
      "Epoch 169/500\n",
      "112/136 [=======================>......] - ETA: 0s - loss: 9.0093 - mean_absolute_error: 9.0093\n",
      "Epoch 169: val_loss did not improve from 9.66185\n",
      "136/136 [==============================] - 0s 2ms/step - loss: 8.9997 - mean_absolute_error: 8.9997 - val_loss: 9.6644 - val_mean_absolute_error: 9.6644\n",
      "Epoch 170/500\n",
      "116/136 [========================>.....] - ETA: 0s - loss: 8.9778 - mean_absolute_error: 8.9778\n",
      "Epoch 170: val_loss did not improve from 9.66185\n",
      "136/136 [==============================] - 0s 2ms/step - loss: 8.9623 - mean_absolute_error: 8.9623 - val_loss: 9.7737 - val_mean_absolute_error: 9.7737\n",
      "Epoch 171/500\n",
      "113/136 [=======================>......] - ETA: 0s - loss: 8.9758 - mean_absolute_error: 8.9758\n",
      "Epoch 171: val_loss did not improve from 9.66185\n",
      "136/136 [==============================] - 0s 2ms/step - loss: 8.9594 - mean_absolute_error: 8.9594 - val_loss: 9.9300 - val_mean_absolute_error: 9.9300\n",
      "Epoch 172/500\n",
      "119/136 [=========================>....] - ETA: 0s - loss: 9.0322 - mean_absolute_error: 9.0322\n",
      "Epoch 172: val_loss did not improve from 9.66185\n",
      "136/136 [==============================] - 0s 2ms/step - loss: 8.9286 - mean_absolute_error: 8.9286 - val_loss: 9.8168 - val_mean_absolute_error: 9.8168\n",
      "Epoch 173/500\n",
      "113/136 [=======================>......] - ETA: 0s - loss: 8.9542 - mean_absolute_error: 8.9542\n",
      "Epoch 173: val_loss did not improve from 9.66185\n",
      "136/136 [==============================] - 0s 2ms/step - loss: 8.9632 - mean_absolute_error: 8.9632 - val_loss: 9.8783 - val_mean_absolute_error: 9.8783\n",
      "Epoch 174/500\n",
      "118/136 [=========================>....] - ETA: 0s - loss: 8.9396 - mean_absolute_error: 8.9396\n",
      "Epoch 174: val_loss did not improve from 9.66185\n",
      "136/136 [==============================] - 0s 2ms/step - loss: 8.9330 - mean_absolute_error: 8.9330 - val_loss: 9.8472 - val_mean_absolute_error: 9.8472\n",
      "Epoch 175/500\n",
      "112/136 [=======================>......] - ETA: 0s - loss: 8.9397 - mean_absolute_error: 8.9397\n",
      "Epoch 175: val_loss did not improve from 9.66185\n",
      "136/136 [==============================] - 0s 2ms/step - loss: 9.0121 - mean_absolute_error: 9.0121 - val_loss: 9.8358 - val_mean_absolute_error: 9.8358\n",
      "Epoch 176/500\n",
      "117/136 [========================>.....] - ETA: 0s - loss: 8.9367 - mean_absolute_error: 8.9367\n",
      "Epoch 176: val_loss did not improve from 9.66185\n",
      "136/136 [==============================] - 0s 2ms/step - loss: 8.9952 - mean_absolute_error: 8.9952 - val_loss: 9.8981 - val_mean_absolute_error: 9.8981\n",
      "Epoch 177/500\n",
      "116/136 [========================>.....] - ETA: 0s - loss: 9.0290 - mean_absolute_error: 9.0290\n",
      "Epoch 177: val_loss did not improve from 9.66185\n",
      "136/136 [==============================] - 0s 2ms/step - loss: 9.0117 - mean_absolute_error: 9.0117 - val_loss: 9.8812 - val_mean_absolute_error: 9.8812\n",
      "Epoch 178/500\n",
      "112/136 [=======================>......] - ETA: 0s - loss: 8.9658 - mean_absolute_error: 8.9658\n",
      "Epoch 178: val_loss did not improve from 9.66185\n",
      "136/136 [==============================] - 0s 2ms/step - loss: 8.9340 - mean_absolute_error: 8.9340 - val_loss: 9.7952 - val_mean_absolute_error: 9.7952\n",
      "Epoch 179/500\n",
      "118/136 [=========================>....] - ETA: 0s - loss: 9.0644 - mean_absolute_error: 9.0644\n",
      "Epoch 179: val_loss did not improve from 9.66185\n",
      "136/136 [==============================] - 0s 2ms/step - loss: 9.0367 - mean_absolute_error: 9.0367 - val_loss: 9.7862 - val_mean_absolute_error: 9.7862\n",
      "Epoch 180/500\n",
      "116/136 [========================>.....] - ETA: 0s - loss: 8.9833 - mean_absolute_error: 8.9833\n",
      "Epoch 180: val_loss did not improve from 9.66185\n",
      "136/136 [==============================] - 0s 2ms/step - loss: 8.9735 - mean_absolute_error: 8.9735 - val_loss: 9.8301 - val_mean_absolute_error: 9.8301\n",
      "Epoch 181/500\n",
      "119/136 [=========================>....] - ETA: 0s - loss: 8.9953 - mean_absolute_error: 8.9953\n",
      "Epoch 181: val_loss did not improve from 9.66185\n",
      "136/136 [==============================] - 0s 2ms/step - loss: 9.0176 - mean_absolute_error: 9.0176 - val_loss: 10.0254 - val_mean_absolute_error: 10.0254\n",
      "Epoch 182/500\n",
      "119/136 [=========================>....] - ETA: 0s - loss: 9.0118 - mean_absolute_error: 9.0118\n",
      "Epoch 182: val_loss did not improve from 9.66185\n",
      "136/136 [==============================] - 0s 2ms/step - loss: 8.9756 - mean_absolute_error: 8.9756 - val_loss: 9.7746 - val_mean_absolute_error: 9.7746\n",
      "Epoch 183/500\n"
     ]
    },
    {
     "name": "stdout",
     "output_type": "stream",
     "text": [
      "115/136 [========================>.....] - ETA: 0s - loss: 9.0031 - mean_absolute_error: 9.0031\n",
      "Epoch 183: val_loss did not improve from 9.66185\n",
      "136/136 [==============================] - 0s 2ms/step - loss: 8.9932 - mean_absolute_error: 8.9932 - val_loss: 10.0788 - val_mean_absolute_error: 10.0788\n",
      "Epoch 184/500\n",
      "115/136 [========================>.....] - ETA: 0s - loss: 8.9443 - mean_absolute_error: 8.9443\n",
      "Epoch 184: val_loss did not improve from 9.66185\n",
      "136/136 [==============================] - 0s 2ms/step - loss: 9.0018 - mean_absolute_error: 9.0018 - val_loss: 9.8064 - val_mean_absolute_error: 9.8064\n",
      "Epoch 185/500\n",
      "113/136 [=======================>......] - ETA: 0s - loss: 8.9860 - mean_absolute_error: 8.9860\n",
      "Epoch 185: val_loss did not improve from 9.66185\n",
      "136/136 [==============================] - 0s 2ms/step - loss: 8.9682 - mean_absolute_error: 8.9682 - val_loss: 9.7863 - val_mean_absolute_error: 9.7863\n",
      "Epoch 186/500\n",
      "117/136 [========================>.....] - ETA: 0s - loss: 8.9579 - mean_absolute_error: 8.9579\n",
      "Epoch 186: val_loss did not improve from 9.66185\n",
      "136/136 [==============================] - 0s 2ms/step - loss: 8.9775 - mean_absolute_error: 8.9775 - val_loss: 9.6790 - val_mean_absolute_error: 9.6790\n",
      "Epoch 187/500\n",
      "114/136 [========================>.....] - ETA: 0s - loss: 9.0386 - mean_absolute_error: 9.0386\n",
      "Epoch 187: val_loss did not improve from 9.66185\n",
      "136/136 [==============================] - 0s 2ms/step - loss: 8.9571 - mean_absolute_error: 8.9571 - val_loss: 9.7708 - val_mean_absolute_error: 9.7708\n",
      "Epoch 188/500\n",
      "118/136 [=========================>....] - ETA: 0s - loss: 8.9463 - mean_absolute_error: 8.9463\n",
      "Epoch 188: val_loss did not improve from 9.66185\n",
      "136/136 [==============================] - 0s 2ms/step - loss: 8.9636 - mean_absolute_error: 8.9636 - val_loss: 9.8315 - val_mean_absolute_error: 9.8315\n",
      "Epoch 189/500\n",
      "118/136 [=========================>....] - ETA: 0s - loss: 9.0592 - mean_absolute_error: 9.0592\n",
      "Epoch 189: val_loss did not improve from 9.66185\n",
      "136/136 [==============================] - 0s 2ms/step - loss: 8.9658 - mean_absolute_error: 8.9658 - val_loss: 9.7524 - val_mean_absolute_error: 9.7524\n",
      "Epoch 190/500\n",
      "119/136 [=========================>....] - ETA: 0s - loss: 8.9606 - mean_absolute_error: 8.9606\n",
      "Epoch 190: val_loss did not improve from 9.66185\n",
      "136/136 [==============================] - 0s 2ms/step - loss: 8.9749 - mean_absolute_error: 8.9749 - val_loss: 9.6893 - val_mean_absolute_error: 9.6893\n",
      "Epoch 191/500\n",
      "118/136 [=========================>....] - ETA: 0s - loss: 9.0087 - mean_absolute_error: 9.0087\n",
      "Epoch 191: val_loss did not improve from 9.66185\n",
      "136/136 [==============================] - 0s 2ms/step - loss: 9.0170 - mean_absolute_error: 9.0170 - val_loss: 9.7453 - val_mean_absolute_error: 9.7453\n",
      "Epoch 192/500\n",
      "118/136 [=========================>....] - ETA: 0s - loss: 8.8734 - mean_absolute_error: 8.8734\n",
      "Epoch 192: val_loss did not improve from 9.66185\n",
      "136/136 [==============================] - 0s 2ms/step - loss: 8.9245 - mean_absolute_error: 8.9245 - val_loss: 9.8612 - val_mean_absolute_error: 9.8612\n",
      "Epoch 193/500\n",
      "115/136 [========================>.....] - ETA: 0s - loss: 8.8658 - mean_absolute_error: 8.8658\n",
      "Epoch 193: val_loss did not improve from 9.66185\n",
      "136/136 [==============================] - 0s 2ms/step - loss: 8.9231 - mean_absolute_error: 8.9231 - val_loss: 10.1720 - val_mean_absolute_error: 10.1720\n",
      "Epoch 194/500\n",
      "116/136 [========================>.....] - ETA: 0s - loss: 9.0283 - mean_absolute_error: 9.0283\n",
      "Epoch 194: val_loss did not improve from 9.66185\n",
      "136/136 [==============================] - 0s 2ms/step - loss: 8.9490 - mean_absolute_error: 8.9490 - val_loss: 9.8079 - val_mean_absolute_error: 9.8079\n",
      "Epoch 195/500\n",
      "112/136 [=======================>......] - ETA: 0s - loss: 8.8762 - mean_absolute_error: 8.8762\n",
      "Epoch 195: val_loss did not improve from 9.66185\n",
      "136/136 [==============================] - 0s 2ms/step - loss: 8.9210 - mean_absolute_error: 8.9210 - val_loss: 9.8276 - val_mean_absolute_error: 9.8276\n",
      "Epoch 196/500\n",
      "109/136 [=======================>......] - ETA: 0s - loss: 9.0505 - mean_absolute_error: 9.0505\n",
      "Epoch 196: val_loss did not improve from 9.66185\n",
      "136/136 [==============================] - 0s 2ms/step - loss: 8.9578 - mean_absolute_error: 8.9578 - val_loss: 9.9421 - val_mean_absolute_error: 9.9421\n",
      "Epoch 197/500\n",
      "120/136 [=========================>....] - ETA: 0s - loss: 8.8781 - mean_absolute_error: 8.8781\n",
      "Epoch 197: val_loss did not improve from 9.66185\n",
      "136/136 [==============================] - 0s 2ms/step - loss: 8.9195 - mean_absolute_error: 8.9195 - val_loss: 9.8041 - val_mean_absolute_error: 9.8041\n",
      "Epoch 198/500\n",
      "119/136 [=========================>....] - ETA: 0s - loss: 8.9340 - mean_absolute_error: 8.9340\n",
      "Epoch 198: val_loss did not improve from 9.66185\n",
      "136/136 [==============================] - 0s 2ms/step - loss: 8.9471 - mean_absolute_error: 8.9471 - val_loss: 9.7399 - val_mean_absolute_error: 9.7399\n",
      "Epoch 199/500\n",
      "120/136 [=========================>....] - ETA: 0s - loss: 8.8841 - mean_absolute_error: 8.8841\n",
      "Epoch 199: val_loss did not improve from 9.66185\n",
      "136/136 [==============================] - 0s 2ms/step - loss: 8.9632 - mean_absolute_error: 8.9632 - val_loss: 9.9683 - val_mean_absolute_error: 9.9683\n",
      "Epoch 200/500\n",
      "119/136 [=========================>....] - ETA: 0s - loss: 8.8671 - mean_absolute_error: 8.8671\n",
      "Epoch 200: val_loss did not improve from 9.66185\n",
      "136/136 [==============================] - 0s 2ms/step - loss: 8.9218 - mean_absolute_error: 8.9218 - val_loss: 9.7063 - val_mean_absolute_error: 9.7063\n",
      "Epoch 201/500\n",
      "119/136 [=========================>....] - ETA: 0s - loss: 8.9965 - mean_absolute_error: 8.9965\n",
      "Epoch 201: val_loss did not improve from 9.66185\n",
      "136/136 [==============================] - 0s 2ms/step - loss: 8.9997 - mean_absolute_error: 8.9997 - val_loss: 9.7723 - val_mean_absolute_error: 9.7723\n",
      "Epoch 202/500\n",
      "117/136 [========================>.....] - ETA: 0s - loss: 8.8752 - mean_absolute_error: 8.8752\n",
      "Epoch 202: val_loss did not improve from 9.66185\n",
      "136/136 [==============================] - 0s 2ms/step - loss: 8.9704 - mean_absolute_error: 8.9704 - val_loss: 9.7634 - val_mean_absolute_error: 9.7634\n",
      "Epoch 203/500\n",
      "114/136 [========================>.....] - ETA: 0s - loss: 8.8952 - mean_absolute_error: 8.8952\n",
      "Epoch 203: val_loss did not improve from 9.66185\n",
      "136/136 [==============================] - 0s 2ms/step - loss: 8.8805 - mean_absolute_error: 8.8805 - val_loss: 9.8496 - val_mean_absolute_error: 9.8496\n",
      "Epoch 204/500\n",
      "107/136 [======================>.......] - ETA: 0s - loss: 8.9538 - mean_absolute_error: 8.9538\n",
      "Epoch 204: val_loss did not improve from 9.66185\n",
      "136/136 [==============================] - 0s 2ms/step - loss: 8.9238 - mean_absolute_error: 8.9238 - val_loss: 9.9697 - val_mean_absolute_error: 9.9697\n",
      "Epoch 205/500\n",
      "123/136 [==========================>...] - ETA: 0s - loss: 8.9863 - mean_absolute_error: 8.9863\n",
      "Epoch 205: val_loss did not improve from 9.66185\n",
      "136/136 [==============================] - 0s 2ms/step - loss: 8.9668 - mean_absolute_error: 8.9668 - val_loss: 9.8181 - val_mean_absolute_error: 9.8181\n",
      "Epoch 206/500\n",
      "124/136 [==========================>...] - ETA: 0s - loss: 9.0282 - mean_absolute_error: 9.0282\n",
      "Epoch 206: val_loss did not improve from 9.66185\n",
      "136/136 [==============================] - 0s 2ms/step - loss: 8.9290 - mean_absolute_error: 8.9290 - val_loss: 9.7442 - val_mean_absolute_error: 9.7442\n",
      "Epoch 207/500\n",
      "131/136 [===========================>..] - ETA: 0s - loss: 8.9053 - mean_absolute_error: 8.9053\n",
      "Epoch 207: val_loss did not improve from 9.66185\n",
      "136/136 [==============================] - 0s 2ms/step - loss: 8.9131 - mean_absolute_error: 8.9131 - val_loss: 9.6843 - val_mean_absolute_error: 9.6843\n",
      "Epoch 208/500\n",
      "101/136 [=====================>........] - ETA: 0s - loss: 8.9150 - mean_absolute_error: 8.9150\n",
      "Epoch 208: val_loss did not improve from 9.66185\n",
      "136/136 [==============================] - 0s 2ms/step - loss: 8.9236 - mean_absolute_error: 8.9236 - val_loss: 10.1215 - val_mean_absolute_error: 10.1215\n",
      "Epoch 209/500\n"
     ]
    },
    {
     "name": "stdout",
     "output_type": "stream",
     "text": [
      "108/136 [======================>.......] - ETA: 0s - loss: 8.8494 - mean_absolute_error: 8.8494\n",
      "Epoch 209: val_loss did not improve from 9.66185\n",
      "136/136 [==============================] - 0s 2ms/step - loss: 8.9166 - mean_absolute_error: 8.9166 - val_loss: 10.1944 - val_mean_absolute_error: 10.1944\n",
      "Epoch 210/500\n",
      "109/136 [=======================>......] - ETA: 0s - loss: 9.1891 - mean_absolute_error: 9.1891\n",
      "Epoch 210: val_loss did not improve from 9.66185\n",
      "136/136 [==============================] - 0s 2ms/step - loss: 9.0013 - mean_absolute_error: 9.0013 - val_loss: 9.7371 - val_mean_absolute_error: 9.7371\n",
      "Epoch 211/500\n",
      "136/136 [==============================] - ETA: 0s - loss: 8.9142 - mean_absolute_error: 8.9142\n",
      "Epoch 211: val_loss did not improve from 9.66185\n",
      "136/136 [==============================] - 0s 2ms/step - loss: 8.9142 - mean_absolute_error: 8.9142 - val_loss: 9.7817 - val_mean_absolute_error: 9.7817\n",
      "Epoch 212/500\n",
      "116/136 [========================>.....] - ETA: 0s - loss: 8.9017 - mean_absolute_error: 8.9017\n",
      "Epoch 212: val_loss did not improve from 9.66185\n",
      "136/136 [==============================] - 0s 2ms/step - loss: 8.9089 - mean_absolute_error: 8.9089 - val_loss: 9.8312 - val_mean_absolute_error: 9.8312\n",
      "Epoch 213/500\n",
      "112/136 [=======================>......] - ETA: 0s - loss: 8.8912 - mean_absolute_error: 8.8912\n",
      "Epoch 213: val_loss did not improve from 9.66185\n",
      "136/136 [==============================] - 0s 2ms/step - loss: 8.8776 - mean_absolute_error: 8.8776 - val_loss: 9.7952 - val_mean_absolute_error: 9.7952\n",
      "Epoch 214/500\n",
      "117/136 [========================>.....] - ETA: 0s - loss: 8.8237 - mean_absolute_error: 8.8237\n",
      "Epoch 214: val_loss did not improve from 9.66185\n",
      "136/136 [==============================] - 0s 2ms/step - loss: 8.9442 - mean_absolute_error: 8.9442 - val_loss: 9.9017 - val_mean_absolute_error: 9.9017\n",
      "Epoch 215/500\n",
      "120/136 [=========================>....] - ETA: 0s - loss: 8.8981 - mean_absolute_error: 8.8981\n",
      "Epoch 215: val_loss did not improve from 9.66185\n",
      "136/136 [==============================] - 0s 2ms/step - loss: 8.9707 - mean_absolute_error: 8.9707 - val_loss: 9.7662 - val_mean_absolute_error: 9.7662\n",
      "Epoch 216/500\n",
      "119/136 [=========================>....] - ETA: 0s - loss: 8.9507 - mean_absolute_error: 8.9507\n",
      "Epoch 216: val_loss did not improve from 9.66185\n",
      "136/136 [==============================] - 0s 2ms/step - loss: 8.9030 - mean_absolute_error: 8.9030 - val_loss: 9.7612 - val_mean_absolute_error: 9.7612\n",
      "Epoch 217/500\n",
      "116/136 [========================>.....] - ETA: 0s - loss: 8.8714 - mean_absolute_error: 8.8714\n",
      "Epoch 217: val_loss did not improve from 9.66185\n",
      "136/136 [==============================] - 0s 2ms/step - loss: 8.8977 - mean_absolute_error: 8.8977 - val_loss: 10.0278 - val_mean_absolute_error: 10.0278\n",
      "Epoch 218/500\n",
      "114/136 [========================>.....] - ETA: 0s - loss: 8.9926 - mean_absolute_error: 8.9926\n",
      "Epoch 218: val_loss did not improve from 9.66185\n",
      "136/136 [==============================] - 0s 2ms/step - loss: 8.9559 - mean_absolute_error: 8.9559 - val_loss: 9.9741 - val_mean_absolute_error: 9.9741\n",
      "Epoch 219/500\n",
      "110/136 [=======================>......] - ETA: 0s - loss: 9.0168 - mean_absolute_error: 9.0168\n",
      "Epoch 219: val_loss did not improve from 9.66185\n",
      "136/136 [==============================] - 0s 2ms/step - loss: 8.9504 - mean_absolute_error: 8.9504 - val_loss: 9.8321 - val_mean_absolute_error: 9.8321\n",
      "Epoch 220/500\n",
      "114/136 [========================>.....] - ETA: 0s - loss: 9.0715 - mean_absolute_error: 9.0715\n",
      "Epoch 220: val_loss did not improve from 9.66185\n",
      "136/136 [==============================] - 0s 2ms/step - loss: 8.9899 - mean_absolute_error: 8.9899 - val_loss: 9.7193 - val_mean_absolute_error: 9.7193\n",
      "Epoch 221/500\n",
      "109/136 [=======================>......] - ETA: 0s - loss: 8.8847 - mean_absolute_error: 8.8847\n",
      "Epoch 221: val_loss did not improve from 9.66185\n",
      "136/136 [==============================] - 0s 2ms/step - loss: 8.9271 - mean_absolute_error: 8.9271 - val_loss: 9.7403 - val_mean_absolute_error: 9.7403\n",
      "Epoch 222/500\n",
      "115/136 [========================>.....] - ETA: 0s - loss: 8.9518 - mean_absolute_error: 8.9518\n",
      "Epoch 222: val_loss did not improve from 9.66185\n",
      "136/136 [==============================] - 0s 2ms/step - loss: 8.9634 - mean_absolute_error: 8.9634 - val_loss: 9.7299 - val_mean_absolute_error: 9.7299\n",
      "Epoch 223/500\n",
      "105/136 [======================>.......] - ETA: 0s - loss: 8.8426 - mean_absolute_error: 8.8426\n",
      "Epoch 223: val_loss did not improve from 9.66185\n",
      "136/136 [==============================] - 0s 2ms/step - loss: 8.8496 - mean_absolute_error: 8.8496 - val_loss: 9.9717 - val_mean_absolute_error: 9.9717\n",
      "Epoch 224/500\n",
      "135/136 [============================>.] - ETA: 0s - loss: 8.9974 - mean_absolute_error: 8.9974\n",
      "Epoch 224: val_loss did not improve from 9.66185\n",
      "136/136 [==============================] - 0s 2ms/step - loss: 8.9945 - mean_absolute_error: 8.9945 - val_loss: 9.8183 - val_mean_absolute_error: 9.8183\n",
      "Epoch 225/500\n",
      "117/136 [========================>.....] - ETA: 0s - loss: 8.9493 - mean_absolute_error: 8.9493\n",
      "Epoch 225: val_loss did not improve from 9.66185\n",
      "136/136 [==============================] - 0s 2ms/step - loss: 8.9665 - mean_absolute_error: 8.9665 - val_loss: 10.0964 - val_mean_absolute_error: 10.0964\n",
      "Epoch 226/500\n",
      "109/136 [=======================>......] - ETA: 0s - loss: 8.9818 - mean_absolute_error: 8.9818\n",
      "Epoch 226: val_loss did not improve from 9.66185\n",
      "136/136 [==============================] - 0s 2ms/step - loss: 8.8764 - mean_absolute_error: 8.8764 - val_loss: 10.0601 - val_mean_absolute_error: 10.0601\n",
      "Epoch 227/500\n",
      "111/136 [=======================>......] - ETA: 0s - loss: 8.9338 - mean_absolute_error: 8.9338\n",
      "Epoch 227: val_loss did not improve from 9.66185\n",
      "136/136 [==============================] - 0s 2ms/step - loss: 8.9470 - mean_absolute_error: 8.9470 - val_loss: 9.9915 - val_mean_absolute_error: 9.9915\n",
      "Epoch 228/500\n",
      "115/136 [========================>.....] - ETA: 0s - loss: 8.9267 - mean_absolute_error: 8.9267\n",
      "Epoch 228: val_loss did not improve from 9.66185\n",
      "136/136 [==============================] - 0s 2ms/step - loss: 8.9017 - mean_absolute_error: 8.9017 - val_loss: 9.8885 - val_mean_absolute_error: 9.8885\n",
      "Epoch 229/500\n",
      "105/136 [======================>.......] - ETA: 0s - loss: 8.7031 - mean_absolute_error: 8.7031\n",
      "Epoch 229: val_loss did not improve from 9.66185\n",
      "136/136 [==============================] - 0s 2ms/step - loss: 8.8668 - mean_absolute_error: 8.8668 - val_loss: 10.2615 - val_mean_absolute_error: 10.2615\n",
      "Epoch 230/500\n",
      "112/136 [=======================>......] - ETA: 0s - loss: 8.8977 - mean_absolute_error: 8.8977\n",
      "Epoch 230: val_loss did not improve from 9.66185\n",
      "136/136 [==============================] - 0s 2ms/step - loss: 8.9228 - mean_absolute_error: 8.9228 - val_loss: 9.9416 - val_mean_absolute_error: 9.9416\n",
      "Epoch 231/500\n",
      "132/136 [============================>.] - ETA: 0s - loss: 8.8615 - mean_absolute_error: 8.8615\n",
      "Epoch 231: val_loss did not improve from 9.66185\n",
      "136/136 [==============================] - 0s 2ms/step - loss: 8.8798 - mean_absolute_error: 8.8798 - val_loss: 9.8256 - val_mean_absolute_error: 9.8256\n",
      "Epoch 232/500\n",
      "106/136 [======================>.......] - ETA: 0s - loss: 9.0190 - mean_absolute_error: 9.0190\n",
      "Epoch 232: val_loss did not improve from 9.66185\n",
      "136/136 [==============================] - 0s 2ms/step - loss: 8.9219 - mean_absolute_error: 8.9219 - val_loss: 9.7598 - val_mean_absolute_error: 9.7598\n",
      "Epoch 233/500\n",
      "108/136 [======================>.......] - ETA: 0s - loss: 8.9269 - mean_absolute_error: 8.9269\n",
      "Epoch 233: val_loss did not improve from 9.66185\n",
      "136/136 [==============================] - 0s 2ms/step - loss: 8.8850 - mean_absolute_error: 8.8850 - val_loss: 9.9914 - val_mean_absolute_error: 9.9914\n",
      "Epoch 234/500\n",
      "103/136 [=====================>........] - ETA: 0s - loss: 8.8394 - mean_absolute_error: 8.8394\n",
      "Epoch 234: val_loss did not improve from 9.66185\n",
      "136/136 [==============================] - 0s 2ms/step - loss: 8.8822 - mean_absolute_error: 8.8822 - val_loss: 10.1000 - val_mean_absolute_error: 10.1000\n",
      "Epoch 235/500\n"
     ]
    },
    {
     "name": "stdout",
     "output_type": "stream",
     "text": [
      "110/136 [=======================>......] - ETA: 0s - loss: 8.9177 - mean_absolute_error: 8.9177\n",
      "Epoch 235: val_loss did not improve from 9.66185\n",
      "136/136 [==============================] - 0s 2ms/step - loss: 8.9130 - mean_absolute_error: 8.9130 - val_loss: 9.8762 - val_mean_absolute_error: 9.8762\n",
      "Epoch 236/500\n",
      "125/136 [==========================>...] - ETA: 0s - loss: 8.9172 - mean_absolute_error: 8.9172\n",
      "Epoch 236: val_loss did not improve from 9.66185\n",
      "136/136 [==============================] - 0s 2ms/step - loss: 8.9304 - mean_absolute_error: 8.9304 - val_loss: 9.7997 - val_mean_absolute_error: 9.7997\n",
      "Epoch 237/500\n",
      "130/136 [===========================>..] - ETA: 0s - loss: 8.8869 - mean_absolute_error: 8.8869\n",
      "Epoch 237: val_loss did not improve from 9.66185\n",
      "136/136 [==============================] - 0s 2ms/step - loss: 8.8608 - mean_absolute_error: 8.8608 - val_loss: 9.8224 - val_mean_absolute_error: 9.8224\n",
      "Epoch 238/500\n",
      "106/136 [======================>.......] - ETA: 0s - loss: 8.9377 - mean_absolute_error: 8.9377\n",
      "Epoch 238: val_loss did not improve from 9.66185\n",
      "136/136 [==============================] - 0s 2ms/step - loss: 8.8693 - mean_absolute_error: 8.8693 - val_loss: 10.1543 - val_mean_absolute_error: 10.1543\n",
      "Epoch 239/500\n",
      "107/136 [======================>.......] - ETA: 0s - loss: 8.8701 - mean_absolute_error: 8.8701\n",
      "Epoch 239: val_loss did not improve from 9.66185\n",
      "136/136 [==============================] - 0s 2ms/step - loss: 8.9156 - mean_absolute_error: 8.9156 - val_loss: 9.7825 - val_mean_absolute_error: 9.7825\n",
      "Epoch 240/500\n",
      "111/136 [=======================>......] - ETA: 0s - loss: 8.9237 - mean_absolute_error: 8.9237\n",
      "Epoch 240: val_loss did not improve from 9.66185\n",
      "136/136 [==============================] - 0s 2ms/step - loss: 8.9400 - mean_absolute_error: 8.9400 - val_loss: 9.7650 - val_mean_absolute_error: 9.7650\n",
      "Epoch 241/500\n",
      "114/136 [========================>.....] - ETA: 0s - loss: 8.9406 - mean_absolute_error: 8.9406\n",
      "Epoch 241: val_loss did not improve from 9.66185\n",
      "136/136 [==============================] - 0s 2ms/step - loss: 8.8920 - mean_absolute_error: 8.8920 - val_loss: 9.7043 - val_mean_absolute_error: 9.7043\n",
      "Epoch 242/500\n",
      "106/136 [======================>.......] - ETA: 0s - loss: 8.7617 - mean_absolute_error: 8.7617\n",
      "Epoch 242: val_loss did not improve from 9.66185\n",
      "136/136 [==============================] - 0s 2ms/step - loss: 8.8603 - mean_absolute_error: 8.8603 - val_loss: 9.7205 - val_mean_absolute_error: 9.7205\n",
      "Epoch 243/500\n",
      "135/136 [============================>.] - ETA: 0s - loss: 8.9849 - mean_absolute_error: 8.9849\n",
      "Epoch 243: val_loss did not improve from 9.66185\n",
      "136/136 [==============================] - 0s 2ms/step - loss: 8.9871 - mean_absolute_error: 8.9871 - val_loss: 9.7614 - val_mean_absolute_error: 9.7614\n",
      "Epoch 244/500\n",
      "113/136 [=======================>......] - ETA: 0s - loss: 8.9002 - mean_absolute_error: 8.9002\n",
      "Epoch 244: val_loss did not improve from 9.66185\n",
      "136/136 [==============================] - 0s 2ms/step - loss: 8.8915 - mean_absolute_error: 8.8915 - val_loss: 9.8212 - val_mean_absolute_error: 9.8212\n",
      "Epoch 245/500\n",
      "128/136 [===========================>..] - ETA: 0s - loss: 8.8367 - mean_absolute_error: 8.8367\n",
      "Epoch 245: val_loss did not improve from 9.66185\n",
      "136/136 [==============================] - 0s 2ms/step - loss: 8.8639 - mean_absolute_error: 8.8639 - val_loss: 9.8194 - val_mean_absolute_error: 9.8194\n",
      "Epoch 246/500\n",
      "106/136 [======================>.......] - ETA: 0s - loss: 8.8795 - mean_absolute_error: 8.8795\n",
      "Epoch 246: val_loss did not improve from 9.66185\n",
      "136/136 [==============================] - 0s 2ms/step - loss: 8.8770 - mean_absolute_error: 8.8770 - val_loss: 10.0525 - val_mean_absolute_error: 10.0525\n",
      "Epoch 247/500\n",
      "110/136 [=======================>......] - ETA: 0s - loss: 8.9306 - mean_absolute_error: 8.9306\n",
      "Epoch 247: val_loss did not improve from 9.66185\n",
      "136/136 [==============================] - 0s 2ms/step - loss: 8.8890 - mean_absolute_error: 8.8890 - val_loss: 10.0227 - val_mean_absolute_error: 10.0227\n",
      "Epoch 248/500\n",
      "112/136 [=======================>......] - ETA: 0s - loss: 8.8710 - mean_absolute_error: 8.8710\n",
      "Epoch 248: val_loss did not improve from 9.66185\n",
      "136/136 [==============================] - 0s 2ms/step - loss: 8.9036 - mean_absolute_error: 8.9036 - val_loss: 9.7023 - val_mean_absolute_error: 9.7023\n",
      "Epoch 249/500\n",
      "105/136 [======================>.......] - ETA: 0s - loss: 8.7902 - mean_absolute_error: 8.7902\n",
      "Epoch 249: val_loss did not improve from 9.66185\n",
      "136/136 [==============================] - 0s 2ms/step - loss: 8.8487 - mean_absolute_error: 8.8487 - val_loss: 10.0320 - val_mean_absolute_error: 10.0320\n",
      "Epoch 250/500\n",
      "135/136 [============================>.] - ETA: 0s - loss: 8.9209 - mean_absolute_error: 8.9209\n",
      "Epoch 250: val_loss improved from 9.66185 to 9.66166, saving model to Weights-250--9.66166.hdf5\n",
      "136/136 [==============================] - 0s 2ms/step - loss: 8.9153 - mean_absolute_error: 8.9153 - val_loss: 9.6617 - val_mean_absolute_error: 9.6617\n",
      "Epoch 251/500\n",
      "107/136 [======================>.......] - ETA: 0s - loss: 8.8942 - mean_absolute_error: 8.8942\n",
      "Epoch 251: val_loss did not improve from 9.66166\n",
      "136/136 [==============================] - 0s 2ms/step - loss: 8.8787 - mean_absolute_error: 8.8787 - val_loss: 9.8245 - val_mean_absolute_error: 9.8245\n",
      "Epoch 252/500\n",
      "114/136 [========================>.....] - ETA: 0s - loss: 8.9548 - mean_absolute_error: 8.9548\n",
      "Epoch 252: val_loss did not improve from 9.66166\n",
      "136/136 [==============================] - 0s 2ms/step - loss: 8.9110 - mean_absolute_error: 8.9110 - val_loss: 9.7222 - val_mean_absolute_error: 9.7222\n",
      "Epoch 253/500\n",
      "106/136 [======================>.......] - ETA: 0s - loss: 8.8167 - mean_absolute_error: 8.8167\n",
      "Epoch 253: val_loss did not improve from 9.66166\n",
      "136/136 [==============================] - 0s 2ms/step - loss: 8.8681 - mean_absolute_error: 8.8681 - val_loss: 9.7690 - val_mean_absolute_error: 9.7690\n",
      "Epoch 254/500\n",
      "106/136 [======================>.......] - ETA: 0s - loss: 8.8298 - mean_absolute_error: 8.8298\n",
      "Epoch 254: val_loss did not improve from 9.66166\n",
      "136/136 [==============================] - 0s 2ms/step - loss: 8.8561 - mean_absolute_error: 8.8561 - val_loss: 9.8865 - val_mean_absolute_error: 9.8865\n",
      "Epoch 255/500\n",
      "108/136 [======================>.......] - ETA: 0s - loss: 8.9103 - mean_absolute_error: 8.9103\n",
      "Epoch 255: val_loss did not improve from 9.66166\n",
      "136/136 [==============================] - 0s 2ms/step - loss: 8.8670 - mean_absolute_error: 8.8670 - val_loss: 9.8897 - val_mean_absolute_error: 9.8897\n",
      "Epoch 256/500\n",
      "108/136 [======================>.......] - ETA: 0s - loss: 8.8089 - mean_absolute_error: 8.8089\n",
      "Epoch 256: val_loss did not improve from 9.66166\n",
      "136/136 [==============================] - 0s 2ms/step - loss: 8.8476 - mean_absolute_error: 8.8476 - val_loss: 9.7362 - val_mean_absolute_error: 9.7362\n",
      "Epoch 257/500\n",
      "114/136 [========================>.....] - ETA: 0s - loss: 8.8841 - mean_absolute_error: 8.8841\n",
      "Epoch 257: val_loss did not improve from 9.66166\n",
      "136/136 [==============================] - 0s 2ms/step - loss: 8.8784 - mean_absolute_error: 8.8784 - val_loss: 9.8694 - val_mean_absolute_error: 9.8694\n",
      "Epoch 258/500\n",
      "113/136 [=======================>......] - ETA: 0s - loss: 8.9466 - mean_absolute_error: 8.9466\n",
      "Epoch 258: val_loss did not improve from 9.66166\n",
      "136/136 [==============================] - 0s 2ms/step - loss: 8.9546 - mean_absolute_error: 8.9546 - val_loss: 9.8412 - val_mean_absolute_error: 9.8412\n",
      "Epoch 259/500\n",
      "110/136 [=======================>......] - ETA: 0s - loss: 8.8189 - mean_absolute_error: 8.8189\n",
      "Epoch 259: val_loss did not improve from 9.66166\n",
      "136/136 [==============================] - 0s 2ms/step - loss: 8.8574 - mean_absolute_error: 8.8574 - val_loss: 9.9244 - val_mean_absolute_error: 9.9244\n",
      "Epoch 260/500\n",
      "132/136 [============================>.] - ETA: 0s - loss: 8.7672 - mean_absolute_error: 8.7672\n",
      "Epoch 260: val_loss improved from 9.66166 to 9.60305, saving model to Weights-260--9.60305.hdf5\n",
      "136/136 [==============================] - 0s 2ms/step - loss: 8.8007 - mean_absolute_error: 8.8007 - val_loss: 9.6031 - val_mean_absolute_error: 9.6031\n"
     ]
    },
    {
     "name": "stdout",
     "output_type": "stream",
     "text": [
      "Epoch 261/500\n",
      "133/136 [============================>.] - ETA: 0s - loss: 8.8746 - mean_absolute_error: 8.8746\n",
      "Epoch 261: val_loss did not improve from 9.60305\n",
      "136/136 [==============================] - 0s 2ms/step - loss: 8.8594 - mean_absolute_error: 8.8594 - val_loss: 9.6685 - val_mean_absolute_error: 9.6685\n",
      "Epoch 262/500\n",
      "111/136 [=======================>......] - ETA: 0s - loss: 8.9151 - mean_absolute_error: 8.9151\n",
      "Epoch 262: val_loss did not improve from 9.60305\n",
      "136/136 [==============================] - 0s 2ms/step - loss: 8.8289 - mean_absolute_error: 8.8289 - val_loss: 9.6737 - val_mean_absolute_error: 9.6737\n",
      "Epoch 263/500\n",
      "111/136 [=======================>......] - ETA: 0s - loss: 8.9224 - mean_absolute_error: 8.9224\n",
      "Epoch 263: val_loss did not improve from 9.60305\n",
      "136/136 [==============================] - 0s 2ms/step - loss: 8.8285 - mean_absolute_error: 8.8285 - val_loss: 9.6667 - val_mean_absolute_error: 9.6667\n",
      "Epoch 264/500\n",
      "106/136 [======================>.......] - ETA: 0s - loss: 8.8286 - mean_absolute_error: 8.8286\n",
      "Epoch 264: val_loss did not improve from 9.60305\n",
      "136/136 [==============================] - 0s 2ms/step - loss: 8.8524 - mean_absolute_error: 8.8524 - val_loss: 9.8595 - val_mean_absolute_error: 9.8595\n",
      "Epoch 265/500\n",
      "115/136 [========================>.....] - ETA: 0s - loss: 8.8466 - mean_absolute_error: 8.8466\n",
      "Epoch 265: val_loss did not improve from 9.60305\n",
      "136/136 [==============================] - 0s 2ms/step - loss: 8.8174 - mean_absolute_error: 8.8174 - val_loss: 9.8296 - val_mean_absolute_error: 9.8296\n",
      "Epoch 266/500\n",
      "108/136 [======================>.......] - ETA: 0s - loss: 8.8642 - mean_absolute_error: 8.8642\n",
      "Epoch 266: val_loss did not improve from 9.60305\n",
      "136/136 [==============================] - 0s 2ms/step - loss: 8.8768 - mean_absolute_error: 8.8768 - val_loss: 10.3143 - val_mean_absolute_error: 10.3143\n",
      "Epoch 267/500\n",
      "110/136 [=======================>......] - ETA: 0s - loss: 8.8254 - mean_absolute_error: 8.8254\n",
      "Epoch 267: val_loss did not improve from 9.60305\n",
      "136/136 [==============================] - 0s 2ms/step - loss: 8.8683 - mean_absolute_error: 8.8683 - val_loss: 9.6970 - val_mean_absolute_error: 9.6970\n",
      "Epoch 268/500\n",
      "117/136 [========================>.....] - ETA: 0s - loss: 8.8551 - mean_absolute_error: 8.8551\n",
      "Epoch 268: val_loss did not improve from 9.60305\n",
      "136/136 [==============================] - 0s 2ms/step - loss: 8.9098 - mean_absolute_error: 8.9098 - val_loss: 9.9090 - val_mean_absolute_error: 9.9090\n",
      "Epoch 269/500\n",
      "107/136 [======================>.......] - ETA: 0s - loss: 8.8975 - mean_absolute_error: 8.8975\n",
      "Epoch 269: val_loss did not improve from 9.60305\n",
      "136/136 [==============================] - 0s 2ms/step - loss: 8.8486 - mean_absolute_error: 8.8486 - val_loss: 9.8689 - val_mean_absolute_error: 9.8689\n",
      "Epoch 270/500\n",
      "114/136 [========================>.....] - ETA: 0s - loss: 8.9375 - mean_absolute_error: 8.9375\n",
      "Epoch 270: val_loss did not improve from 9.60305\n",
      "136/136 [==============================] - 0s 2ms/step - loss: 8.8551 - mean_absolute_error: 8.8551 - val_loss: 10.0006 - val_mean_absolute_error: 10.0006\n",
      "Epoch 271/500\n",
      "103/136 [=====================>........] - ETA: 0s - loss: 8.8945 - mean_absolute_error: 8.8945\n",
      "Epoch 271: val_loss did not improve from 9.60305\n",
      "136/136 [==============================] - 0s 2ms/step - loss: 8.8247 - mean_absolute_error: 8.8247 - val_loss: 9.8175 - val_mean_absolute_error: 9.8175\n",
      "Epoch 272/500\n",
      "109/136 [=======================>......] - ETA: 0s - loss: 8.8598 - mean_absolute_error: 8.8598\n",
      "Epoch 272: val_loss did not improve from 9.60305\n",
      "136/136 [==============================] - 0s 2ms/step - loss: 8.8191 - mean_absolute_error: 8.8191 - val_loss: 9.7515 - val_mean_absolute_error: 9.7515\n",
      "Epoch 273/500\n",
      "114/136 [========================>.....] - ETA: 0s - loss: 8.8589 - mean_absolute_error: 8.8589\n",
      "Epoch 273: val_loss did not improve from 9.60305\n",
      "136/136 [==============================] - 0s 2ms/step - loss: 8.8385 - mean_absolute_error: 8.8385 - val_loss: 9.7783 - val_mean_absolute_error: 9.7783\n",
      "Epoch 274/500\n",
      "112/136 [=======================>......] - ETA: 0s - loss: 8.9102 - mean_absolute_error: 8.9102\n",
      "Epoch 274: val_loss did not improve from 9.60305\n",
      "136/136 [==============================] - 0s 2ms/step - loss: 8.9158 - mean_absolute_error: 8.9158 - val_loss: 9.7851 - val_mean_absolute_error: 9.7851\n",
      "Epoch 275/500\n",
      "118/136 [=========================>....] - ETA: 0s - loss: 8.8448 - mean_absolute_error: 8.8448\n",
      "Epoch 275: val_loss did not improve from 9.60305\n",
      "136/136 [==============================] - 0s 2ms/step - loss: 8.8038 - mean_absolute_error: 8.8038 - val_loss: 9.9981 - val_mean_absolute_error: 9.9981\n",
      "Epoch 276/500\n",
      "119/136 [=========================>....] - ETA: 0s - loss: 8.8770 - mean_absolute_error: 8.8770\n",
      "Epoch 276: val_loss did not improve from 9.60305\n",
      "136/136 [==============================] - 0s 2ms/step - loss: 8.8189 - mean_absolute_error: 8.8189 - val_loss: 9.7240 - val_mean_absolute_error: 9.7240\n",
      "Epoch 277/500\n",
      "134/136 [============================>.] - ETA: 0s - loss: 8.7972 - mean_absolute_error: 8.7972\n",
      "Epoch 277: val_loss did not improve from 9.60305\n",
      "136/136 [==============================] - 0s 2ms/step - loss: 8.8093 - mean_absolute_error: 8.8093 - val_loss: 9.7253 - val_mean_absolute_error: 9.7253\n",
      "Epoch 278/500\n",
      "135/136 [============================>.] - ETA: 0s - loss: 8.8868 - mean_absolute_error: 8.8868\n",
      "Epoch 278: val_loss did not improve from 9.60305\n",
      "136/136 [==============================] - 0s 2ms/step - loss: 8.8833 - mean_absolute_error: 8.8833 - val_loss: 9.7609 - val_mean_absolute_error: 9.7609\n",
      "Epoch 279/500\n",
      "103/136 [=====================>........] - ETA: 0s - loss: 8.7618 - mean_absolute_error: 8.7618\n",
      "Epoch 279: val_loss did not improve from 9.60305\n",
      "136/136 [==============================] - 0s 2ms/step - loss: 8.8244 - mean_absolute_error: 8.8244 - val_loss: 10.3992 - val_mean_absolute_error: 10.3992\n",
      "Epoch 280/500\n",
      "112/136 [=======================>......] - ETA: 0s - loss: 8.8213 - mean_absolute_error: 8.8213\n",
      "Epoch 280: val_loss did not improve from 9.60305\n",
      "136/136 [==============================] - 0s 2ms/step - loss: 8.8002 - mean_absolute_error: 8.8002 - val_loss: 9.7371 - val_mean_absolute_error: 9.7371\n",
      "Epoch 281/500\n",
      "116/136 [========================>.....] - ETA: 0s - loss: 8.7934 - mean_absolute_error: 8.7934\n",
      "Epoch 281: val_loss did not improve from 9.60305\n",
      "136/136 [==============================] - 0s 2ms/step - loss: 8.8132 - mean_absolute_error: 8.8132 - val_loss: 9.7998 - val_mean_absolute_error: 9.7998\n",
      "Epoch 282/500\n",
      "115/136 [========================>.....] - ETA: 0s - loss: 8.9087 - mean_absolute_error: 8.9087\n",
      "Epoch 282: val_loss did not improve from 9.60305\n",
      "136/136 [==============================] - 0s 2ms/step - loss: 8.8821 - mean_absolute_error: 8.8821 - val_loss: 9.7539 - val_mean_absolute_error: 9.7539\n",
      "Epoch 283/500\n",
      "108/136 [======================>.......] - ETA: 0s - loss: 8.9288 - mean_absolute_error: 8.9288\n",
      "Epoch 283: val_loss did not improve from 9.60305\n",
      "136/136 [==============================] - 0s 2ms/step - loss: 8.8350 - mean_absolute_error: 8.8350 - val_loss: 9.7106 - val_mean_absolute_error: 9.7106\n",
      "Epoch 284/500\n",
      "118/136 [=========================>....] - ETA: 0s - loss: 8.7626 - mean_absolute_error: 8.7626\n",
      "Epoch 284: val_loss did not improve from 9.60305\n",
      "136/136 [==============================] - 0s 2ms/step - loss: 8.7924 - mean_absolute_error: 8.7924 - val_loss: 9.8589 - val_mean_absolute_error: 9.8589\n",
      "Epoch 285/500\n",
      "104/136 [=====================>........] - ETA: 0s - loss: 8.8145 - mean_absolute_error: 8.8145\n",
      "Epoch 285: val_loss did not improve from 9.60305\n",
      "136/136 [==============================] - 0s 2ms/step - loss: 8.7921 - mean_absolute_error: 8.7921 - val_loss: 9.6936 - val_mean_absolute_error: 9.6936\n",
      "Epoch 286/500\n",
      "111/136 [=======================>......] - ETA: 0s - loss: 8.9736 - mean_absolute_error: 8.9736\n",
      "Epoch 286: val_loss did not improve from 9.60305\n",
      "136/136 [==============================] - 0s 2ms/step - loss: 8.8715 - mean_absolute_error: 8.8715 - val_loss: 9.9322 - val_mean_absolute_error: 9.9322\n",
      "Epoch 287/500\n"
     ]
    },
    {
     "name": "stdout",
     "output_type": "stream",
     "text": [
      "110/136 [=======================>......] - ETA: 0s - loss: 8.8083 - mean_absolute_error: 8.8083\n",
      "Epoch 287: val_loss did not improve from 9.60305\n",
      "136/136 [==============================] - 0s 2ms/step - loss: 8.8096 - mean_absolute_error: 8.8096 - val_loss: 9.7984 - val_mean_absolute_error: 9.7984\n",
      "Epoch 288/500\n",
      "130/136 [===========================>..] - ETA: 0s - loss: 8.7711 - mean_absolute_error: 8.7711\n",
      "Epoch 288: val_loss did not improve from 9.60305\n",
      "136/136 [==============================] - 0s 2ms/step - loss: 8.8128 - mean_absolute_error: 8.8128 - val_loss: 9.8198 - val_mean_absolute_error: 9.8198\n",
      "Epoch 289/500\n",
      "107/136 [======================>.......] - ETA: 0s - loss: 8.8083 - mean_absolute_error: 8.8083\n",
      "Epoch 289: val_loss did not improve from 9.60305\n",
      "136/136 [==============================] - 0s 2ms/step - loss: 8.7655 - mean_absolute_error: 8.7655 - val_loss: 9.6823 - val_mean_absolute_error: 9.6823\n",
      "Epoch 290/500\n",
      "109/136 [=======================>......] - ETA: 0s - loss: 8.6303 - mean_absolute_error: 8.6303\n",
      "Epoch 290: val_loss did not improve from 9.60305\n",
      "136/136 [==============================] - 0s 2ms/step - loss: 8.8030 - mean_absolute_error: 8.8030 - val_loss: 9.6661 - val_mean_absolute_error: 9.6661\n",
      "Epoch 291/500\n",
      "118/136 [=========================>....] - ETA: 0s - loss: 8.7679 - mean_absolute_error: 8.7679\n",
      "Epoch 291: val_loss did not improve from 9.60305\n",
      "136/136 [==============================] - 0s 2ms/step - loss: 8.7887 - mean_absolute_error: 8.7887 - val_loss: 9.7472 - val_mean_absolute_error: 9.7472\n",
      "Epoch 292/500\n",
      "114/136 [========================>.....] - ETA: 0s - loss: 8.7190 - mean_absolute_error: 8.7190\n",
      "Epoch 292: val_loss did not improve from 9.60305\n",
      "136/136 [==============================] - 0s 2ms/step - loss: 8.8034 - mean_absolute_error: 8.8034 - val_loss: 9.6547 - val_mean_absolute_error: 9.6547\n",
      "Epoch 293/500\n",
      "116/136 [========================>.....] - ETA: 0s - loss: 8.8220 - mean_absolute_error: 8.8220\n",
      "Epoch 293: val_loss did not improve from 9.60305\n",
      "136/136 [==============================] - 0s 2ms/step - loss: 8.8151 - mean_absolute_error: 8.8151 - val_loss: 9.7378 - val_mean_absolute_error: 9.7378\n",
      "Epoch 294/500\n",
      "110/136 [=======================>......] - ETA: 0s - loss: 8.8945 - mean_absolute_error: 8.8945\n",
      "Epoch 294: val_loss did not improve from 9.60305\n",
      "136/136 [==============================] - 0s 2ms/step - loss: 8.8071 - mean_absolute_error: 8.8071 - val_loss: 10.1051 - val_mean_absolute_error: 10.1051\n",
      "Epoch 295/500\n",
      "110/136 [=======================>......] - ETA: 0s - loss: 8.9376 - mean_absolute_error: 8.9376\n",
      "Epoch 295: val_loss did not improve from 9.60305\n",
      "136/136 [==============================] - 0s 2ms/step - loss: 8.9164 - mean_absolute_error: 8.9164 - val_loss: 9.8698 - val_mean_absolute_error: 9.8698\n",
      "Epoch 296/500\n",
      "107/136 [======================>.......] - ETA: 0s - loss: 8.8636 - mean_absolute_error: 8.8636\n",
      "Epoch 296: val_loss did not improve from 9.60305\n",
      "136/136 [==============================] - 0s 2ms/step - loss: 8.8414 - mean_absolute_error: 8.8414 - val_loss: 9.7182 - val_mean_absolute_error: 9.7182\n",
      "Epoch 297/500\n",
      "113/136 [=======================>......] - ETA: 0s - loss: 8.7365 - mean_absolute_error: 8.7365\n",
      "Epoch 297: val_loss did not improve from 9.60305\n",
      "136/136 [==============================] - 0s 2ms/step - loss: 8.8485 - mean_absolute_error: 8.8485 - val_loss: 9.7872 - val_mean_absolute_error: 9.7872\n",
      "Epoch 298/500\n",
      "112/136 [=======================>......] - ETA: 0s - loss: 8.8777 - mean_absolute_error: 8.8777\n",
      "Epoch 298: val_loss did not improve from 9.60305\n",
      "136/136 [==============================] - 0s 2ms/step - loss: 8.8082 - mean_absolute_error: 8.8082 - val_loss: 9.6404 - val_mean_absolute_error: 9.6404\n",
      "Epoch 299/500\n",
      "106/136 [======================>.......] - ETA: 0s - loss: 8.7126 - mean_absolute_error: 8.7126\n",
      "Epoch 299: val_loss did not improve from 9.60305\n",
      "136/136 [==============================] - 0s 2ms/step - loss: 8.7592 - mean_absolute_error: 8.7592 - val_loss: 9.8232 - val_mean_absolute_error: 9.8232\n",
      "Epoch 300/500\n",
      "112/136 [=======================>......] - ETA: 0s - loss: 8.8410 - mean_absolute_error: 8.8410\n",
      "Epoch 300: val_loss did not improve from 9.60305\n",
      "136/136 [==============================] - 0s 2ms/step - loss: 8.7328 - mean_absolute_error: 8.7328 - val_loss: 9.7733 - val_mean_absolute_error: 9.7733\n",
      "Epoch 301/500\n",
      "127/136 [===========================>..] - ETA: 0s - loss: 8.8137 - mean_absolute_error: 8.8137\n",
      "Epoch 301: val_loss did not improve from 9.60305\n",
      "136/136 [==============================] - 0s 2ms/step - loss: 8.8557 - mean_absolute_error: 8.8557 - val_loss: 10.0099 - val_mean_absolute_error: 10.0099\n",
      "Epoch 302/500\n",
      "135/136 [============================>.] - ETA: 0s - loss: 8.8283 - mean_absolute_error: 8.8283\n",
      "Epoch 302: val_loss did not improve from 9.60305\n",
      "136/136 [==============================] - 0s 2ms/step - loss: 8.8336 - mean_absolute_error: 8.8336 - val_loss: 9.8067 - val_mean_absolute_error: 9.8067\n",
      "Epoch 303/500\n",
      "129/136 [===========================>..] - ETA: 0s - loss: 8.7833 - mean_absolute_error: 8.7833\n",
      "Epoch 303: val_loss did not improve from 9.60305\n",
      "136/136 [==============================] - 0s 2ms/step - loss: 8.7713 - mean_absolute_error: 8.7713 - val_loss: 9.8172 - val_mean_absolute_error: 9.8172\n",
      "Epoch 304/500\n",
      "120/136 [=========================>....] - ETA: 0s - loss: 8.8109 - mean_absolute_error: 8.8109\n",
      "Epoch 304: val_loss did not improve from 9.60305\n",
      "136/136 [==============================] - 0s 2ms/step - loss: 8.8204 - mean_absolute_error: 8.8204 - val_loss: 9.6626 - val_mean_absolute_error: 9.6626\n",
      "Epoch 305/500\n",
      "122/136 [=========================>....] - ETA: 0s - loss: 8.7805 - mean_absolute_error: 8.7805\n",
      "Epoch 305: val_loss did not improve from 9.60305\n",
      "136/136 [==============================] - 0s 2ms/step - loss: 8.7984 - mean_absolute_error: 8.7984 - val_loss: 9.8823 - val_mean_absolute_error: 9.8823\n",
      "Epoch 306/500\n",
      "119/136 [=========================>....] - ETA: 0s - loss: 8.9671 - mean_absolute_error: 8.9671\n",
      "Epoch 306: val_loss did not improve from 9.60305\n",
      "136/136 [==============================] - 0s 2ms/step - loss: 8.8856 - mean_absolute_error: 8.8856 - val_loss: 9.8243 - val_mean_absolute_error: 9.8243\n",
      "Epoch 307/500\n",
      "115/136 [========================>.....] - ETA: 0s - loss: 8.7494 - mean_absolute_error: 8.7494\n",
      "Epoch 307: val_loss did not improve from 9.60305\n",
      "136/136 [==============================] - 0s 2ms/step - loss: 8.8063 - mean_absolute_error: 8.8063 - val_loss: 9.8532 - val_mean_absolute_error: 9.8532\n",
      "Epoch 308/500\n",
      "117/136 [========================>.....] - ETA: 0s - loss: 8.8052 - mean_absolute_error: 8.8052\n",
      "Epoch 308: val_loss did not improve from 9.60305\n",
      "136/136 [==============================] - 0s 2ms/step - loss: 8.8315 - mean_absolute_error: 8.8315 - val_loss: 9.6605 - val_mean_absolute_error: 9.6605\n",
      "Epoch 309/500\n",
      "123/136 [==========================>...] - ETA: 0s - loss: 8.7432 - mean_absolute_error: 8.7432\n",
      "Epoch 309: val_loss did not improve from 9.60305\n",
      "136/136 [==============================] - 0s 2ms/step - loss: 8.7909 - mean_absolute_error: 8.7909 - val_loss: 9.6232 - val_mean_absolute_error: 9.6232\n",
      "Epoch 310/500\n",
      "119/136 [=========================>....] - ETA: 0s - loss: 8.8321 - mean_absolute_error: 8.8321\n",
      "Epoch 310: val_loss did not improve from 9.60305\n",
      "136/136 [==============================] - 0s 2ms/step - loss: 8.8306 - mean_absolute_error: 8.8306 - val_loss: 9.9409 - val_mean_absolute_error: 9.9409\n",
      "Epoch 311/500\n",
      "122/136 [=========================>....] - ETA: 0s - loss: 8.8194 - mean_absolute_error: 8.8194\n",
      "Epoch 311: val_loss did not improve from 9.60305\n",
      "136/136 [==============================] - 0s 2ms/step - loss: 8.8201 - mean_absolute_error: 8.8201 - val_loss: 9.6762 - val_mean_absolute_error: 9.6762\n",
      "Epoch 312/500\n",
      "119/136 [=========================>....] - ETA: 0s - loss: 8.7518 - mean_absolute_error: 8.7518\n",
      "Epoch 312: val_loss did not improve from 9.60305\n",
      "136/136 [==============================] - 0s 2ms/step - loss: 8.7888 - mean_absolute_error: 8.7888 - val_loss: 9.9344 - val_mean_absolute_error: 9.9344\n",
      "Epoch 313/500\n"
     ]
    },
    {
     "name": "stdout",
     "output_type": "stream",
     "text": [
      "133/136 [============================>.] - ETA: 0s - loss: 8.8322 - mean_absolute_error: 8.8322\n",
      "Epoch 313: val_loss did not improve from 9.60305\n",
      "136/136 [==============================] - 0s 2ms/step - loss: 8.8236 - mean_absolute_error: 8.8236 - val_loss: 9.6689 - val_mean_absolute_error: 9.6689\n",
      "Epoch 314/500\n",
      "130/136 [===========================>..] - ETA: 0s - loss: 8.7799 - mean_absolute_error: 8.7799\n",
      "Epoch 314: val_loss did not improve from 9.60305\n",
      "136/136 [==============================] - 0s 2ms/step - loss: 8.7810 - mean_absolute_error: 8.7810 - val_loss: 9.7146 - val_mean_absolute_error: 9.7146\n",
      "Epoch 315/500\n",
      "128/136 [===========================>..] - ETA: 0s - loss: 8.7685 - mean_absolute_error: 8.7685\n",
      "Epoch 315: val_loss did not improve from 9.60305\n",
      "136/136 [==============================] - 0s 2ms/step - loss: 8.7624 - mean_absolute_error: 8.7624 - val_loss: 10.0379 - val_mean_absolute_error: 10.0379\n",
      "Epoch 316/500\n",
      "104/136 [=====================>........] - ETA: 0s - loss: 8.6486 - mean_absolute_error: 8.6486\n",
      "Epoch 316: val_loss did not improve from 9.60305\n",
      "136/136 [==============================] - 0s 2ms/step - loss: 8.7825 - mean_absolute_error: 8.7825 - val_loss: 9.7628 - val_mean_absolute_error: 9.7628\n",
      "Epoch 317/500\n",
      "131/136 [===========================>..] - ETA: 0s - loss: 8.8143 - mean_absolute_error: 8.8143\n",
      "Epoch 317: val_loss did not improve from 9.60305\n",
      "136/136 [==============================] - 0s 2ms/step - loss: 8.7995 - mean_absolute_error: 8.7995 - val_loss: 9.8356 - val_mean_absolute_error: 9.8356\n",
      "Epoch 318/500\n",
      "135/136 [============================>.] - ETA: 0s - loss: 8.7702 - mean_absolute_error: 8.7702\n",
      "Epoch 318: val_loss did not improve from 9.60305\n",
      "136/136 [==============================] - 0s 2ms/step - loss: 8.7653 - mean_absolute_error: 8.7653 - val_loss: 9.6622 - val_mean_absolute_error: 9.6622\n",
      "Epoch 319/500\n",
      "132/136 [============================>.] - ETA: 0s - loss: 8.7545 - mean_absolute_error: 8.7545\n",
      "Epoch 319: val_loss did not improve from 9.60305\n",
      "136/136 [==============================] - 0s 2ms/step - loss: 8.7461 - mean_absolute_error: 8.7461 - val_loss: 9.7141 - val_mean_absolute_error: 9.7141\n",
      "Epoch 320/500\n",
      "135/136 [============================>.] - ETA: 0s - loss: 8.8822 - mean_absolute_error: 8.8822\n",
      "Epoch 320: val_loss did not improve from 9.60305\n",
      "136/136 [==============================] - 0s 2ms/step - loss: 8.8797 - mean_absolute_error: 8.8797 - val_loss: 9.7890 - val_mean_absolute_error: 9.7890\n",
      "Epoch 321/500\n",
      "133/136 [============================>.] - ETA: 0s - loss: 8.8287 - mean_absolute_error: 8.8287\n",
      "Epoch 321: val_loss did not improve from 9.60305\n",
      "136/136 [==============================] - 0s 2ms/step - loss: 8.7892 - mean_absolute_error: 8.7892 - val_loss: 9.6290 - val_mean_absolute_error: 9.6290\n",
      "Epoch 322/500\n",
      "122/136 [=========================>....] - ETA: 0s - loss: 8.8688 - mean_absolute_error: 8.8688\n",
      "Epoch 322: val_loss did not improve from 9.60305\n",
      "136/136 [==============================] - 0s 2ms/step - loss: 8.8187 - mean_absolute_error: 8.8187 - val_loss: 9.8299 - val_mean_absolute_error: 9.8299\n",
      "Epoch 323/500\n",
      "112/136 [=======================>......] - ETA: 0s - loss: 8.7333 - mean_absolute_error: 8.7333\n",
      "Epoch 323: val_loss did not improve from 9.60305\n",
      "136/136 [==============================] - 0s 2ms/step - loss: 8.7768 - mean_absolute_error: 8.7768 - val_loss: 9.6393 - val_mean_absolute_error: 9.6393\n",
      "Epoch 324/500\n",
      "130/136 [===========================>..] - ETA: 0s - loss: 8.7292 - mean_absolute_error: 8.7292\n",
      "Epoch 324: val_loss did not improve from 9.60305\n",
      "136/136 [==============================] - 0s 2ms/step - loss: 8.7248 - mean_absolute_error: 8.7248 - val_loss: 9.9132 - val_mean_absolute_error: 9.9132\n",
      "Epoch 325/500\n",
      "109/136 [=======================>......] - ETA: 0s - loss: 8.7424 - mean_absolute_error: 8.7424\n",
      "Epoch 325: val_loss did not improve from 9.60305\n",
      "136/136 [==============================] - 0s 2ms/step - loss: 8.7535 - mean_absolute_error: 8.7535 - val_loss: 9.7609 - val_mean_absolute_error: 9.7609\n",
      "Epoch 326/500\n",
      "107/136 [======================>.......] - ETA: 0s - loss: 8.7193 - mean_absolute_error: 8.7193\n",
      "Epoch 326: val_loss did not improve from 9.60305\n",
      "136/136 [==============================] - 0s 2ms/step - loss: 8.7856 - mean_absolute_error: 8.7856 - val_loss: 9.8305 - val_mean_absolute_error: 9.8305\n",
      "Epoch 327/500\n",
      "136/136 [==============================] - ETA: 0s - loss: 8.7435 - mean_absolute_error: 8.7435\n",
      "Epoch 327: val_loss did not improve from 9.60305\n",
      "136/136 [==============================] - 0s 2ms/step - loss: 8.7435 - mean_absolute_error: 8.7435 - val_loss: 9.9634 - val_mean_absolute_error: 9.9634\n",
      "Epoch 328/500\n",
      "130/136 [===========================>..] - ETA: 0s - loss: 8.7354 - mean_absolute_error: 8.7354\n",
      "Epoch 328: val_loss did not improve from 9.60305\n",
      "136/136 [==============================] - 0s 2ms/step - loss: 8.7852 - mean_absolute_error: 8.7852 - val_loss: 9.7227 - val_mean_absolute_error: 9.7227\n",
      "Epoch 329/500\n",
      "109/136 [=======================>......] - ETA: 0s - loss: 8.6931 - mean_absolute_error: 8.6931\n",
      "Epoch 329: val_loss did not improve from 9.60305\n",
      "136/136 [==============================] - 0s 2ms/step - loss: 8.7664 - mean_absolute_error: 8.7664 - val_loss: 9.7470 - val_mean_absolute_error: 9.7470\n",
      "Epoch 330/500\n",
      "108/136 [======================>.......] - ETA: 0s - loss: 8.6855 - mean_absolute_error: 8.6855\n",
      "Epoch 330: val_loss did not improve from 9.60305\n",
      "136/136 [==============================] - 0s 2ms/step - loss: 8.7640 - mean_absolute_error: 8.7640 - val_loss: 9.6898 - val_mean_absolute_error: 9.6898\n",
      "Epoch 331/500\n",
      "107/136 [======================>.......] - ETA: 0s - loss: 8.8073 - mean_absolute_error: 8.8073\n",
      "Epoch 331: val_loss did not improve from 9.60305\n",
      "136/136 [==============================] - 0s 2ms/step - loss: 8.7820 - mean_absolute_error: 8.7820 - val_loss: 9.7763 - val_mean_absolute_error: 9.7763\n",
      "Epoch 332/500\n",
      "114/136 [========================>.....] - ETA: 0s - loss: 8.7568 - mean_absolute_error: 8.7568\n",
      "Epoch 332: val_loss did not improve from 9.60305\n",
      "136/136 [==============================] - 0s 2ms/step - loss: 8.7316 - mean_absolute_error: 8.7316 - val_loss: 9.7382 - val_mean_absolute_error: 9.7382\n",
      "Epoch 333/500\n",
      "111/136 [=======================>......] - ETA: 0s - loss: 8.7960 - mean_absolute_error: 8.7960\n",
      "Epoch 333: val_loss did not improve from 9.60305\n",
      "136/136 [==============================] - 0s 2ms/step - loss: 8.8105 - mean_absolute_error: 8.8105 - val_loss: 9.7962 - val_mean_absolute_error: 9.7962\n",
      "Epoch 334/500\n",
      "108/136 [======================>.......] - ETA: 0s - loss: 8.8651 - mean_absolute_error: 8.8651\n",
      "Epoch 334: val_loss did not improve from 9.60305\n",
      "136/136 [==============================] - 0s 2ms/step - loss: 8.8555 - mean_absolute_error: 8.8555 - val_loss: 9.9146 - val_mean_absolute_error: 9.9146\n",
      "Epoch 335/500\n",
      "116/136 [========================>.....] - ETA: 0s - loss: 8.6485 - mean_absolute_error: 8.6485\n",
      "Epoch 335: val_loss did not improve from 9.60305\n",
      "136/136 [==============================] - 0s 2ms/step - loss: 8.7348 - mean_absolute_error: 8.7348 - val_loss: 9.6645 - val_mean_absolute_error: 9.6645\n",
      "Epoch 336/500\n",
      "111/136 [=======================>......] - ETA: 0s - loss: 8.7883 - mean_absolute_error: 8.7883\n",
      "Epoch 336: val_loss did not improve from 9.60305\n",
      "136/136 [==============================] - 0s 2ms/step - loss: 8.7452 - mean_absolute_error: 8.7452 - val_loss: 9.6916 - val_mean_absolute_error: 9.6916\n",
      "Epoch 337/500\n",
      "108/136 [======================>.......] - ETA: 0s - loss: 8.7221 - mean_absolute_error: 8.7221\n",
      "Epoch 337: val_loss did not improve from 9.60305\n",
      "136/136 [==============================] - 0s 2ms/step - loss: 8.7388 - mean_absolute_error: 8.7388 - val_loss: 9.9151 - val_mean_absolute_error: 9.9151\n",
      "Epoch 338/500\n",
      "113/136 [=======================>......] - ETA: 0s - loss: 8.7300 - mean_absolute_error: 8.7300\n",
      "Epoch 338: val_loss did not improve from 9.60305\n",
      "136/136 [==============================] - 0s 2ms/step - loss: 8.7916 - mean_absolute_error: 8.7916 - val_loss: 9.7276 - val_mean_absolute_error: 9.7276\n",
      "Epoch 339/500\n"
     ]
    },
    {
     "name": "stdout",
     "output_type": "stream",
     "text": [
      "107/136 [======================>.......] - ETA: 0s - loss: 8.7194 - mean_absolute_error: 8.7194\n",
      "Epoch 339: val_loss did not improve from 9.60305\n",
      "136/136 [==============================] - 0s 2ms/step - loss: 8.7801 - mean_absolute_error: 8.7801 - val_loss: 9.6046 - val_mean_absolute_error: 9.6046\n",
      "Epoch 340/500\n",
      "103/136 [=====================>........] - ETA: 0s - loss: 8.6683 - mean_absolute_error: 8.6683\n",
      "Epoch 340: val_loss did not improve from 9.60305\n",
      "136/136 [==============================] - 0s 2ms/step - loss: 8.7243 - mean_absolute_error: 8.7243 - val_loss: 9.7512 - val_mean_absolute_error: 9.7512\n",
      "Epoch 341/500\n",
      "109/136 [=======================>......] - ETA: 0s - loss: 8.7542 - mean_absolute_error: 8.7542\n",
      "Epoch 341: val_loss did not improve from 9.60305\n",
      "136/136 [==============================] - 0s 2ms/step - loss: 8.7474 - mean_absolute_error: 8.7474 - val_loss: 9.7237 - val_mean_absolute_error: 9.7237\n",
      "Epoch 342/500\n",
      "108/136 [======================>.......] - ETA: 0s - loss: 8.6199 - mean_absolute_error: 8.6199\n",
      "Epoch 342: val_loss did not improve from 9.60305\n",
      "136/136 [==============================] - 0s 2ms/step - loss: 8.7354 - mean_absolute_error: 8.7354 - val_loss: 9.7755 - val_mean_absolute_error: 9.7755\n",
      "Epoch 343/500\n",
      "115/136 [========================>.....] - ETA: 0s - loss: 8.6386 - mean_absolute_error: 8.6386\n",
      "Epoch 343: val_loss did not improve from 9.60305\n",
      "136/136 [==============================] - 0s 2ms/step - loss: 8.7666 - mean_absolute_error: 8.7666 - val_loss: 9.6801 - val_mean_absolute_error: 9.6801\n",
      "Epoch 344/500\n",
      "111/136 [=======================>......] - ETA: 0s - loss: 8.6889 - mean_absolute_error: 8.6889\n",
      "Epoch 344: val_loss did not improve from 9.60305\n",
      "136/136 [==============================] - 0s 2ms/step - loss: 8.7272 - mean_absolute_error: 8.7272 - val_loss: 9.7953 - val_mean_absolute_error: 9.7953\n",
      "Epoch 345/500\n",
      "109/136 [=======================>......] - ETA: 0s - loss: 8.7659 - mean_absolute_error: 8.7659\n",
      "Epoch 345: val_loss did not improve from 9.60305\n",
      "136/136 [==============================] - 0s 2ms/step - loss: 8.7612 - mean_absolute_error: 8.7612 - val_loss: 9.8916 - val_mean_absolute_error: 9.8916\n",
      "Epoch 346/500\n",
      "114/136 [========================>.....] - ETA: 0s - loss: 8.7834 - mean_absolute_error: 8.7834\n",
      "Epoch 346: val_loss did not improve from 9.60305\n",
      "136/136 [==============================] - 0s 2ms/step - loss: 8.7466 - mean_absolute_error: 8.7466 - val_loss: 9.6890 - val_mean_absolute_error: 9.6890\n",
      "Epoch 347/500\n",
      "112/136 [=======================>......] - ETA: 0s - loss: 8.6413 - mean_absolute_error: 8.6413\n",
      "Epoch 347: val_loss did not improve from 9.60305\n",
      "136/136 [==============================] - 0s 2ms/step - loss: 8.6841 - mean_absolute_error: 8.6841 - val_loss: 9.7906 - val_mean_absolute_error: 9.7906\n",
      "Epoch 348/500\n",
      "105/136 [======================>.......] - ETA: 0s - loss: 8.7123 - mean_absolute_error: 8.7123\n",
      "Epoch 348: val_loss did not improve from 9.60305\n",
      "136/136 [==============================] - 0s 2ms/step - loss: 8.7465 - mean_absolute_error: 8.7465 - val_loss: 9.6387 - val_mean_absolute_error: 9.6387\n",
      "Epoch 349/500\n",
      "114/136 [========================>.....] - ETA: 0s - loss: 8.8117 - mean_absolute_error: 8.8117\n",
      "Epoch 349: val_loss did not improve from 9.60305\n",
      "136/136 [==============================] - 0s 2ms/step - loss: 8.7560 - mean_absolute_error: 8.7560 - val_loss: 9.7233 - val_mean_absolute_error: 9.7233\n",
      "Epoch 350/500\n",
      "112/136 [=======================>......] - ETA: 0s - loss: 8.7722 - mean_absolute_error: 8.7722\n",
      "Epoch 350: val_loss did not improve from 9.60305\n",
      "136/136 [==============================] - 0s 2ms/step - loss: 8.7848 - mean_absolute_error: 8.7848 - val_loss: 9.9674 - val_mean_absolute_error: 9.9674\n",
      "Epoch 351/500\n",
      "109/136 [=======================>......] - ETA: 0s - loss: 8.7172 - mean_absolute_error: 8.7172\n",
      "Epoch 351: val_loss did not improve from 9.60305\n",
      "136/136 [==============================] - 0s 2ms/step - loss: 8.7383 - mean_absolute_error: 8.7383 - val_loss: 9.6263 - val_mean_absolute_error: 9.6263\n",
      "Epoch 352/500\n",
      "114/136 [========================>.....] - ETA: 0s - loss: 8.7142 - mean_absolute_error: 8.7142\n",
      "Epoch 352: val_loss did not improve from 9.60305\n",
      "136/136 [==============================] - 0s 2ms/step - loss: 8.6952 - mean_absolute_error: 8.6952 - val_loss: 9.9879 - val_mean_absolute_error: 9.9879\n",
      "Epoch 353/500\n",
      "106/136 [======================>.......] - ETA: 0s - loss: 8.7450 - mean_absolute_error: 8.7450\n",
      "Epoch 353: val_loss did not improve from 9.60305\n",
      "136/136 [==============================] - 0s 2ms/step - loss: 8.7650 - mean_absolute_error: 8.7650 - val_loss: 9.6317 - val_mean_absolute_error: 9.6317\n",
      "Epoch 354/500\n",
      "115/136 [========================>.....] - ETA: 0s - loss: 8.7188 - mean_absolute_error: 8.7188\n",
      "Epoch 354: val_loss did not improve from 9.60305\n",
      "136/136 [==============================] - 0s 2ms/step - loss: 8.7176 - mean_absolute_error: 8.7176 - val_loss: 9.6834 - val_mean_absolute_error: 9.6834\n",
      "Epoch 355/500\n",
      "109/136 [=======================>......] - ETA: 0s - loss: 8.7595 - mean_absolute_error: 8.7595\n",
      "Epoch 355: val_loss did not improve from 9.60305\n",
      "136/136 [==============================] - 0s 2ms/step - loss: 8.7184 - mean_absolute_error: 8.7184 - val_loss: 9.7297 - val_mean_absolute_error: 9.7297\n",
      "Epoch 356/500\n",
      "105/136 [======================>.......] - ETA: 0s - loss: 8.6378 - mean_absolute_error: 8.6378\n",
      "Epoch 356: val_loss did not improve from 9.60305\n",
      "136/136 [==============================] - 0s 2ms/step - loss: 8.6778 - mean_absolute_error: 8.6778 - val_loss: 9.6715 - val_mean_absolute_error: 9.6715\n",
      "Epoch 357/500\n",
      "115/136 [========================>.....] - ETA: 0s - loss: 8.7023 - mean_absolute_error: 8.7023\n",
      "Epoch 357: val_loss did not improve from 9.60305\n",
      "136/136 [==============================] - 0s 2ms/step - loss: 8.6746 - mean_absolute_error: 8.6746 - val_loss: 9.6701 - val_mean_absolute_error: 9.6701\n",
      "Epoch 358/500\n",
      "109/136 [=======================>......] - ETA: 0s - loss: 8.7426 - mean_absolute_error: 8.7426\n",
      "Epoch 358: val_loss did not improve from 9.60305\n",
      "136/136 [==============================] - 0s 2ms/step - loss: 8.7148 - mean_absolute_error: 8.7148 - val_loss: 9.8825 - val_mean_absolute_error: 9.8825\n",
      "Epoch 359/500\n",
      "117/136 [========================>.....] - ETA: 0s - loss: 8.6463 - mean_absolute_error: 8.6463\n",
      "Epoch 359: val_loss did not improve from 9.60305\n",
      "136/136 [==============================] - 0s 2ms/step - loss: 8.7046 - mean_absolute_error: 8.7046 - val_loss: 9.7382 - val_mean_absolute_error: 9.7382\n",
      "Epoch 360/500\n",
      "116/136 [========================>.....] - ETA: 0s - loss: 8.8376 - mean_absolute_error: 8.8376\n",
      "Epoch 360: val_loss did not improve from 9.60305\n",
      "136/136 [==============================] - 0s 2ms/step - loss: 8.7847 - mean_absolute_error: 8.7847 - val_loss: 9.7383 - val_mean_absolute_error: 9.7383\n",
      "Epoch 361/500\n",
      "109/136 [=======================>......] - ETA: 0s - loss: 8.6464 - mean_absolute_error: 8.6464\n",
      "Epoch 361: val_loss did not improve from 9.60305\n",
      "136/136 [==============================] - 0s 2ms/step - loss: 8.7041 - mean_absolute_error: 8.7041 - val_loss: 9.6900 - val_mean_absolute_error: 9.6900\n",
      "Epoch 362/500\n",
      "118/136 [=========================>....] - ETA: 0s - loss: 8.5755 - mean_absolute_error: 8.5755\n",
      "Epoch 362: val_loss did not improve from 9.60305\n",
      "136/136 [==============================] - 0s 2ms/step - loss: 8.6529 - mean_absolute_error: 8.6529 - val_loss: 9.6589 - val_mean_absolute_error: 9.6589\n",
      "Epoch 363/500\n",
      "107/136 [======================>.......] - ETA: 0s - loss: 8.9102 - mean_absolute_error: 8.9102\n",
      "Epoch 363: val_loss did not improve from 9.60305\n",
      "136/136 [==============================] - 0s 2ms/step - loss: 8.7667 - mean_absolute_error: 8.7667 - val_loss: 9.6694 - val_mean_absolute_error: 9.6694\n",
      "Epoch 364/500\n",
      "111/136 [=======================>......] - ETA: 0s - loss: 8.7313 - mean_absolute_error: 8.7313\n",
      "Epoch 364: val_loss did not improve from 9.60305\n",
      "136/136 [==============================] - 0s 2ms/step - loss: 8.7068 - mean_absolute_error: 8.7068 - val_loss: 9.7642 - val_mean_absolute_error: 9.7642\n",
      "Epoch 365/500\n"
     ]
    },
    {
     "name": "stdout",
     "output_type": "stream",
     "text": [
      "110/136 [=======================>......] - ETA: 0s - loss: 8.6313 - mean_absolute_error: 8.6313\n",
      "Epoch 365: val_loss did not improve from 9.60305\n",
      "136/136 [==============================] - 0s 2ms/step - loss: 8.6895 - mean_absolute_error: 8.6895 - val_loss: 9.8307 - val_mean_absolute_error: 9.8307\n",
      "Epoch 366/500\n",
      "113/136 [=======================>......] - ETA: 0s - loss: 8.7199 - mean_absolute_error: 8.7199\n",
      "Epoch 366: val_loss did not improve from 9.60305\n",
      "136/136 [==============================] - 0s 2ms/step - loss: 8.7127 - mean_absolute_error: 8.7127 - val_loss: 10.0105 - val_mean_absolute_error: 10.0105\n",
      "Epoch 367/500\n",
      "118/136 [=========================>....] - ETA: 0s - loss: 8.6277 - mean_absolute_error: 8.6277\n",
      "Epoch 367: val_loss did not improve from 9.60305\n",
      "136/136 [==============================] - 0s 2ms/step - loss: 8.6780 - mean_absolute_error: 8.6780 - val_loss: 9.9627 - val_mean_absolute_error: 9.9627\n",
      "Epoch 368/500\n",
      "117/136 [========================>.....] - ETA: 0s - loss: 8.6994 - mean_absolute_error: 8.6994\n",
      "Epoch 368: val_loss did not improve from 9.60305\n",
      "136/136 [==============================] - 0s 2ms/step - loss: 8.7091 - mean_absolute_error: 8.7091 - val_loss: 9.7729 - val_mean_absolute_error: 9.7729\n",
      "Epoch 369/500\n",
      "112/136 [=======================>......] - ETA: 0s - loss: 8.6620 - mean_absolute_error: 8.6620\n",
      "Epoch 369: val_loss did not improve from 9.60305\n",
      "136/136 [==============================] - 0s 2ms/step - loss: 8.6697 - mean_absolute_error: 8.6697 - val_loss: 9.6473 - val_mean_absolute_error: 9.6473\n",
      "Epoch 370/500\n",
      "114/136 [========================>.....] - ETA: 0s - loss: 8.7934 - mean_absolute_error: 8.7934\n",
      "Epoch 370: val_loss did not improve from 9.60305\n",
      "136/136 [==============================] - 0s 2ms/step - loss: 8.7746 - mean_absolute_error: 8.7746 - val_loss: 9.6916 - val_mean_absolute_error: 9.6916\n",
      "Epoch 371/500\n",
      "112/136 [=======================>......] - ETA: 0s - loss: 8.6409 - mean_absolute_error: 8.6409\n",
      "Epoch 371: val_loss did not improve from 9.60305\n",
      "136/136 [==============================] - 0s 2ms/step - loss: 8.7080 - mean_absolute_error: 8.7080 - val_loss: 9.8261 - val_mean_absolute_error: 9.8261\n",
      "Epoch 372/500\n",
      "113/136 [=======================>......] - ETA: 0s - loss: 8.8123 - mean_absolute_error: 8.8123\n",
      "Epoch 372: val_loss did not improve from 9.60305\n",
      "136/136 [==============================] - 0s 2ms/step - loss: 8.7404 - mean_absolute_error: 8.7404 - val_loss: 10.0484 - val_mean_absolute_error: 10.0484\n",
      "Epoch 373/500\n",
      "111/136 [=======================>......] - ETA: 0s - loss: 8.7161 - mean_absolute_error: 8.7161\n",
      "Epoch 373: val_loss did not improve from 9.60305\n",
      "136/136 [==============================] - 0s 2ms/step - loss: 8.7458 - mean_absolute_error: 8.7458 - val_loss: 9.8375 - val_mean_absolute_error: 9.8375\n",
      "Epoch 374/500\n",
      "106/136 [======================>.......] - ETA: 0s - loss: 8.7423 - mean_absolute_error: 8.7423\n",
      "Epoch 374: val_loss did not improve from 9.60305\n",
      "136/136 [==============================] - 0s 2ms/step - loss: 8.6992 - mean_absolute_error: 8.6992 - val_loss: 9.6980 - val_mean_absolute_error: 9.6980\n",
      "Epoch 375/500\n",
      "112/136 [=======================>......] - ETA: 0s - loss: 8.7665 - mean_absolute_error: 8.7665\n",
      "Epoch 375: val_loss did not improve from 9.60305\n",
      "136/136 [==============================] - 0s 2ms/step - loss: 8.7015 - mean_absolute_error: 8.7015 - val_loss: 9.7746 - val_mean_absolute_error: 9.7746\n",
      "Epoch 376/500\n",
      "118/136 [=========================>....] - ETA: 0s - loss: 8.5805 - mean_absolute_error: 8.5805\n",
      "Epoch 376: val_loss did not improve from 9.60305\n",
      "136/136 [==============================] - 0s 2ms/step - loss: 8.6565 - mean_absolute_error: 8.6565 - val_loss: 9.6733 - val_mean_absolute_error: 9.6733\n",
      "Epoch 377/500\n",
      "116/136 [========================>.....] - ETA: 0s - loss: 8.6319 - mean_absolute_error: 8.6319\n",
      "Epoch 377: val_loss did not improve from 9.60305\n",
      "136/136 [==============================] - 0s 2ms/step - loss: 8.6869 - mean_absolute_error: 8.6869 - val_loss: 10.1736 - val_mean_absolute_error: 10.1736\n",
      "Epoch 378/500\n",
      "111/136 [=======================>......] - ETA: 0s - loss: 8.7154 - mean_absolute_error: 8.7154\n",
      "Epoch 378: val_loss did not improve from 9.60305\n",
      "136/136 [==============================] - 0s 2ms/step - loss: 8.6977 - mean_absolute_error: 8.6977 - val_loss: 9.8977 - val_mean_absolute_error: 9.8977\n",
      "Epoch 379/500\n",
      "112/136 [=======================>......] - ETA: 0s - loss: 8.7483 - mean_absolute_error: 8.7483\n",
      "Epoch 379: val_loss did not improve from 9.60305\n",
      "136/136 [==============================] - 0s 2ms/step - loss: 8.7636 - mean_absolute_error: 8.7636 - val_loss: 9.8657 - val_mean_absolute_error: 9.8657\n",
      "Epoch 380/500\n",
      "136/136 [==============================] - ETA: 0s - loss: 8.6255 - mean_absolute_error: 8.6255\n",
      "Epoch 380: val_loss did not improve from 9.60305\n",
      "136/136 [==============================] - 0s 2ms/step - loss: 8.6255 - mean_absolute_error: 8.6255 - val_loss: 9.7591 - val_mean_absolute_error: 9.7591\n",
      "Epoch 381/500\n",
      "108/136 [======================>.......] - ETA: 0s - loss: 8.7166 - mean_absolute_error: 8.7166\n",
      "Epoch 381: val_loss improved from 9.60305 to 9.60236, saving model to Weights-381--9.60236.hdf5\n",
      "136/136 [==============================] - 0s 2ms/step - loss: 8.7295 - mean_absolute_error: 8.7295 - val_loss: 9.6024 - val_mean_absolute_error: 9.6024\n",
      "Epoch 382/500\n",
      "135/136 [============================>.] - ETA: 0s - loss: 8.7140 - mean_absolute_error: 8.7140\n",
      "Epoch 382: val_loss did not improve from 9.60236\n",
      "136/136 [==============================] - 0s 2ms/step - loss: 8.7131 - mean_absolute_error: 8.7131 - val_loss: 9.6740 - val_mean_absolute_error: 9.6740\n",
      "Epoch 383/500\n",
      "107/136 [======================>.......] - ETA: 0s - loss: 8.6293 - mean_absolute_error: 8.6293\n",
      "Epoch 383: val_loss did not improve from 9.60236\n",
      "136/136 [==============================] - 0s 2ms/step - loss: 8.6801 - mean_absolute_error: 8.6801 - val_loss: 9.8177 - val_mean_absolute_error: 9.8177\n",
      "Epoch 384/500\n",
      "107/136 [======================>.......] - ETA: 0s - loss: 8.6373 - mean_absolute_error: 8.6373\n",
      "Epoch 384: val_loss did not improve from 9.60236\n",
      "136/136 [==============================] - 0s 2ms/step - loss: 8.6827 - mean_absolute_error: 8.6827 - val_loss: 9.6849 - val_mean_absolute_error: 9.6849\n",
      "Epoch 385/500\n",
      "111/136 [=======================>......] - ETA: 0s - loss: 8.6604 - mean_absolute_error: 8.6604\n",
      "Epoch 385: val_loss did not improve from 9.60236\n",
      "136/136 [==============================] - 0s 2ms/step - loss: 8.7103 - mean_absolute_error: 8.7103 - val_loss: 9.6983 - val_mean_absolute_error: 9.6983\n",
      "Epoch 386/500\n",
      "115/136 [========================>.....] - ETA: 0s - loss: 8.6776 - mean_absolute_error: 8.6776\n",
      "Epoch 386: val_loss did not improve from 9.60236\n",
      "136/136 [==============================] - 0s 2ms/step - loss: 8.6721 - mean_absolute_error: 8.6721 - val_loss: 10.0027 - val_mean_absolute_error: 10.0027\n",
      "Epoch 387/500\n",
      "111/136 [=======================>......] - ETA: 0s - loss: 8.4945 - mean_absolute_error: 8.4945\n",
      "Epoch 387: val_loss did not improve from 9.60236\n",
      "136/136 [==============================] - 0s 2ms/step - loss: 8.6754 - mean_absolute_error: 8.6754 - val_loss: 9.7655 - val_mean_absolute_error: 9.7655\n",
      "Epoch 388/500\n",
      "114/136 [========================>.....] - ETA: 0s - loss: 8.6358 - mean_absolute_error: 8.6358\n",
      "Epoch 388: val_loss did not improve from 9.60236\n",
      "136/136 [==============================] - 0s 2ms/step - loss: 8.6243 - mean_absolute_error: 8.6243 - val_loss: 9.8533 - val_mean_absolute_error: 9.8533\n",
      "Epoch 389/500\n",
      "111/136 [=======================>......] - ETA: 0s - loss: 8.7651 - mean_absolute_error: 8.7651\n",
      "Epoch 389: val_loss did not improve from 9.60236\n",
      "136/136 [==============================] - 0s 2ms/step - loss: 8.6841 - mean_absolute_error: 8.6841 - val_loss: 9.7322 - val_mean_absolute_error: 9.7322\n",
      "Epoch 390/500\n",
      "116/136 [========================>.....] - ETA: 0s - loss: 8.6602 - mean_absolute_error: 8.6602\n",
      "Epoch 390: val_loss did not improve from 9.60236\n",
      "136/136 [==============================] - 0s 2ms/step - loss: 8.6365 - mean_absolute_error: 8.6365 - val_loss: 9.7055 - val_mean_absolute_error: 9.7055\n",
      "Epoch 391/500\n"
     ]
    },
    {
     "name": "stdout",
     "output_type": "stream",
     "text": [
      "111/136 [=======================>......] - ETA: 0s - loss: 8.7102 - mean_absolute_error: 8.7102\n",
      "Epoch 391: val_loss did not improve from 9.60236\n",
      "136/136 [==============================] - 0s 2ms/step - loss: 8.6746 - mean_absolute_error: 8.6746 - val_loss: 9.6332 - val_mean_absolute_error: 9.6332\n",
      "Epoch 392/500\n",
      "114/136 [========================>.....] - ETA: 0s - loss: 8.6781 - mean_absolute_error: 8.6781\n",
      "Epoch 392: val_loss did not improve from 9.60236\n",
      "136/136 [==============================] - 0s 2ms/step - loss: 8.6831 - mean_absolute_error: 8.6831 - val_loss: 9.6189 - val_mean_absolute_error: 9.6189\n",
      "Epoch 393/500\n",
      "117/136 [========================>.....] - ETA: 0s - loss: 8.6263 - mean_absolute_error: 8.6263\n",
      "Epoch 393: val_loss did not improve from 9.60236\n",
      "136/136 [==============================] - 0s 2ms/step - loss: 8.6306 - mean_absolute_error: 8.6306 - val_loss: 9.6881 - val_mean_absolute_error: 9.6881\n",
      "Epoch 394/500\n",
      "119/136 [=========================>....] - ETA: 0s - loss: 8.6001 - mean_absolute_error: 8.6001\n",
      "Epoch 394: val_loss did not improve from 9.60236\n",
      "136/136 [==============================] - 0s 2ms/step - loss: 8.6711 - mean_absolute_error: 8.6711 - val_loss: 9.6912 - val_mean_absolute_error: 9.6912\n",
      "Epoch 395/500\n",
      "121/136 [=========================>....] - ETA: 0s - loss: 8.6596 - mean_absolute_error: 8.6596\n",
      "Epoch 395: val_loss did not improve from 9.60236\n",
      "136/136 [==============================] - 0s 2ms/step - loss: 8.6817 - mean_absolute_error: 8.6817 - val_loss: 9.7021 - val_mean_absolute_error: 9.7021\n",
      "Epoch 396/500\n",
      "118/136 [=========================>....] - ETA: 0s - loss: 8.6923 - mean_absolute_error: 8.6923\n",
      "Epoch 396: val_loss did not improve from 9.60236\n",
      "136/136 [==============================] - 0s 2ms/step - loss: 8.7029 - mean_absolute_error: 8.7029 - val_loss: 9.8382 - val_mean_absolute_error: 9.8382\n",
      "Epoch 397/500\n",
      "117/136 [========================>.....] - ETA: 0s - loss: 8.6509 - mean_absolute_error: 8.6509\n",
      "Epoch 397: val_loss did not improve from 9.60236\n",
      "136/136 [==============================] - 0s 2ms/step - loss: 8.6588 - mean_absolute_error: 8.6588 - val_loss: 9.7813 - val_mean_absolute_error: 9.7813\n",
      "Epoch 398/500\n",
      "116/136 [========================>.....] - ETA: 0s - loss: 8.6751 - mean_absolute_error: 8.6751\n",
      "Epoch 398: val_loss did not improve from 9.60236\n",
      "136/136 [==============================] - 0s 2ms/step - loss: 8.6765 - mean_absolute_error: 8.6765 - val_loss: 9.7628 - val_mean_absolute_error: 9.7628\n",
      "Epoch 399/500\n",
      "115/136 [========================>.....] - ETA: 0s - loss: 8.5038 - mean_absolute_error: 8.5038\n",
      "Epoch 399: val_loss did not improve from 9.60236\n",
      "136/136 [==============================] - 0s 2ms/step - loss: 8.6050 - mean_absolute_error: 8.6050 - val_loss: 9.8394 - val_mean_absolute_error: 9.8394\n",
      "Epoch 400/500\n",
      "114/136 [========================>.....] - ETA: 0s - loss: 8.6763 - mean_absolute_error: 8.6763\n",
      "Epoch 400: val_loss did not improve from 9.60236\n",
      "136/136 [==============================] - 0s 2ms/step - loss: 8.7014 - mean_absolute_error: 8.7014 - val_loss: 9.6274 - val_mean_absolute_error: 9.6274\n",
      "Epoch 401/500\n",
      "115/136 [========================>.....] - ETA: 0s - loss: 8.7239 - mean_absolute_error: 8.7239\n",
      "Epoch 401: val_loss did not improve from 9.60236\n",
      "136/136 [==============================] - 0s 2ms/step - loss: 8.6934 - mean_absolute_error: 8.6934 - val_loss: 9.6761 - val_mean_absolute_error: 9.6761\n",
      "Epoch 402/500\n",
      "117/136 [========================>.....] - ETA: 0s - loss: 8.7339 - mean_absolute_error: 8.7339\n",
      "Epoch 402: val_loss did not improve from 9.60236\n",
      "136/136 [==============================] - 0s 2ms/step - loss: 8.6873 - mean_absolute_error: 8.6873 - val_loss: 9.8915 - val_mean_absolute_error: 9.8915\n",
      "Epoch 403/500\n",
      "135/136 [============================>.] - ETA: 0s - loss: 8.6984 - mean_absolute_error: 8.6984\n",
      "Epoch 403: val_loss did not improve from 9.60236\n",
      "136/136 [==============================] - 0s 2ms/step - loss: 8.6990 - mean_absolute_error: 8.6990 - val_loss: 9.9031 - val_mean_absolute_error: 9.9031\n",
      "Epoch 404/500\n",
      "105/136 [======================>.......] - ETA: 0s - loss: 8.6029 - mean_absolute_error: 8.6029\n",
      "Epoch 404: val_loss did not improve from 9.60236\n",
      "136/136 [==============================] - 0s 2ms/step - loss: 8.6627 - mean_absolute_error: 8.6627 - val_loss: 9.6957 - val_mean_absolute_error: 9.6957\n",
      "Epoch 405/500\n",
      "115/136 [========================>.....] - ETA: 0s - loss: 8.6127 - mean_absolute_error: 8.6127\n",
      "Epoch 405: val_loss did not improve from 9.60236\n",
      "136/136 [==============================] - 0s 2ms/step - loss: 8.6503 - mean_absolute_error: 8.6503 - val_loss: 9.7137 - val_mean_absolute_error: 9.7137\n",
      "Epoch 406/500\n",
      "118/136 [=========================>....] - ETA: 0s - loss: 8.7242 - mean_absolute_error: 8.7242\n",
      "Epoch 406: val_loss did not improve from 9.60236\n",
      "136/136 [==============================] - 0s 2ms/step - loss: 8.6531 - mean_absolute_error: 8.6531 - val_loss: 9.6259 - val_mean_absolute_error: 9.6259\n",
      "Epoch 407/500\n",
      "114/136 [========================>.....] - ETA: 0s - loss: 8.6790 - mean_absolute_error: 8.6790\n",
      "Epoch 407: val_loss did not improve from 9.60236\n",
      "136/136 [==============================] - 0s 2ms/step - loss: 8.6693 - mean_absolute_error: 8.6693 - val_loss: 9.7150 - val_mean_absolute_error: 9.7150\n",
      "Epoch 408/500\n",
      "110/136 [=======================>......] - ETA: 0s - loss: 8.7943 - mean_absolute_error: 8.7943\n",
      "Epoch 408: val_loss did not improve from 9.60236\n",
      "136/136 [==============================] - 0s 2ms/step - loss: 8.6568 - mean_absolute_error: 8.6568 - val_loss: 9.7620 - val_mean_absolute_error: 9.7620\n",
      "Epoch 409/500\n",
      "112/136 [=======================>......] - ETA: 0s - loss: 8.6536 - mean_absolute_error: 8.6536\n",
      "Epoch 409: val_loss did not improve from 9.60236\n",
      "136/136 [==============================] - 0s 2ms/step - loss: 8.6718 - mean_absolute_error: 8.6718 - val_loss: 9.7218 - val_mean_absolute_error: 9.7218\n",
      "Epoch 410/500\n",
      "108/136 [======================>.......] - ETA: 0s - loss: 8.6425 - mean_absolute_error: 8.6425\n",
      "Epoch 410: val_loss did not improve from 9.60236\n",
      "136/136 [==============================] - 0s 2ms/step - loss: 8.6189 - mean_absolute_error: 8.6189 - val_loss: 9.6056 - val_mean_absolute_error: 9.6056\n",
      "Epoch 411/500\n",
      "117/136 [========================>.....] - ETA: 0s - loss: 8.7484 - mean_absolute_error: 8.7484\n",
      "Epoch 411: val_loss did not improve from 9.60236\n",
      "136/136 [==============================] - 0s 2ms/step - loss: 8.6712 - mean_absolute_error: 8.6712 - val_loss: 10.1069 - val_mean_absolute_error: 10.1069\n",
      "Epoch 412/500\n",
      "111/136 [=======================>......] - ETA: 0s - loss: 8.6646 - mean_absolute_error: 8.6646\n",
      "Epoch 412: val_loss did not improve from 9.60236\n",
      "136/136 [==============================] - 0s 2ms/step - loss: 8.7021 - mean_absolute_error: 8.7021 - val_loss: 9.8114 - val_mean_absolute_error: 9.8114\n",
      "Epoch 413/500\n",
      "116/136 [========================>.....] - ETA: 0s - loss: 8.6715 - mean_absolute_error: 8.6715\n",
      "Epoch 413: val_loss did not improve from 9.60236\n",
      "136/136 [==============================] - 0s 2ms/step - loss: 8.6613 - mean_absolute_error: 8.6613 - val_loss: 9.8623 - val_mean_absolute_error: 9.8623\n",
      "Epoch 414/500\n",
      "113/136 [=======================>......] - ETA: 0s - loss: 8.7076 - mean_absolute_error: 8.7076\n",
      "Epoch 414: val_loss did not improve from 9.60236\n",
      "136/136 [==============================] - 0s 2ms/step - loss: 8.6569 - mean_absolute_error: 8.6569 - val_loss: 9.9779 - val_mean_absolute_error: 9.9779\n",
      "Epoch 415/500\n",
      "112/136 [=======================>......] - ETA: 0s - loss: 8.8219 - mean_absolute_error: 8.8219\n",
      "Epoch 415: val_loss did not improve from 9.60236\n",
      "136/136 [==============================] - 0s 2ms/step - loss: 8.7521 - mean_absolute_error: 8.7521 - val_loss: 9.6726 - val_mean_absolute_error: 9.6726\n",
      "Epoch 416/500\n",
      "116/136 [========================>.....] - ETA: 0s - loss: 8.6731 - mean_absolute_error: 8.6731\n",
      "Epoch 416: val_loss did not improve from 9.60236\n",
      "136/136 [==============================] - 0s 2ms/step - loss: 8.6781 - mean_absolute_error: 8.6781 - val_loss: 9.8194 - val_mean_absolute_error: 9.8194\n",
      "Epoch 417/500\n"
     ]
    },
    {
     "name": "stdout",
     "output_type": "stream",
     "text": [
      "110/136 [=======================>......] - ETA: 0s - loss: 8.6922 - mean_absolute_error: 8.6922\n",
      "Epoch 417: val_loss did not improve from 9.60236\n",
      "136/136 [==============================] - 0s 2ms/step - loss: 8.6553 - mean_absolute_error: 8.6553 - val_loss: 9.7530 - val_mean_absolute_error: 9.7530\n",
      "Epoch 418/500\n",
      "114/136 [========================>.....] - ETA: 0s - loss: 8.7071 - mean_absolute_error: 8.7071\n",
      "Epoch 418: val_loss did not improve from 9.60236\n",
      "136/136 [==============================] - 0s 2ms/step - loss: 8.6677 - mean_absolute_error: 8.6677 - val_loss: 9.7259 - val_mean_absolute_error: 9.7259\n",
      "Epoch 419/500\n",
      "112/136 [=======================>......] - ETA: 0s - loss: 8.5165 - mean_absolute_error: 8.5165\n",
      "Epoch 419: val_loss did not improve from 9.60236\n",
      "136/136 [==============================] - 0s 2ms/step - loss: 8.5797 - mean_absolute_error: 8.5797 - val_loss: 9.6502 - val_mean_absolute_error: 9.6502\n",
      "Epoch 420/500\n",
      "114/136 [========================>.....] - ETA: 0s - loss: 8.6445 - mean_absolute_error: 8.6445\n",
      "Epoch 420: val_loss did not improve from 9.60236\n",
      "136/136 [==============================] - 0s 2ms/step - loss: 8.6624 - mean_absolute_error: 8.6624 - val_loss: 9.8202 - val_mean_absolute_error: 9.8202\n",
      "Epoch 421/500\n",
      "111/136 [=======================>......] - ETA: 0s - loss: 8.5623 - mean_absolute_error: 8.5623\n",
      "Epoch 421: val_loss did not improve from 9.60236\n",
      "136/136 [==============================] - 0s 2ms/step - loss: 8.5859 - mean_absolute_error: 8.5859 - val_loss: 9.6709 - val_mean_absolute_error: 9.6709\n",
      "Epoch 422/500\n",
      "108/136 [======================>.......] - ETA: 0s - loss: 8.7693 - mean_absolute_error: 8.7693\n",
      "Epoch 422: val_loss did not improve from 9.60236\n",
      "136/136 [==============================] - 0s 2ms/step - loss: 8.6254 - mean_absolute_error: 8.6254 - val_loss: 9.7454 - val_mean_absolute_error: 9.7454\n",
      "Epoch 423/500\n",
      "119/136 [=========================>....] - ETA: 0s - loss: 8.7461 - mean_absolute_error: 8.7461\n",
      "Epoch 423: val_loss did not improve from 9.60236\n",
      "136/136 [==============================] - 0s 2ms/step - loss: 8.6763 - mean_absolute_error: 8.6763 - val_loss: 9.7159 - val_mean_absolute_error: 9.7159\n",
      "Epoch 424/500\n",
      "125/136 [==========================>...] - ETA: 0s - loss: 8.6398 - mean_absolute_error: 8.6398\n",
      "Epoch 424: val_loss did not improve from 9.60236\n",
      "136/136 [==============================] - 0s 2ms/step - loss: 8.6117 - mean_absolute_error: 8.6117 - val_loss: 9.7515 - val_mean_absolute_error: 9.7515\n",
      "Epoch 425/500\n",
      "105/136 [======================>.......] - ETA: 0s - loss: 8.6182 - mean_absolute_error: 8.6182\n",
      "Epoch 425: val_loss did not improve from 9.60236\n",
      "136/136 [==============================] - 0s 2ms/step - loss: 8.5919 - mean_absolute_error: 8.5919 - val_loss: 9.6606 - val_mean_absolute_error: 9.6606\n",
      "Epoch 426/500\n",
      "106/136 [======================>.......] - ETA: 0s - loss: 8.7227 - mean_absolute_error: 8.7227\n",
      "Epoch 426: val_loss did not improve from 9.60236\n",
      "136/136 [==============================] - 0s 2ms/step - loss: 8.6069 - mean_absolute_error: 8.6069 - val_loss: 9.7376 - val_mean_absolute_error: 9.7376\n",
      "Epoch 427/500\n",
      "111/136 [=======================>......] - ETA: 0s - loss: 8.5832 - mean_absolute_error: 8.5832\n",
      "Epoch 427: val_loss did not improve from 9.60236\n",
      "136/136 [==============================] - 0s 2ms/step - loss: 8.6323 - mean_absolute_error: 8.6323 - val_loss: 9.7032 - val_mean_absolute_error: 9.7032\n",
      "Epoch 428/500\n",
      "111/136 [=======================>......] - ETA: 0s - loss: 8.7548 - mean_absolute_error: 8.7548\n",
      "Epoch 428: val_loss did not improve from 9.60236\n",
      "136/136 [==============================] - 0s 2ms/step - loss: 8.6744 - mean_absolute_error: 8.6744 - val_loss: 9.7338 - val_mean_absolute_error: 9.7338\n",
      "Epoch 429/500\n",
      "117/136 [========================>.....] - ETA: 0s - loss: 8.6223 - mean_absolute_error: 8.6223\n",
      "Epoch 429: val_loss did not improve from 9.60236\n",
      "136/136 [==============================] - 0s 2ms/step - loss: 8.6294 - mean_absolute_error: 8.6294 - val_loss: 9.6647 - val_mean_absolute_error: 9.6647\n",
      "Epoch 430/500\n",
      "112/136 [=======================>......] - ETA: 0s - loss: 8.7339 - mean_absolute_error: 8.7339\n",
      "Epoch 430: val_loss did not improve from 9.60236\n",
      "136/136 [==============================] - 0s 2ms/step - loss: 8.6608 - mean_absolute_error: 8.6608 - val_loss: 9.7561 - val_mean_absolute_error: 9.7561\n",
      "Epoch 431/500\n",
      "114/136 [========================>.....] - ETA: 0s - loss: 8.6710 - mean_absolute_error: 8.6710\n",
      "Epoch 431: val_loss did not improve from 9.60236\n",
      "136/136 [==============================] - 0s 2ms/step - loss: 8.6192 - mean_absolute_error: 8.6192 - val_loss: 9.7533 - val_mean_absolute_error: 9.7533\n",
      "Epoch 432/500\n",
      "117/136 [========================>.....] - ETA: 0s - loss: 8.6306 - mean_absolute_error: 8.6306\n",
      "Epoch 432: val_loss did not improve from 9.60236\n",
      "136/136 [==============================] - 0s 2ms/step - loss: 8.6076 - mean_absolute_error: 8.6076 - val_loss: 9.8559 - val_mean_absolute_error: 9.8559\n",
      "Epoch 433/500\n",
      "103/136 [=====================>........] - ETA: 0s - loss: 8.6799 - mean_absolute_error: 8.6799\n",
      "Epoch 433: val_loss did not improve from 9.60236\n",
      "136/136 [==============================] - 0s 2ms/step - loss: 8.6291 - mean_absolute_error: 8.6291 - val_loss: 9.8688 - val_mean_absolute_error: 9.8688\n",
      "Epoch 434/500\n",
      "115/136 [========================>.....] - ETA: 0s - loss: 8.5667 - mean_absolute_error: 8.5667\n",
      "Epoch 434: val_loss did not improve from 9.60236\n",
      "136/136 [==============================] - 0s 2ms/step - loss: 8.6081 - mean_absolute_error: 8.6081 - val_loss: 9.8521 - val_mean_absolute_error: 9.8521\n",
      "Epoch 435/500\n",
      "109/136 [=======================>......] - ETA: 0s - loss: 8.6300 - mean_absolute_error: 8.6300\n",
      "Epoch 435: val_loss did not improve from 9.60236\n",
      "136/136 [==============================] - 0s 2ms/step - loss: 8.6363 - mean_absolute_error: 8.6363 - val_loss: 9.7642 - val_mean_absolute_error: 9.7642\n",
      "Epoch 436/500\n",
      "112/136 [=======================>......] - ETA: 0s - loss: 8.7386 - mean_absolute_error: 8.7386\n",
      "Epoch 436: val_loss did not improve from 9.60236\n",
      "136/136 [==============================] - 0s 2ms/step - loss: 8.7569 - mean_absolute_error: 8.7569 - val_loss: 9.7270 - val_mean_absolute_error: 9.7270\n",
      "Epoch 437/500\n",
      "117/136 [========================>.....] - ETA: 0s - loss: 8.6694 - mean_absolute_error: 8.6694\n",
      "Epoch 437: val_loss did not improve from 9.60236\n",
      "136/136 [==============================] - 0s 2ms/step - loss: 8.6338 - mean_absolute_error: 8.6338 - val_loss: 9.6871 - val_mean_absolute_error: 9.6871\n",
      "Epoch 438/500\n",
      "117/136 [========================>.....] - ETA: 0s - loss: 8.6668 - mean_absolute_error: 8.6668\n",
      "Epoch 438: val_loss did not improve from 9.60236\n",
      "136/136 [==============================] - 0s 2ms/step - loss: 8.5845 - mean_absolute_error: 8.5845 - val_loss: 10.2404 - val_mean_absolute_error: 10.2404\n",
      "Epoch 439/500\n",
      "111/136 [=======================>......] - ETA: 0s - loss: 8.5750 - mean_absolute_error: 8.5750\n",
      "Epoch 439: val_loss did not improve from 9.60236\n",
      "136/136 [==============================] - 0s 2ms/step - loss: 8.6491 - mean_absolute_error: 8.6491 - val_loss: 9.7591 - val_mean_absolute_error: 9.7591\n",
      "Epoch 440/500\n",
      "116/136 [========================>.....] - ETA: 0s - loss: 8.5969 - mean_absolute_error: 8.5969\n",
      "Epoch 440: val_loss did not improve from 9.60236\n",
      "136/136 [==============================] - 0s 2ms/step - loss: 8.6123 - mean_absolute_error: 8.6123 - val_loss: 9.8023 - val_mean_absolute_error: 9.8023\n",
      "Epoch 441/500\n",
      "112/136 [=======================>......] - ETA: 0s - loss: 8.6246 - mean_absolute_error: 8.6246\n",
      "Epoch 441: val_loss did not improve from 9.60236\n",
      "136/136 [==============================] - 0s 2ms/step - loss: 8.6252 - mean_absolute_error: 8.6252 - val_loss: 9.7140 - val_mean_absolute_error: 9.7140\n",
      "Epoch 442/500\n",
      "107/136 [======================>.......] - ETA: 0s - loss: 8.6744 - mean_absolute_error: 8.6744\n",
      "Epoch 442: val_loss did not improve from 9.60236\n",
      "136/136 [==============================] - 0s 2ms/step - loss: 8.6430 - mean_absolute_error: 8.6430 - val_loss: 9.6720 - val_mean_absolute_error: 9.6720\n",
      "Epoch 443/500\n"
     ]
    },
    {
     "name": "stdout",
     "output_type": "stream",
     "text": [
      "107/136 [======================>.......] - ETA: 0s - loss: 8.5903 - mean_absolute_error: 8.5903\n",
      "Epoch 443: val_loss did not improve from 9.60236\n",
      "136/136 [==============================] - 0s 2ms/step - loss: 8.6401 - mean_absolute_error: 8.6401 - val_loss: 9.7124 - val_mean_absolute_error: 9.7124\n",
      "Epoch 444/500\n",
      "111/136 [=======================>......] - ETA: 0s - loss: 8.6165 - mean_absolute_error: 8.6165\n",
      "Epoch 444: val_loss did not improve from 9.60236\n",
      "136/136 [==============================] - 0s 2ms/step - loss: 8.6142 - mean_absolute_error: 8.6142 - val_loss: 9.9015 - val_mean_absolute_error: 9.9015\n",
      "Epoch 445/500\n",
      "115/136 [========================>.....] - ETA: 0s - loss: 8.5679 - mean_absolute_error: 8.5679\n",
      "Epoch 445: val_loss did not improve from 9.60236\n",
      "136/136 [==============================] - 0s 2ms/step - loss: 8.5981 - mean_absolute_error: 8.5981 - val_loss: 9.8912 - val_mean_absolute_error: 9.8912\n",
      "Epoch 446/500\n",
      "112/136 [=======================>......] - ETA: 0s - loss: 8.5879 - mean_absolute_error: 8.5879\n",
      "Epoch 446: val_loss did not improve from 9.60236\n",
      "136/136 [==============================] - 0s 2ms/step - loss: 8.5886 - mean_absolute_error: 8.5886 - val_loss: 9.8379 - val_mean_absolute_error: 9.8379\n",
      "Epoch 447/500\n",
      "116/136 [========================>.....] - ETA: 0s - loss: 8.6337 - mean_absolute_error: 8.6337\n",
      "Epoch 447: val_loss did not improve from 9.60236\n",
      "136/136 [==============================] - 0s 2ms/step - loss: 8.6302 - mean_absolute_error: 8.6302 - val_loss: 9.9400 - val_mean_absolute_error: 9.9400\n",
      "Epoch 448/500\n",
      "116/136 [========================>.....] - ETA: 0s - loss: 8.7031 - mean_absolute_error: 8.7031\n",
      "Epoch 448: val_loss did not improve from 9.60236\n",
      "136/136 [==============================] - 0s 2ms/step - loss: 8.6795 - mean_absolute_error: 8.6795 - val_loss: 9.7856 - val_mean_absolute_error: 9.7856\n",
      "Epoch 449/500\n",
      "111/136 [=======================>......] - ETA: 0s - loss: 8.7225 - mean_absolute_error: 8.7225\n",
      "Epoch 449: val_loss did not improve from 9.60236\n",
      "136/136 [==============================] - 0s 2ms/step - loss: 8.6640 - mean_absolute_error: 8.6640 - val_loss: 9.7575 - val_mean_absolute_error: 9.7575\n",
      "Epoch 450/500\n",
      "113/136 [=======================>......] - ETA: 0s - loss: 8.6189 - mean_absolute_error: 8.6189\n",
      "Epoch 450: val_loss did not improve from 9.60236\n",
      "136/136 [==============================] - 0s 2ms/step - loss: 8.5906 - mean_absolute_error: 8.5906 - val_loss: 9.8830 - val_mean_absolute_error: 9.8830\n",
      "Epoch 451/500\n",
      "109/136 [=======================>......] - ETA: 0s - loss: 8.7002 - mean_absolute_error: 8.7002\n",
      "Epoch 451: val_loss did not improve from 9.60236\n",
      "136/136 [==============================] - 0s 2ms/step - loss: 8.6368 - mean_absolute_error: 8.6368 - val_loss: 9.7065 - val_mean_absolute_error: 9.7065\n",
      "Epoch 452/500\n",
      "111/136 [=======================>......] - ETA: 0s - loss: 8.5675 - mean_absolute_error: 8.5675\n",
      "Epoch 452: val_loss did not improve from 9.60236\n",
      "136/136 [==============================] - 0s 2ms/step - loss: 8.5980 - mean_absolute_error: 8.5980 - val_loss: 9.8596 - val_mean_absolute_error: 9.8596\n",
      "Epoch 453/500\n",
      "112/136 [=======================>......] - ETA: 0s - loss: 8.5882 - mean_absolute_error: 8.5882\n",
      "Epoch 453: val_loss did not improve from 9.60236\n",
      "136/136 [==============================] - 0s 2ms/step - loss: 8.6586 - mean_absolute_error: 8.6586 - val_loss: 9.7529 - val_mean_absolute_error: 9.7529\n",
      "Epoch 454/500\n",
      "119/136 [=========================>....] - ETA: 0s - loss: 8.5459 - mean_absolute_error: 8.5459\n",
      "Epoch 454: val_loss did not improve from 9.60236\n",
      "136/136 [==============================] - 0s 2ms/step - loss: 8.5937 - mean_absolute_error: 8.5937 - val_loss: 9.7769 - val_mean_absolute_error: 9.7769\n",
      "Epoch 455/500\n",
      "111/136 [=======================>......] - ETA: 0s - loss: 8.5874 - mean_absolute_error: 8.5874\n",
      "Epoch 455: val_loss did not improve from 9.60236\n",
      "136/136 [==============================] - 0s 2ms/step - loss: 8.5996 - mean_absolute_error: 8.5996 - val_loss: 9.9939 - val_mean_absolute_error: 9.9939\n",
      "Epoch 456/500\n",
      "111/136 [=======================>......] - ETA: 0s - loss: 8.6551 - mean_absolute_error: 8.6551\n",
      "Epoch 456: val_loss did not improve from 9.60236\n",
      "136/136 [==============================] - 0s 2ms/step - loss: 8.6326 - mean_absolute_error: 8.6326 - val_loss: 9.6442 - val_mean_absolute_error: 9.6442\n",
      "Epoch 457/500\n",
      "120/136 [=========================>....] - ETA: 0s - loss: 8.6877 - mean_absolute_error: 8.6877\n",
      "Epoch 457: val_loss did not improve from 9.60236\n",
      "136/136 [==============================] - 0s 2ms/step - loss: 8.6190 - mean_absolute_error: 8.6190 - val_loss: 9.8387 - val_mean_absolute_error: 9.8387\n",
      "Epoch 458/500\n",
      "109/136 [=======================>......] - ETA: 0s - loss: 8.5178 - mean_absolute_error: 8.5178\n",
      "Epoch 458: val_loss did not improve from 9.60236\n",
      "136/136 [==============================] - 0s 2ms/step - loss: 8.6034 - mean_absolute_error: 8.6034 - val_loss: 9.8253 - val_mean_absolute_error: 9.8253\n",
      "Epoch 459/500\n",
      "111/136 [=======================>......] - ETA: 0s - loss: 8.6504 - mean_absolute_error: 8.6504\n",
      "Epoch 459: val_loss did not improve from 9.60236\n",
      "136/136 [==============================] - 0s 2ms/step - loss: 8.6129 - mean_absolute_error: 8.6129 - val_loss: 9.7139 - val_mean_absolute_error: 9.7139\n",
      "Epoch 460/500\n",
      "112/136 [=======================>......] - ETA: 0s - loss: 8.5664 - mean_absolute_error: 8.5664\n",
      "Epoch 460: val_loss did not improve from 9.60236\n",
      "136/136 [==============================] - 0s 2ms/step - loss: 8.5726 - mean_absolute_error: 8.5726 - val_loss: 9.6788 - val_mean_absolute_error: 9.6788\n",
      "Epoch 461/500\n",
      "136/136 [==============================] - ETA: 0s - loss: 8.6197 - mean_absolute_error: 8.6197\n",
      "Epoch 461: val_loss did not improve from 9.60236\n",
      "136/136 [==============================] - 0s 2ms/step - loss: 8.6197 - mean_absolute_error: 8.6197 - val_loss: 9.7667 - val_mean_absolute_error: 9.7667\n",
      "Epoch 462/500\n",
      "111/136 [=======================>......] - ETA: 0s - loss: 8.5578 - mean_absolute_error: 8.5578\n",
      "Epoch 462: val_loss did not improve from 9.60236\n",
      "136/136 [==============================] - 0s 2ms/step - loss: 8.5927 - mean_absolute_error: 8.5927 - val_loss: 9.7510 - val_mean_absolute_error: 9.7510\n",
      "Epoch 463/500\n",
      "114/136 [========================>.....] - ETA: 0s - loss: 8.5403 - mean_absolute_error: 8.5403\n",
      "Epoch 463: val_loss did not improve from 9.60236\n",
      "136/136 [==============================] - 0s 2ms/step - loss: 8.5882 - mean_absolute_error: 8.5882 - val_loss: 9.9802 - val_mean_absolute_error: 9.9802\n",
      "Epoch 464/500\n",
      "114/136 [========================>.....] - ETA: 0s - loss: 8.5918 - mean_absolute_error: 8.5918\n",
      "Epoch 464: val_loss did not improve from 9.60236\n",
      "136/136 [==============================] - 0s 2ms/step - loss: 8.6078 - mean_absolute_error: 8.6078 - val_loss: 9.6581 - val_mean_absolute_error: 9.6581\n",
      "Epoch 465/500\n",
      "114/136 [========================>.....] - ETA: 0s - loss: 8.6443 - mean_absolute_error: 8.6443\n",
      "Epoch 465: val_loss did not improve from 9.60236\n",
      "136/136 [==============================] - 0s 2ms/step - loss: 8.5986 - mean_absolute_error: 8.5986 - val_loss: 9.7394 - val_mean_absolute_error: 9.7394\n",
      "Epoch 466/500\n",
      "109/136 [=======================>......] - ETA: 0s - loss: 8.6444 - mean_absolute_error: 8.6444\n",
      "Epoch 466: val_loss did not improve from 9.60236\n",
      "136/136 [==============================] - 0s 2ms/step - loss: 8.5969 - mean_absolute_error: 8.5969 - val_loss: 9.6810 - val_mean_absolute_error: 9.6810\n",
      "Epoch 467/500\n",
      "113/136 [=======================>......] - ETA: 0s - loss: 8.5948 - mean_absolute_error: 8.5948\n",
      "Epoch 467: val_loss did not improve from 9.60236\n",
      "136/136 [==============================] - 0s 2ms/step - loss: 8.5683 - mean_absolute_error: 8.5683 - val_loss: 9.9700 - val_mean_absolute_error: 9.9700\n",
      "Epoch 468/500\n",
      "109/136 [=======================>......] - ETA: 0s - loss: 8.6098 - mean_absolute_error: 8.6098\n",
      "Epoch 468: val_loss did not improve from 9.60236\n",
      "136/136 [==============================] - 0s 2ms/step - loss: 8.6050 - mean_absolute_error: 8.6050 - val_loss: 9.6930 - val_mean_absolute_error: 9.6930\n",
      "Epoch 469/500\n"
     ]
    },
    {
     "name": "stdout",
     "output_type": "stream",
     "text": [
      "111/136 [=======================>......] - ETA: 0s - loss: 8.4678 - mean_absolute_error: 8.4678\n",
      "Epoch 469: val_loss did not improve from 9.60236\n",
      "136/136 [==============================] - 0s 2ms/step - loss: 8.5869 - mean_absolute_error: 8.5869 - val_loss: 10.0442 - val_mean_absolute_error: 10.0442\n",
      "Epoch 470/500\n",
      "113/136 [=======================>......] - ETA: 0s - loss: 8.5686 - mean_absolute_error: 8.5686\n",
      "Epoch 470: val_loss did not improve from 9.60236\n",
      "136/136 [==============================] - 0s 2ms/step - loss: 8.6102 - mean_absolute_error: 8.6102 - val_loss: 9.7241 - val_mean_absolute_error: 9.7241\n",
      "Epoch 471/500\n",
      "108/136 [======================>.......] - ETA: 0s - loss: 8.6824 - mean_absolute_error: 8.6824\n",
      "Epoch 471: val_loss did not improve from 9.60236\n",
      "136/136 [==============================] - 0s 2ms/step - loss: 8.6771 - mean_absolute_error: 8.6771 - val_loss: 9.7159 - val_mean_absolute_error: 9.7159\n",
      "Epoch 472/500\n",
      "115/136 [========================>.....] - ETA: 0s - loss: 8.6195 - mean_absolute_error: 8.6195\n",
      "Epoch 472: val_loss did not improve from 9.60236\n",
      "136/136 [==============================] - 0s 2ms/step - loss: 8.6086 - mean_absolute_error: 8.6086 - val_loss: 9.6528 - val_mean_absolute_error: 9.6528\n",
      "Epoch 473/500\n",
      "111/136 [=======================>......] - ETA: 0s - loss: 8.5202 - mean_absolute_error: 8.5202\n",
      "Epoch 473: val_loss did not improve from 9.60236\n",
      "136/136 [==============================] - 0s 2ms/step - loss: 8.5721 - mean_absolute_error: 8.5721 - val_loss: 9.7335 - val_mean_absolute_error: 9.7335\n",
      "Epoch 474/500\n",
      "113/136 [=======================>......] - ETA: 0s - loss: 8.5670 - mean_absolute_error: 8.5670\n",
      "Epoch 474: val_loss did not improve from 9.60236\n",
      "136/136 [==============================] - 0s 2ms/step - loss: 8.5505 - mean_absolute_error: 8.5505 - val_loss: 9.7236 - val_mean_absolute_error: 9.7236\n",
      "Epoch 475/500\n",
      "114/136 [========================>.....] - ETA: 0s - loss: 8.4607 - mean_absolute_error: 8.4607\n",
      "Epoch 475: val_loss did not improve from 9.60236\n",
      "136/136 [==============================] - 0s 2ms/step - loss: 8.5376 - mean_absolute_error: 8.5376 - val_loss: 9.7468 - val_mean_absolute_error: 9.7468\n",
      "Epoch 476/500\n",
      "108/136 [======================>.......] - ETA: 0s - loss: 8.4012 - mean_absolute_error: 8.4012\n",
      "Epoch 476: val_loss did not improve from 9.60236\n",
      "136/136 [==============================] - 0s 2ms/step - loss: 8.5484 - mean_absolute_error: 8.5484 - val_loss: 9.7458 - val_mean_absolute_error: 9.7458\n",
      "Epoch 477/500\n",
      "110/136 [=======================>......] - ETA: 0s - loss: 8.7426 - mean_absolute_error: 8.7426\n",
      "Epoch 477: val_loss did not improve from 9.60236\n",
      "136/136 [==============================] - 0s 2ms/step - loss: 8.6551 - mean_absolute_error: 8.6551 - val_loss: 9.6581 - val_mean_absolute_error: 9.6581\n",
      "Epoch 478/500\n",
      "101/136 [=====================>........] - ETA: 0s - loss: 8.4810 - mean_absolute_error: 8.4810\n",
      "Epoch 478: val_loss did not improve from 9.60236\n",
      "136/136 [==============================] - 0s 2ms/step - loss: 8.6178 - mean_absolute_error: 8.6178 - val_loss: 9.9765 - val_mean_absolute_error: 9.9765\n",
      "Epoch 479/500\n",
      "116/136 [========================>.....] - ETA: 0s - loss: 8.5287 - mean_absolute_error: 8.5287\n",
      "Epoch 479: val_loss did not improve from 9.60236\n",
      "136/136 [==============================] - 0s 2ms/step - loss: 8.5920 - mean_absolute_error: 8.5920 - val_loss: 9.7968 - val_mean_absolute_error: 9.7968\n",
      "Epoch 480/500\n",
      "112/136 [=======================>......] - ETA: 0s - loss: 8.4535 - mean_absolute_error: 8.4535\n",
      "Epoch 480: val_loss did not improve from 9.60236\n",
      "136/136 [==============================] - 0s 2ms/step - loss: 8.5441 - mean_absolute_error: 8.5441 - val_loss: 9.6263 - val_mean_absolute_error: 9.6263\n",
      "Epoch 481/500\n",
      "111/136 [=======================>......] - ETA: 0s - loss: 8.5139 - mean_absolute_error: 8.5139\n",
      "Epoch 481: val_loss did not improve from 9.60236\n",
      "136/136 [==============================] - 0s 2ms/step - loss: 8.5454 - mean_absolute_error: 8.5454 - val_loss: 10.1300 - val_mean_absolute_error: 10.1300\n",
      "Epoch 482/500\n",
      "119/136 [=========================>....] - ETA: 0s - loss: 8.6010 - mean_absolute_error: 8.6010\n",
      "Epoch 482: val_loss did not improve from 9.60236\n",
      "136/136 [==============================] - 0s 2ms/step - loss: 8.6030 - mean_absolute_error: 8.6030 - val_loss: 10.0400 - val_mean_absolute_error: 10.0400\n",
      "Epoch 483/500\n",
      "111/136 [=======================>......] - ETA: 0s - loss: 8.6294 - mean_absolute_error: 8.6294\n",
      "Epoch 483: val_loss did not improve from 9.60236\n",
      "136/136 [==============================] - 0s 2ms/step - loss: 8.5484 - mean_absolute_error: 8.5484 - val_loss: 9.8079 - val_mean_absolute_error: 9.8079\n",
      "Epoch 484/500\n",
      "116/136 [========================>.....] - ETA: 0s - loss: 8.5925 - mean_absolute_error: 8.5925\n",
      "Epoch 484: val_loss did not improve from 9.60236\n",
      "136/136 [==============================] - 0s 2ms/step - loss: 8.6310 - mean_absolute_error: 8.6310 - val_loss: 9.8155 - val_mean_absolute_error: 9.8155\n",
      "Epoch 485/500\n",
      "110/136 [=======================>......] - ETA: 0s - loss: 8.5955 - mean_absolute_error: 8.5955\n",
      "Epoch 485: val_loss did not improve from 9.60236\n",
      "136/136 [==============================] - 0s 2ms/step - loss: 8.5665 - mean_absolute_error: 8.5665 - val_loss: 9.7346 - val_mean_absolute_error: 9.7346\n",
      "Epoch 486/500\n",
      "110/136 [=======================>......] - ETA: 0s - loss: 8.5163 - mean_absolute_error: 8.5163\n",
      "Epoch 486: val_loss did not improve from 9.60236\n",
      "136/136 [==============================] - 0s 2ms/step - loss: 8.5549 - mean_absolute_error: 8.5549 - val_loss: 9.9408 - val_mean_absolute_error: 9.9408\n",
      "Epoch 487/500\n",
      "112/136 [=======================>......] - ETA: 0s - loss: 8.5408 - mean_absolute_error: 8.5408\n",
      "Epoch 487: val_loss did not improve from 9.60236\n",
      "136/136 [==============================] - 0s 2ms/step - loss: 8.5861 - mean_absolute_error: 8.5861 - val_loss: 9.8585 - val_mean_absolute_error: 9.8585\n",
      "Epoch 488/500\n",
      "106/136 [======================>.......] - ETA: 0s - loss: 8.5410 - mean_absolute_error: 8.5410\n",
      "Epoch 488: val_loss did not improve from 9.60236\n",
      "136/136 [==============================] - 0s 2ms/step - loss: 8.5922 - mean_absolute_error: 8.5922 - val_loss: 9.8201 - val_mean_absolute_error: 9.8201\n",
      "Epoch 489/500\n",
      "116/136 [========================>.....] - ETA: 0s - loss: 8.5618 - mean_absolute_error: 8.5618\n",
      "Epoch 489: val_loss did not improve from 9.60236\n",
      "136/136 [==============================] - 0s 2ms/step - loss: 8.5702 - mean_absolute_error: 8.5702 - val_loss: 9.6815 - val_mean_absolute_error: 9.6815\n",
      "Epoch 490/500\n",
      "106/136 [======================>.......] - ETA: 0s - loss: 8.5728 - mean_absolute_error: 8.5728\n",
      "Epoch 490: val_loss did not improve from 9.60236\n",
      "136/136 [==============================] - 0s 2ms/step - loss: 8.5894 - mean_absolute_error: 8.5894 - val_loss: 9.7875 - val_mean_absolute_error: 9.7875\n",
      "Epoch 491/500\n",
      "116/136 [========================>.....] - ETA: 0s - loss: 8.5771 - mean_absolute_error: 8.5771\n",
      "Epoch 491: val_loss did not improve from 9.60236\n",
      "136/136 [==============================] - 0s 2ms/step - loss: 8.5287 - mean_absolute_error: 8.5287 - val_loss: 9.8276 - val_mean_absolute_error: 9.8276\n",
      "Epoch 492/500\n",
      "114/136 [========================>.....] - ETA: 0s - loss: 8.7157 - mean_absolute_error: 8.7157\n",
      "Epoch 492: val_loss did not improve from 9.60236\n",
      "136/136 [==============================] - 0s 2ms/step - loss: 8.6187 - mean_absolute_error: 8.6187 - val_loss: 9.7676 - val_mean_absolute_error: 9.7676\n",
      "Epoch 493/500\n",
      "114/136 [========================>.....] - ETA: 0s - loss: 8.4858 - mean_absolute_error: 8.4858\n",
      "Epoch 493: val_loss did not improve from 9.60236\n",
      "136/136 [==============================] - 0s 2ms/step - loss: 8.5465 - mean_absolute_error: 8.5465 - val_loss: 9.8025 - val_mean_absolute_error: 9.8025\n",
      "Epoch 494/500\n",
      "112/136 [=======================>......] - ETA: 0s - loss: 8.5521 - mean_absolute_error: 8.5521\n",
      "Epoch 494: val_loss did not improve from 9.60236\n",
      "136/136 [==============================] - 0s 2ms/step - loss: 8.5589 - mean_absolute_error: 8.5589 - val_loss: 9.8748 - val_mean_absolute_error: 9.8748\n",
      "Epoch 495/500\n"
     ]
    },
    {
     "name": "stdout",
     "output_type": "stream",
     "text": [
      "115/136 [========================>.....] - ETA: 0s - loss: 8.5894 - mean_absolute_error: 8.5894\n",
      "Epoch 495: val_loss did not improve from 9.60236\n",
      "136/136 [==============================] - 0s 2ms/step - loss: 8.5957 - mean_absolute_error: 8.5957 - val_loss: 9.7171 - val_mean_absolute_error: 9.7171\n",
      "Epoch 496/500\n",
      "104/136 [=====================>........] - ETA: 0s - loss: 8.5571 - mean_absolute_error: 8.5571\n",
      "Epoch 496: val_loss did not improve from 9.60236\n",
      "136/136 [==============================] - 0s 2ms/step - loss: 8.5990 - mean_absolute_error: 8.5990 - val_loss: 10.0451 - val_mean_absolute_error: 10.0451\n",
      "Epoch 497/500\n",
      "114/136 [========================>.....] - ETA: 0s - loss: 8.6446 - mean_absolute_error: 8.6446\n",
      "Epoch 497: val_loss did not improve from 9.60236\n",
      "136/136 [==============================] - 0s 2ms/step - loss: 8.6261 - mean_absolute_error: 8.6261 - val_loss: 9.6751 - val_mean_absolute_error: 9.6751\n",
      "Epoch 498/500\n",
      "116/136 [========================>.....] - ETA: 0s - loss: 8.5511 - mean_absolute_error: 8.5511\n",
      "Epoch 498: val_loss did not improve from 9.60236\n",
      "136/136 [==============================] - 0s 2ms/step - loss: 8.5241 - mean_absolute_error: 8.5241 - val_loss: 9.9471 - val_mean_absolute_error: 9.9471\n",
      "Epoch 499/500\n",
      "106/136 [======================>.......] - ETA: 0s - loss: 8.5566 - mean_absolute_error: 8.5566\n",
      "Epoch 499: val_loss did not improve from 9.60236\n",
      "136/136 [==============================] - 0s 2ms/step - loss: 8.5995 - mean_absolute_error: 8.5995 - val_loss: 10.0186 - val_mean_absolute_error: 10.0186\n",
      "Epoch 500/500\n",
      "115/136 [========================>.....] - ETA: 0s - loss: 8.6881 - mean_absolute_error: 8.6881\n",
      "Epoch 500: val_loss did not improve from 9.60236\n",
      "136/136 [==============================] - 0s 2ms/step - loss: 8.6146 - mean_absolute_error: 8.6146 - val_loss: 9.7981 - val_mean_absolute_error: 9.7981\n"
     ]
    },
    {
     "data": {
      "text/plain": [
       "<keras.callbacks.History at 0x1498850bb20>"
      ]
     },
     "execution_count": 23,
     "metadata": {},
     "output_type": "execute_result"
    }
   ],
   "source": [
    "NN_model.fit(X, y, epochs=500, batch_size=32, validation_split = 0.2, callbacks=callbacks_list)"
   ]
  },
  {
   "cell_type": "code",
   "execution_count": 25,
   "metadata": {},
   "outputs": [
    {
     "name": "stdout",
     "output_type": "stream",
     "text": [
      "113/113 [==============================] - 0s 810us/step\n"
     ]
    }
   ],
   "source": [
    "weights_file = 'Weights-381--9.60236.hdf5'\n",
    "NN_model.load_weights(weights_file)\n",
    "NN_model.compile(loss='mean_absolute_error', optimizer='adam', metrics=['mean_absolute_error'])\n",
    "\n",
    "predsNN = NN_model.predict(X_test)"
   ]
  },
  {
   "cell_type": "markdown",
   "metadata": {},
   "source": [
    "# Coefficients optimization"
   ]
  },
  {
   "cell_type": "code",
   "execution_count": 26,
   "metadata": {},
   "outputs": [],
   "source": [
    "predXGB = np.average(np.array(predsXGB),axis=0)\n",
    "predCB = np.average(np.array(predsCB),axis=0)\n",
    "predLasso = np.average(np.array(predsLasso),axis=0)\n",
    "predLGBM = np.average(np.array(predsLGBM),axis=0)\n",
    "predSVR = np.average(np.array(predsSVR),axis=0)\n",
    "predRF = np.average(np.array(predsRF),axis=0)\n",
    "predNN = np.average(np.array(predsNN),axis=0)"
   ]
  },
  {
   "cell_type": "code",
   "execution_count": 27,
   "metadata": {},
   "outputs": [
    {
     "name": "stderr",
     "output_type": "stream",
     "text": [
      "\u001b[32m[I 2023-03-11 16:33:21,845]\u001b[0m A new study created in memory with name: no-name-86af937c-e841-4520-8109-fac4e253f107\u001b[0m\n"
     ]
    },
    {
     "name": "stdout",
     "output_type": "stream",
     "text": [
      "169/169 [==============================] - 0s 764us/step\n"
     ]
    },
    {
     "name": "stderr",
     "output_type": "stream",
     "text": [
      "\u001b[32m[I 2023-03-11 16:33:31,368]\u001b[0m Trial 0 finished with value: 12.367012468596661 and parameters: {'a': 0.6406995315438081, 'b': 0.6726178414884388, 'c': 0.4088061465767693, 'd': 0.6758338136286354, 'e': 0.6397287686754, 'f': 0.9122021938952177, 'g': 0.9833103447612771}. Best is trial 0 with value: 12.367012468596661.\u001b[0m\n"
     ]
    },
    {
     "name": "stdout",
     "output_type": "stream",
     "text": [
      "169/169 [==============================] - 0s 695us/step\n"
     ]
    },
    {
     "name": "stderr",
     "output_type": "stream",
     "text": [
      "\u001b[32m[I 2023-03-11 16:33:40,909]\u001b[0m Trial 1 finished with value: 12.4624404368488 and parameters: {'a': 0.5898947634919887, 'b': 0.1226372231099011, 'c': 0.586098317460419, 'd': 0.37845929239707843, 'e': 0.11585889286178985, 'f': 0.755325366171876, 'g': 0.7221331930426036}. Best is trial 0 with value: 12.367012468596661.\u001b[0m\n"
     ]
    },
    {
     "name": "stdout",
     "output_type": "stream",
     "text": [
      "169/169 [==============================] - 0s 676us/step\n"
     ]
    },
    {
     "name": "stderr",
     "output_type": "stream",
     "text": [
      "\u001b[32m[I 2023-03-11 16:33:50,610]\u001b[0m Trial 2 finished with value: 12.140063390017524 and parameters: {'a': 0.14631825170727164, 'b': 0.520815216078479, 'c': 0.07846942709036553, 'd': 0.5831264661477094, 'e': 0.5898664559520619, 'f': 0.700074563332157, 'g': 0.3758873075986099}. Best is trial 2 with value: 12.140063390017524.\u001b[0m\n"
     ]
    },
    {
     "name": "stdout",
     "output_type": "stream",
     "text": [
      "169/169 [==============================] - 0s 874us/step\n"
     ]
    },
    {
     "name": "stderr",
     "output_type": "stream",
     "text": [
      "\u001b[32m[I 2023-03-11 16:34:00,018]\u001b[0m Trial 3 finished with value: 12.315533277700181 and parameters: {'a': 0.9132863434791483, 'b': 0.6644061511875188, 'c': 0.700311155031225, 'd': 0.3969740438562698, 'e': 0.2672247690102837, 'f': 0.30884760171425496, 'g': 0.5848052143501897}. Best is trial 2 with value: 12.140063390017524.\u001b[0m\n"
     ]
    },
    {
     "name": "stdout",
     "output_type": "stream",
     "text": [
      "169/169 [==============================] - 0s 685us/step\n"
     ]
    },
    {
     "name": "stderr",
     "output_type": "stream",
     "text": [
      "\u001b[32m[I 2023-03-11 16:34:09,946]\u001b[0m Trial 4 finished with value: 12.545246498732832 and parameters: {'a': 0.16673772622500527, 'b': 0.19740246829736607, 'c': 0.6114295028462048, 'd': 0.8963337057153365, 'e': 0.7582404402829251, 'f': 0.9042797964543474, 'g': 0.7893168618584578}. Best is trial 2 with value: 12.140063390017524.\u001b[0m\n"
     ]
    },
    {
     "name": "stdout",
     "output_type": "stream",
     "text": [
      "169/169 [==============================] - 0s 702us/step\n"
     ]
    },
    {
     "name": "stderr",
     "output_type": "stream",
     "text": [
      "\u001b[32m[I 2023-03-11 16:34:19,481]\u001b[0m Trial 5 finished with value: 12.449943598045097 and parameters: {'a': 0.7263842083224193, 'b': 0.2048153970696992, 'c': 0.9917365231643249, 'd': 0.3622336769214085, 'e': 0.06607900213824025, 'f': 0.3787490923982759, 'g': 0.3737799709255525}. Best is trial 2 with value: 12.140063390017524.\u001b[0m\n"
     ]
    },
    {
     "name": "stdout",
     "output_type": "stream",
     "text": [
      "169/169 [==============================] - 0s 694us/step\n"
     ]
    },
    {
     "name": "stderr",
     "output_type": "stream",
     "text": [
      "\u001b[32m[I 2023-03-11 16:34:29,141]\u001b[0m Trial 6 finished with value: 12.57495173434117 and parameters: {'a': 0.2578484922930917, 'b': 0.1844042358510769, 'c': 0.13881028622799518, 'd': 0.6855011322801012, 'e': 0.3316472340128842, 'f': 0.14197166363641966, 'g': 0.6193799551281277}. Best is trial 2 with value: 12.140063390017524.\u001b[0m\n"
     ]
    },
    {
     "name": "stdout",
     "output_type": "stream",
     "text": [
      "169/169 [==============================] - 0s 781us/step\n"
     ]
    },
    {
     "name": "stderr",
     "output_type": "stream",
     "text": [
      "\u001b[32m[I 2023-03-11 16:34:38,641]\u001b[0m Trial 7 finished with value: 12.250966948567141 and parameters: {'a': 0.893556927837009, 'b': 0.9722340919310691, 'c': 0.7641566546581788, 'd': 0.6113896238824398, 'e': 0.16130088934199227, 'f': 0.8597254327818691, 'g': 0.9220416140485965}. Best is trial 2 with value: 12.140063390017524.\u001b[0m\n"
     ]
    },
    {
     "name": "stdout",
     "output_type": "stream",
     "text": [
      "169/169 [==============================] - 0s 671us/step\n"
     ]
    },
    {
     "name": "stderr",
     "output_type": "stream",
     "text": [
      "\u001b[32m[I 2023-03-11 16:34:48,116]\u001b[0m Trial 8 finished with value: 12.039961702596775 and parameters: {'a': 0.3274764923043524, 'b': 0.18779397948342158, 'c': 0.159443662752908, 'd': 0.9603762788805601, 'e': 0.6071533076766199, 'f': 0.6062303974848797, 'g': 0.26817635527407024}. Best is trial 8 with value: 12.039961702596775.\u001b[0m\n"
     ]
    },
    {
     "name": "stdout",
     "output_type": "stream",
     "text": [
      "169/169 [==============================] - 0s 667us/step\n"
     ]
    },
    {
     "name": "stderr",
     "output_type": "stream",
     "text": [
      "\u001b[32m[I 2023-03-11 16:34:57,566]\u001b[0m Trial 9 finished with value: 12.583214562453959 and parameters: {'a': 0.7415860491664089, 'b': 0.7049900160296722, 'c': 0.5903718790122763, 'd': 0.2207567972149561, 'e': 0.9368994845348566, 'f': 0.41514047247232644, 'g': 0.725495102874278}. Best is trial 8 with value: 12.039961702596775.\u001b[0m\n"
     ]
    },
    {
     "name": "stdout",
     "output_type": "stream",
     "text": [
      "169/169 [==============================] - 0s 733us/step\n"
     ]
    },
    {
     "name": "stderr",
     "output_type": "stream",
     "text": [
      "\u001b[32m[I 2023-03-11 16:35:07,015]\u001b[0m Trial 10 finished with value: 11.912050240695919 and parameters: {'a': 0.344835388435938, 'b': 0.001114501006794888, 'c': 0.28393396249932634, 'd': 0.9766742868617097, 'e': 0.4442997445998107, 'f': 0.574825291749156, 'g': 0.05980397261427811}. Best is trial 10 with value: 11.912050240695919.\u001b[0m\n"
     ]
    },
    {
     "name": "stdout",
     "output_type": "stream",
     "text": [
      "169/169 [==============================] - 0s 742us/step\n"
     ]
    },
    {
     "name": "stderr",
     "output_type": "stream",
     "text": [
      "\u001b[32m[I 2023-03-11 16:35:16,914]\u001b[0m Trial 11 finished with value: 11.912967266294814 and parameters: {'a': 0.4004836274372189, 'b': 0.004651468131334625, 'c': 0.31587317065284953, 'd': 0.9672667516344052, 'e': 0.4491611950566564, 'f': 0.6048249258819002, 'g': 0.05839459944489277}. Best is trial 10 with value: 11.912050240695919.\u001b[0m\n"
     ]
    },
    {
     "name": "stdout",
     "output_type": "stream",
     "text": [
      "169/169 [==============================] - 0s 677us/step\n"
     ]
    },
    {
     "name": "stderr",
     "output_type": "stream",
     "text": [
      "\u001b[32m[I 2023-03-11 16:35:26,428]\u001b[0m Trial 12 finished with value: 11.874261116121794 and parameters: {'a': 0.4266085169602024, 'b': 0.0015155956574728346, 'c': 0.337122554360206, 'd': 0.9930111347677456, 'e': 0.40120775195381986, 'f': 0.5578837965265305, 'g': 0.012143875726986136}. Best is trial 12 with value: 11.874261116121794.\u001b[0m\n"
     ]
    },
    {
     "name": "stdout",
     "output_type": "stream",
     "text": [
      "169/169 [==============================] - 0s 742us/step\n"
     ]
    },
    {
     "name": "stderr",
     "output_type": "stream",
     "text": [
      "\u001b[32m[I 2023-03-11 16:35:36,200]\u001b[0m Trial 13 finished with value: 11.853567824828387 and parameters: {'a': 0.45343806642957823, 'b': 0.3559478379195703, 'c': 0.28286090890263194, 'd': 0.8324568146492949, 'e': 0.41834855690963424, 'f': 0.5170199027924484, 'g': 0.015979355392141403}. Best is trial 13 with value: 11.853567824828387.\u001b[0m\n"
     ]
    },
    {
     "name": "stdout",
     "output_type": "stream",
     "text": [
      "169/169 [==============================] - 0s 658us/step\n"
     ]
    },
    {
     "name": "stderr",
     "output_type": "stream",
     "text": [
      "\u001b[32m[I 2023-03-11 16:35:45,719]\u001b[0m Trial 14 finished with value: 11.76382503882756 and parameters: {'a': 0.0037424264747009106, 'b': 0.3667507914647572, 'c': 0.010951599386785138, 'd': 0.826583771580078, 'e': 0.32698457178083085, 'f': 0.4928945188724933, 'g': 0.006096760012783592}. Best is trial 14 with value: 11.76382503882756.\u001b[0m\n"
     ]
    },
    {
     "name": "stdout",
     "output_type": "stream",
     "text": [
      "169/169 [==============================] - 0s 854us/step\n"
     ]
    },
    {
     "name": "stderr",
     "output_type": "stream",
     "text": [
      "\u001b[32m[I 2023-03-11 16:35:55,374]\u001b[0m Trial 15 finished with value: 11.874152523049828 and parameters: {'a': 0.05628131994691924, 'b': 0.36581826972927767, 'c': 0.025705302020943566, 'd': 0.8023515828095956, 'e': 0.2562442664098014, 'f': 0.446348143530511, 'g': 0.16736342044412145}. Best is trial 14 with value: 11.76382503882756.\u001b[0m\n"
     ]
    },
    {
     "name": "stdout",
     "output_type": "stream",
     "text": [
      "169/169 [==============================] - 0s 823us/step\n"
     ]
    },
    {
     "name": "stderr",
     "output_type": "stream",
     "text": [
      "\u001b[32m[I 2023-03-11 16:36:04,930]\u001b[0m Trial 16 finished with value: 11.944649620310422 and parameters: {'a': 0.034262567353711866, 'b': 0.3471010115252115, 'c': 0.20284940351736652, 'd': 0.8073229210623529, 'e': 0.004383893277072115, 'f': 0.2517913886322257, 'g': 0.19486052914507812}. Best is trial 14 with value: 11.76382503882756.\u001b[0m\n"
     ]
    },
    {
     "name": "stdout",
     "output_type": "stream",
     "text": [
      "169/169 [==============================] - 0s 649us/step\n"
     ]
    },
    {
     "name": "stderr",
     "output_type": "stream",
     "text": [
      "\u001b[32m[I 2023-03-11 16:36:14,600]\u001b[0m Trial 17 finished with value: 11.760500900413795 and parameters: {'a': 0.47624449877561054, 'b': 0.35050449817396095, 'c': 0.037876932052198664, 'd': 0.794449501234042, 'e': 0.34070552172976687, 'f': 0.004424901602261833, 'g': 0.000957753030633229}. Best is trial 17 with value: 11.760500900413795.\u001b[0m\n"
     ]
    },
    {
     "name": "stdout",
     "output_type": "stream",
     "text": [
      "169/169 [==============================] - 0s 687us/step\n"
     ]
    },
    {
     "name": "stderr",
     "output_type": "stream",
     "text": [
      "\u001b[32m[I 2023-03-11 16:36:24,133]\u001b[0m Trial 18 finished with value: 11.799213322714323 and parameters: {'a': 0.5397885745923325, 'b': 0.4341769361092034, 'c': 0.0021791697907784305, 'd': 0.738734212353465, 'e': 0.18914411137294013, 'f': 0.004030077206443141, 'g': 0.1508618527160553}. Best is trial 17 with value: 11.760500900413795.\u001b[0m\n"
     ]
    },
    {
     "name": "stdout",
     "output_type": "stream",
     "text": [
      "169/169 [==============================] - 0s 757us/step\n"
     ]
    },
    {
     "name": "stderr",
     "output_type": "stream",
     "text": [
      "\u001b[32m[I 2023-03-11 16:36:33,935]\u001b[0m Trial 19 finished with value: 12.224864289004243 and parameters: {'a': 0.21438813277001112, 'b': 0.5329796928976629, 'c': 0.09883099627614554, 'd': 0.5891456226217612, 'e': 0.3228375955321505, 'f': 0.02740305956272734, 'g': 0.3461229892531353}. Best is trial 17 with value: 11.760500900413795.\u001b[0m\n"
     ]
    },
    {
     "name": "stdout",
     "output_type": "stream",
     "text": [
      "169/169 [==============================] - 0s 707us/step\n"
     ]
    },
    {
     "name": "stderr",
     "output_type": "stream",
     "text": [
      "\u001b[32m[I 2023-03-11 16:36:43,520]\u001b[0m Trial 20 finished with value: 12.373025709221487 and parameters: {'a': 0.09448959599913853, 'b': 0.2703996089246011, 'c': 0.0074676119747748345, 'd': 0.8402187242683562, 'e': 0.5105948740907952, 'f': 0.17189372540464903, 'g': 0.46671970138448804}. Best is trial 17 with value: 11.760500900413795.\u001b[0m\n"
     ]
    },
    {
     "name": "stdout",
     "output_type": "stream",
     "text": [
      "169/169 [==============================] - 0s 644us/step\n"
     ]
    },
    {
     "name": "stderr",
     "output_type": "stream",
     "text": [
      "\u001b[32m[I 2023-03-11 16:36:53,140]\u001b[0m Trial 21 finished with value: 11.79317989869121 and parameters: {'a': 0.5211506598465856, 'b': 0.4307193485433012, 'c': 0.004372172550836933, 'd': 0.7293998193781244, 'e': 0.2079637102668611, 'f': 0.0009436854125422639, 'g': 0.12801997231948137}. Best is trial 17 with value: 11.760500900413795.\u001b[0m\n"
     ]
    },
    {
     "name": "stdout",
     "output_type": "stream",
     "text": [
      "169/169 [==============================] - 0s 657us/step\n"
     ]
    },
    {
     "name": "stderr",
     "output_type": "stream",
     "text": [
      "\u001b[32m[I 2023-03-11 16:37:02,733]\u001b[0m Trial 22 finished with value: 11.907324367580564 and parameters: {'a': 0.2933205722691699, 'b': 0.4535409397378226, 'c': 0.19547366514713982, 'd': 0.735454028060201, 'e': 0.2115089263977686, 'f': 0.10550936829554257, 'g': 0.10925671751241472}. Best is trial 17 with value: 11.760500900413795.\u001b[0m\n"
     ]
    },
    {
     "name": "stdout",
     "output_type": "stream",
     "text": [
      "169/169 [==============================] - 0s 651us/step\n"
     ]
    },
    {
     "name": "stderr",
     "output_type": "stream",
     "text": [
      "\u001b[32m[I 2023-03-11 16:37:12,101]\u001b[0m Trial 23 finished with value: 11.919581901637548 and parameters: {'a': 0.4966854601406034, 'b': 0.28885840761020903, 'c': 0.09329833023514898, 'd': 0.871012749144679, 'e': 0.32642966540941676, 'f': 0.23584102473636515, 'g': 0.2249226991908108}. Best is trial 17 with value: 11.760500900413795.\u001b[0m\n"
     ]
    },
    {
     "name": "stdout",
     "output_type": "stream",
     "text": [
      "169/169 [==============================] - 0s 667us/step\n"
     ]
    },
    {
     "name": "stderr",
     "output_type": "stream",
     "text": [
      "\u001b[32m[I 2023-03-11 16:37:21,656]\u001b[0m Trial 24 finished with value: 11.783241029119624 and parameters: {'a': 0.22919901559855135, 'b': 0.45667419220599353, 'c': 0.00012367545063385853, 'd': 0.7519898114080814, 'e': 0.1150044864273047, 'f': 0.07147634322534989, 'g': 0.11892623633730484}. Best is trial 17 with value: 11.760500900413795.\u001b[0m\n"
     ]
    },
    {
     "name": "stdout",
     "output_type": "stream",
     "text": [
      "169/169 [==============================] - 0s 701us/step\n"
     ]
    },
    {
     "name": "stderr",
     "output_type": "stream",
     "text": [
      "\u001b[32m[I 2023-03-11 16:37:31,174]\u001b[0m Trial 25 finished with value: 11.935539462928507 and parameters: {'a': 0.0255526925717468, 'b': 0.5411183779160027, 'c': 0.20757311276104184, 'd': 0.5280588577217571, 'e': 0.05021679096509636, 'f': 0.11789383871047593, 'g': 0.08780788546047659}. Best is trial 17 with value: 11.760500900413795.\u001b[0m\n"
     ]
    },
    {
     "name": "stdout",
     "output_type": "stream",
     "text": [
      "169/169 [==============================] - 0s 705us/step\n"
     ]
    },
    {
     "name": "stderr",
     "output_type": "stream",
     "text": [
      "\u001b[32m[I 2023-03-11 16:37:40,805]\u001b[0m Trial 26 finished with value: 11.708325200100223 and parameters: {'a': 0.22400549564175465, 'b': 0.28960516104037176, 'c': 0.08003747997789903, 'd': 0.9045536197143809, 'e': 0.10829292958358527, 'f': 0.30976448908835535, 'g': 0.011243140466484015}. Best is trial 26 with value: 11.708325200100223.\u001b[0m\n"
     ]
    },
    {
     "name": "stdout",
     "output_type": "stream",
     "text": [
      "169/169 [==============================] - 0s 681us/step\n"
     ]
    },
    {
     "name": "stderr",
     "output_type": "stream",
     "text": [
      "\u001b[32m[I 2023-03-11 16:37:50,503]\u001b[0m Trial 27 finished with value: 12.016821207447226 and parameters: {'a': 0.12452655479453989, 'b': 0.27836716929748406, 'c': 0.11190225778570805, 'd': 0.849704170365402, 'e': 0.2900693682189639, 'f': 0.3475166253579671, 'g': 0.25293413388267433}. Best is trial 26 with value: 11.708325200100223.\u001b[0m\n"
     ]
    },
    {
     "name": "stdout",
     "output_type": "stream",
     "text": [
      "169/169 [==============================] - 0s 690us/step\n"
     ]
    },
    {
     "name": "stderr",
     "output_type": "stream",
     "text": [
      "\u001b[32m[I 2023-03-11 16:38:00,154]\u001b[0m Trial 28 finished with value: 11.870985081855233 and parameters: {'a': 0.1921905197447648, 'b': 0.11553044725528333, 'c': 0.2381100789887354, 'd': 0.903535996499753, 'e': 0.3562005426002655, 'f': 0.4858350534266038, 'g': 0.01789803323610252}. Best is trial 26 with value: 11.708325200100223.\u001b[0m\n"
     ]
    },
    {
     "name": "stdout",
     "output_type": "stream",
     "text": [
      "169/169 [==============================] - 0s 762us/step\n"
     ]
    },
    {
     "name": "stderr",
     "output_type": "stream",
     "text": [
      "\u001b[32m[I 2023-03-11 16:38:09,767]\u001b[0m Trial 29 finished with value: 12.052932093470368 and parameters: {'a': 0.00934312566744984, 'b': 0.3304901838557146, 'c': 0.41806283192642535, 'd': 0.6640875510669073, 'e': 0.26700463660293006, 'f': 0.3035288357323514, 'g': 0.004028235106139793}. Best is trial 26 with value: 11.708325200100223.\u001b[0m\n"
     ]
    },
    {
     "name": "stdout",
     "output_type": "stream",
     "text": [
      "169/169 [==============================] - 0s 706us/step\n"
     ]
    },
    {
     "name": "stderr",
     "output_type": "stream",
     "text": [
      "\u001b[32m[I 2023-03-11 16:38:19,310]\u001b[0m Trial 30 finished with value: 11.880409331301964 and parameters: {'a': 0.09908926052216324, 'b': 0.3905898444145281, 'c': 0.07388203111656606, 'd': 0.9079563123555264, 'e': 0.12408632640565945, 'f': 0.18671059693620068, 'g': 0.18984140220158544}. Best is trial 26 with value: 11.708325200100223.\u001b[0m\n"
     ]
    },
    {
     "name": "stdout",
     "output_type": "stream",
     "text": [
      "169/169 [==============================] - 0s 811us/step\n"
     ]
    },
    {
     "name": "stderr",
     "output_type": "stream",
     "text": [
      "\u001b[32m[I 2023-03-11 16:38:28,791]\u001b[0m Trial 31 finished with value: 11.83997878544801 and parameters: {'a': 0.249252813981088, 'b': 0.46611608629259943, 'c': 0.14569312644226518, 'd': 0.7859589356485488, 'e': 0.11173658115504537, 'f': 0.06101923300044321, 'g': 0.10181166683002647}. Best is trial 26 with value: 11.708325200100223.\u001b[0m\n"
     ]
    },
    {
     "name": "stdout",
     "output_type": "stream",
     "text": [
      "169/169 [==============================] - 0s 815us/step\n"
     ]
    },
    {
     "name": "stderr",
     "output_type": "stream",
     "text": [
      "\u001b[32m[I 2023-03-11 16:38:38,785]\u001b[0m Trial 32 finished with value: 11.798306507881673 and parameters: {'a': 0.20978890864350944, 'b': 0.3957259963037081, 'c': 0.0637886407295125, 'd': 0.7725492753534619, 'e': 0.16389491067647244, 'f': 0.075770512081553, 'g': 0.0723438069470734}. Best is trial 26 with value: 11.708325200100223.\u001b[0m\n"
     ]
    },
    {
     "name": "stdout",
     "output_type": "stream",
     "text": [
      "169/169 [==============================] - 0s 678us/step\n"
     ]
    },
    {
     "name": "stderr",
     "output_type": "stream",
     "text": [
      "\u001b[32m[I 2023-03-11 16:38:48,389]\u001b[0m Trial 33 finished with value: 11.664632528211978 and parameters: {'a': 0.3673067573662826, 'b': 0.2686732010373094, 'c': 0.05824431372467316, 'd': 0.7082677963062497, 'e': 8.60276516286701e-05, 'f': 0.21571310926779147, 'g': 0.0003396876019698368}. Best is trial 33 with value: 11.664632528211978.\u001b[0m\n"
     ]
    },
    {
     "name": "stdout",
     "output_type": "stream",
     "text": [
      "169/169 [==============================] - 0s 751us/step\n"
     ]
    },
    {
     "name": "stderr",
     "output_type": "stream",
     "text": [
      "\u001b[32m[I 2023-03-11 16:38:58,053]\u001b[0m Trial 34 finished with value: 11.783636721257366 and parameters: {'a': 0.36268597678107584, 'b': 0.29447016235826723, 'c': 0.06521220033170616, 'd': 0.6712026272204462, 'e': 0.026060713200651984, 'f': 0.2793520461999076, 'g': 0.15415031693888265}. Best is trial 33 with value: 11.664632528211978.\u001b[0m\n"
     ]
    },
    {
     "name": "stdout",
     "output_type": "stream",
     "text": [
      "169/169 [==============================] - 0s 677us/step\n"
     ]
    },
    {
     "name": "stderr",
     "output_type": "stream",
     "text": [
      "\u001b[32m[I 2023-03-11 16:39:07,643]\u001b[0m Trial 35 finished with value: 11.73352531330699 and parameters: {'a': 0.14934946303561386, 'b': 0.24515906154545627, 'c': 0.13707864159534217, 'd': 0.9286296852553667, 'e': 0.07181691084863806, 'f': 0.20724285009499394, 'g': 0.005198245210384048}. Best is trial 33 with value: 11.664632528211978.\u001b[0m\n"
     ]
    },
    {
     "name": "stdout",
     "output_type": "stream",
     "text": [
      "169/169 [==============================] - 0s 810us/step\n"
     ]
    },
    {
     "name": "stderr",
     "output_type": "stream",
     "text": [
      "\u001b[32m[I 2023-03-11 16:39:17,248]\u001b[0m Trial 36 finished with value: 11.780856555263181 and parameters: {'a': 0.2765094100050788, 'b': 0.2336738439186459, 'c': 0.15913087152857208, 'd': 0.9056798243445169, 'e': 0.08870888052099642, 'f': 0.1990118102479369, 'g': 0.06467011166911718}. Best is trial 33 with value: 11.664632528211978.\u001b[0m\n"
     ]
    },
    {
     "name": "stdout",
     "output_type": "stream",
     "text": [
      "169/169 [==============================] - 0s 667us/step\n"
     ]
    },
    {
     "name": "stderr",
     "output_type": "stream",
     "text": [
      "\u001b[32m[I 2023-03-11 16:39:26,875]\u001b[0m Trial 37 finished with value: 11.974470765637767 and parameters: {'a': 0.13707140680009897, 'b': 0.1421851604238779, 'c': 0.11525983319937508, 'd': 0.9117808696641977, 'e': 0.0009592054250944504, 'f': 0.21710488888311735, 'g': 0.2917722798353139}. Best is trial 33 with value: 11.664632528211978.\u001b[0m\n"
     ]
    },
    {
     "name": "stdout",
     "output_type": "stream",
     "text": [
      "169/169 [==============================] - 0s 678us/step\n"
     ]
    },
    {
     "name": "stderr",
     "output_type": "stream",
     "text": [
      "\u001b[32m[I 2023-03-11 16:39:36,319]\u001b[0m Trial 38 finished with value: 11.92947227202993 and parameters: {'a': 0.3033648941943202, 'b': 0.2351084927570352, 'c': 0.2369013877078084, 'd': 0.9444372159301789, 'e': 0.06721931606427783, 'f': 0.15947680051319485, 'g': 0.20323477519736222}. Best is trial 33 with value: 11.664632528211978.\u001b[0m\n"
     ]
    },
    {
     "name": "stdout",
     "output_type": "stream",
     "text": [
      "169/169 [==============================] - 0s 681us/step\n"
     ]
    },
    {
     "name": "stderr",
     "output_type": "stream",
     "text": [
      "\u001b[32m[I 2023-03-11 16:39:45,844]\u001b[0m Trial 39 finished with value: 11.806098016181544 and parameters: {'a': 0.371914262792855, 'b': 0.31472243513669373, 'c': 0.16497403063117055, 'd': 0.874674036609691, 'e': 0.07379727132866021, 'f': 0.3253094318454718, 'g': 0.13713712129166367}. Best is trial 33 with value: 11.664632528211978.\u001b[0m\n"
     ]
    },
    {
     "name": "stdout",
     "output_type": "stream",
     "text": [
      "169/169 [==============================] - 0s 666us/step\n"
     ]
    },
    {
     "name": "stderr",
     "output_type": "stream",
     "text": [
      "\u001b[32m[I 2023-03-11 16:39:55,825]\u001b[0m Trial 40 finished with value: 11.75275345052804 and parameters: {'a': 0.3264844565129321, 'b': 0.24085898157225027, 'c': 0.06371683330478564, 'd': 0.7000654424163513, 'e': 0.13765552747618734, 'f': 0.2632766348232807, 'g': 0.06411088237901359}. Best is trial 33 with value: 11.664632528211978.\u001b[0m\n"
     ]
    },
    {
     "name": "stdout",
     "output_type": "stream",
     "text": [
      "169/169 [==============================] - 0s 680us/step\n"
     ]
    },
    {
     "name": "stderr",
     "output_type": "stream",
     "text": [
      "\u001b[32m[I 2023-03-11 16:40:05,663]\u001b[0m Trial 41 finished with value: 11.769203142660132 and parameters: {'a': 0.1633408207553041, 'b': 0.23895199200607659, 'c': 0.05874171601432838, 'd': 0.6315466573540449, 'e': 0.14460084750613056, 'f': 0.3681317547717663, 'g': 0.05672489143999805}. Best is trial 33 with value: 11.664632528211978.\u001b[0m\n"
     ]
    },
    {
     "name": "stdout",
     "output_type": "stream",
     "text": [
      "169/169 [==============================] - 0s 674us/step\n"
     ]
    },
    {
     "name": "stderr",
     "output_type": "stream",
     "text": [
      "\u001b[32m[I 2023-03-11 16:40:15,079]\u001b[0m Trial 42 finished with value: 11.740648540779915 and parameters: {'a': 0.3250295856184298, 'b': 0.18833736812424495, 'c': 0.1291716643586049, 'd': 0.7241631335329818, 'e': 0.04172940584817924, 'f': 0.25983130409558824, 'g': 0.047839683934517124}. Best is trial 33 with value: 11.664632528211978.\u001b[0m\n"
     ]
    },
    {
     "name": "stdout",
     "output_type": "stream",
     "text": [
      "169/169 [==============================] - 0s 678us/step\n"
     ]
    },
    {
     "name": "stderr",
     "output_type": "stream",
     "text": [
      "\u001b[32m[I 2023-03-11 16:40:24,990]\u001b[0m Trial 43 finished with value: 11.78390751787535 and parameters: {'a': 0.3182309486988859, 'b': 0.1745706705577193, 'c': 0.12890860974822005, 'd': 0.543144798908457, 'e': 0.047937900850162224, 'f': 0.2507121410474449, 'g': 0.06874421857207488}. Best is trial 33 with value: 11.664632528211978.\u001b[0m\n"
     ]
    },
    {
     "name": "stdout",
     "output_type": "stream",
     "text": [
      "169/169 [==============================] - 0s 741us/step\n"
     ]
    },
    {
     "name": "stderr",
     "output_type": "stream",
     "text": [
      "\u001b[32m[I 2023-03-11 16:40:34,351]\u001b[0m Trial 44 finished with value: 11.80758401353983 and parameters: {'a': 0.4086823141305033, 'b': 0.09790956142836563, 'c': 0.09674863176210019, 'd': 0.48034778000639, 'e': 0.08957396372183775, 'f': 0.29121093176426865, 'g': 0.10523006289907828}. Best is trial 33 with value: 11.664632528211978.\u001b[0m\n"
     ]
    },
    {
     "name": "stdout",
     "output_type": "stream",
     "text": [
      "169/169 [==============================] - 0s 698us/step\n"
     ]
    },
    {
     "name": "stderr",
     "output_type": "stream",
     "text": [
      "\u001b[32m[I 2023-03-11 16:40:43,920]\u001b[0m Trial 45 finished with value: 11.853581614636623 and parameters: {'a': 0.2485489711430428, 'b': 0.15556070176623313, 'c': 0.14084537385447787, 'd': 0.6920155833409324, 'e': 0.024689830144838085, 'f': 0.3918644072000951, 'g': 0.17169309313837233}. Best is trial 33 with value: 11.664632528211978.\u001b[0m\n"
     ]
    },
    {
     "name": "stdout",
     "output_type": "stream",
     "text": [
      "169/169 [==============================] - 0s 781us/step\n"
     ]
    },
    {
     "name": "stderr",
     "output_type": "stream",
     "text": [
      "\u001b[32m[I 2023-03-11 16:40:53,460]\u001b[0m Trial 46 finished with value: 11.729011178374156 and parameters: {'a': 0.34347629138706315, 'b': 0.21702474642665895, 'c': 0.06444821009133317, 'd': 0.71169581566862, 'e': 0.15171092346258003, 'f': 0.3374530213536516, 'g': 0.03841530796922996}. Best is trial 33 with value: 11.664632528211978.\u001b[0m\n"
     ]
    },
    {
     "name": "stdout",
     "output_type": "stream",
     "text": [
      "169/169 [==============================] - 0s 753us/step\n"
     ]
    },
    {
     "name": "stderr",
     "output_type": "stream",
     "text": [
      "\u001b[32m[I 2023-03-11 16:41:03,027]\u001b[0m Trial 47 finished with value: 11.825388087102906 and parameters: {'a': 0.17344755721190144, 'b': 0.07522226895134873, 'c': 0.18380172212627952, 'd': 0.9451026563199985, 'e': 0.1897829190690722, 'f': 0.33310332251525965, 'g': 0.05068421776370267}. Best is trial 33 with value: 11.664632528211978.\u001b[0m\n"
     ]
    },
    {
     "name": "stdout",
     "output_type": "stream",
     "text": [
      "169/169 [==============================] - 0s 726us/step\n"
     ]
    },
    {
     "name": "stderr",
     "output_type": "stream",
     "text": [
      "\u001b[32m[I 2023-03-11 16:41:13,064]\u001b[0m Trial 48 finished with value: 11.813530519455357 and parameters: {'a': 0.37976640434114206, 'b': 0.21013605563988624, 'c': 0.25480645927811196, 'd': 0.6152114530852713, 'e': 0.0018242703713329546, 'f': 0.2079262550898695, 'g': 0.04442723110619556}. Best is trial 33 with value: 11.664632528211978.\u001b[0m\n"
     ]
    },
    {
     "name": "stdout",
     "output_type": "stream",
     "text": [
      "169/169 [==============================] - 0s 1ms/step\n"
     ]
    },
    {
     "name": "stderr",
     "output_type": "stream",
     "text": [
      "\u001b[32m[I 2023-03-11 16:41:23,325]\u001b[0m Trial 49 finished with value: 11.796623043016057 and parameters: {'a': 0.28201017394619704, 'b': 0.18588333851966674, 'c': 0.342128857213206, 'd': 0.9834174107162754, 'e': 0.061724745610890745, 'f': 0.4282230715313579, 'g': 0.000508123529074379}. Best is trial 33 with value: 11.664632528211978.\u001b[0m\n"
     ]
    },
    {
     "name": "stdout",
     "output_type": "stream",
     "text": [
      "169/169 [==============================] - 0s 690us/step\n"
     ]
    },
    {
     "name": "stderr",
     "output_type": "stream",
     "text": [
      "\u001b[32m[I 2023-03-11 16:41:34,207]\u001b[0m Trial 50 finished with value: 11.830904586003806 and parameters: {'a': 0.4376829097086988, 'b': 0.06673044804035581, 'c': 0.1230781488926116, 'd': 0.8379143914484122, 'e': 0.23194184197549822, 'f': 0.3799572942725015, 'g': 0.1245703939018789}. Best is trial 33 with value: 11.664632528211978.\u001b[0m\n"
     ]
    },
    {
     "name": "stdout",
     "output_type": "stream",
     "text": [
      "169/169 [==============================] - 0s 674us/step\n"
     ]
    },
    {
     "name": "stderr",
     "output_type": "stream",
     "text": [
      "\u001b[32m[I 2023-03-11 16:41:43,922]\u001b[0m Trial 51 finished with value: 11.74300060783216 and parameters: {'a': 0.3353118309336301, 'b': 0.24517146331700634, 'c': 0.06500759567444969, 'd': 0.7207863471603198, 'e': 0.15235432183655973, 'f': 0.2681159173443784, 'g': 0.04897160668837583}. Best is trial 33 with value: 11.664632528211978.\u001b[0m\n"
     ]
    },
    {
     "name": "stdout",
     "output_type": "stream",
     "text": [
      "169/169 [==============================] - 0s 698us/step\n"
     ]
    },
    {
     "name": "stderr",
     "output_type": "stream",
     "text": [
      "\u001b[32m[I 2023-03-11 16:41:54,223]\u001b[0m Trial 52 finished with value: 11.733115408017174 and parameters: {'a': 0.3435154513013325, 'b': 0.14538045152953502, 'c': 0.062000693305252874, 'd': 0.7802096027820516, 'e': 0.17651618969795965, 'f': 0.3055799002136585, 'g': 0.03867127745863355}. Best is trial 33 with value: 11.664632528211978.\u001b[0m\n"
     ]
    },
    {
     "name": "stdout",
     "output_type": "stream",
     "text": [
      "169/169 [==============================] - 0s 764us/step\n"
     ]
    },
    {
     "name": "stderr",
     "output_type": "stream",
     "text": [
      "\u001b[32m[I 2023-03-11 16:42:03,810]\u001b[0m Trial 53 finished with value: 11.7360859641868 and parameters: {'a': 0.41819281573627964, 'b': 0.13784771498804277, 'c': 0.040348222364947284, 'd': 0.7802317574920675, 'e': 0.10858319631570096, 'f': 0.3045953694365543, 'g': 0.09925598042422554}. Best is trial 33 with value: 11.664632528211978.\u001b[0m\n"
     ]
    },
    {
     "name": "stdout",
     "output_type": "stream",
     "text": [
      "169/169 [==============================] - 0s 653us/step\n"
     ]
    },
    {
     "name": "stderr",
     "output_type": "stream",
     "text": [
      "\u001b[32m[I 2023-03-11 16:42:13,748]\u001b[0m Trial 54 finished with value: 11.728508665948794 and parameters: {'a': 0.40729773461484675, 'b': 0.1375844255954164, 'c': 0.04737920584622661, 'd': 0.7801504994345444, 'e': 0.10466356709148648, 'f': 0.32109477835737893, 'g': 0.08648844712338231}. Best is trial 33 with value: 11.664632528211978.\u001b[0m\n"
     ]
    },
    {
     "name": "stdout",
     "output_type": "stream",
     "text": [
      "169/169 [==============================] - 0s 645us/step\n"
     ]
    },
    {
     "name": "stderr",
     "output_type": "stream",
     "text": [
      "\u001b[32m[I 2023-03-11 16:42:23,561]\u001b[0m Trial 55 finished with value: 11.779993383987241 and parameters: {'a': 0.45730697944760024, 'b': 0.04936412263773826, 'c': 0.03426747212859952, 'd': 0.8021002304124085, 'e': 0.1725316003780304, 'f': 0.35491943357948375, 'g': 0.1397909438211235}. Best is trial 33 with value: 11.664632528211978.\u001b[0m\n"
     ]
    },
    {
     "name": "stdout",
     "output_type": "stream",
     "text": [
      "169/169 [==============================] - 0s 644us/step\n"
     ]
    },
    {
     "name": "stderr",
     "output_type": "stream",
     "text": [
      "\u001b[32m[I 2023-03-11 16:42:32,978]\u001b[0m Trial 56 finished with value: 11.744553139765951 and parameters: {'a': 0.37770486859507335, 'b': 0.11872552010082293, 'c': 0.09172411818575467, 'd': 0.8580218897553135, 'e': 0.2320960574399028, 'f': 0.13483015229367207, 'g': 0.0026227975953487526}. Best is trial 33 with value: 11.664632528211978.\u001b[0m\n"
     ]
    },
    {
     "name": "stdout",
     "output_type": "stream",
     "text": [
      "169/169 [==============================] - 0s 664us/step\n"
     ]
    },
    {
     "name": "stderr",
     "output_type": "stream",
     "text": [
      "\u001b[32m[I 2023-03-11 16:42:42,910]\u001b[0m Trial 57 finished with value: 11.787152772979399 and parameters: {'a': 0.2629482475522008, 'b': 0.1591846417931963, 'c': 0.19385689418186464, 'd': 0.8247335940257868, 'e': 0.08924779175927842, 'f': 0.22291299428016378, 'g': 0.032390048142451305}. Best is trial 33 with value: 11.664632528211978.\u001b[0m\n"
     ]
    },
    {
     "name": "stdout",
     "output_type": "stream",
     "text": [
      "169/169 [==============================] - 0s 744us/step\n"
     ]
    },
    {
     "name": "stderr",
     "output_type": "stream",
     "text": [
      "\u001b[32m[I 2023-03-11 16:42:52,380]\u001b[0m Trial 58 finished with value: 11.794253604968922 and parameters: {'a': 0.23207684105992848, 'b': 0.20331788537059042, 'c': 0.030332902809809506, 'd': 0.7595154193661684, 'e': 0.17292331652219273, 'f': 0.16166668695693254, 'g': 0.09018131603245172}. Best is trial 33 with value: 11.664632528211978.\u001b[0m\n"
     ]
    },
    {
     "name": "stdout",
     "output_type": "stream",
     "text": [
      "169/169 [==============================] - 0s 685us/step\n"
     ]
    },
    {
     "name": "stderr",
     "output_type": "stream",
     "text": [
      "\u001b[32m[I 2023-03-11 16:43:01,850]\u001b[0m Trial 59 finished with value: 11.85068664892418 and parameters: {'a': 0.3988259331097571, 'b': 0.30954562063926605, 'c': 0.1746468793042648, 'd': 0.9377778037861491, 'e': 0.14394534395780362, 'f': 0.3216363911077952, 'g': 0.17826434531618515}. Best is trial 33 with value: 11.664632528211978.\u001b[0m\n"
     ]
    },
    {
     "name": "stdout",
     "output_type": "stream",
     "text": [
      "169/169 [==============================] - 0s 660us/step\n"
     ]
    },
    {
     "name": "stderr",
     "output_type": "stream",
     "text": [
      "\u001b[32m[I 2023-03-11 16:43:11,409]\u001b[0m Trial 60 finished with value: 11.758732449371342 and parameters: {'a': 0.19355488494268036, 'b': 0.2724718432537271, 'c': 0.09503553092263128, 'd': 0.9966641314862316, 'e': 0.2261260237207411, 'f': 0.40100751534826495, 'g': 0.03802962864720594}. Best is trial 33 with value: 11.664632528211978.\u001b[0m\n"
     ]
    },
    {
     "name": "stdout",
     "output_type": "stream",
     "text": [
      "169/169 [==============================] - 0s 646us/step\n"
     ]
    },
    {
     "name": "stderr",
     "output_type": "stream",
     "text": [
      "\u001b[32m[I 2023-03-11 16:43:21,040]\u001b[0m Trial 61 finished with value: 11.752412608555659 and parameters: {'a': 0.429483103190492, 'b': 0.13982371744170974, 'c': 0.03537502885483188, 'd': 0.7618237660977267, 'e': 0.10477326777943137, 'f': 0.2992748169546355, 'g': 0.12356742286018113}. Best is trial 33 with value: 11.664632528211978.\u001b[0m\n"
     ]
    },
    {
     "name": "stdout",
     "output_type": "stream",
     "text": [
      "169/169 [==============================] - 0s 687us/step\n"
     ]
    },
    {
     "name": "stderr",
     "output_type": "stream",
     "text": [
      "\u001b[32m[I 2023-03-11 16:43:30,415]\u001b[0m Trial 62 finished with value: 11.72804385157148 and parameters: {'a': 0.35984350426423206, 'b': 0.1365705107151872, 'c': 0.0347081784399671, 'd': 0.7998713049294637, 'e': 0.10721224596585231, 'f': 0.35652345818923803, 'g': 0.09024171554364342}. Best is trial 33 with value: 11.664632528211978.\u001b[0m\n"
     ]
    },
    {
     "name": "stdout",
     "output_type": "stream",
     "text": [
      "169/169 [==============================] - 0s 705us/step\n"
     ]
    },
    {
     "name": "stderr",
     "output_type": "stream",
     "text": [
      "\u001b[32m[I 2023-03-11 16:43:40,148]\u001b[0m Trial 63 finished with value: 11.686950773208816 and parameters: {'a': 0.3371074724602856, 'b': 0.09007429961689797, 'c': 0.0078843045270003, 'd': 0.8693704467087678, 'e': 0.03910539179164685, 'f': 0.3445739491285085, 'g': 0.08251342749472562}. Best is trial 33 with value: 11.664632528211978.\u001b[0m\n"
     ]
    },
    {
     "name": "stdout",
     "output_type": "stream",
     "text": [
      "169/169 [==============================] - 0s 676us/step\n"
     ]
    },
    {
     "name": "stderr",
     "output_type": "stream",
     "text": [
      "\u001b[32m[I 2023-03-11 16:43:49,774]\u001b[0m Trial 64 finished with value: 11.67613755019842 and parameters: {'a': 0.36876082583759884, 'b': 0.03809146751321599, 'c': 0.0018238199981203754, 'd': 0.8141509477201015, 'e': 0.02457850412039883, 'f': 0.43265460363315994, 'g': 0.08285197871050912}. Best is trial 33 with value: 11.664632528211978.\u001b[0m\n"
     ]
    },
    {
     "name": "stdout",
     "output_type": "stream",
     "text": [
      "169/169 [==============================] - 0s 646us/step\n"
     ]
    },
    {
     "name": "stderr",
     "output_type": "stream",
     "text": [
      "\u001b[32m[I 2023-03-11 16:43:59,359]\u001b[0m Trial 65 finished with value: 11.676923647050689 and parameters: {'a': 0.4705652579255102, 'b': 0.025984413631933122, 'c': 0.009199450568813078, 'd': 0.8773123100363115, 'e': 0.039834873043413266, 'f': 0.45338643166240367, 'g': 0.09070447778818977}. Best is trial 33 with value: 11.664632528211978.\u001b[0m\n"
     ]
    },
    {
     "name": "stdout",
     "output_type": "stream",
     "text": [
      "169/169 [==============================] - 0s 680us/step\n"
     ]
    },
    {
     "name": "stderr",
     "output_type": "stream",
     "text": [
      "\u001b[32m[I 2023-03-11 16:44:08,867]\u001b[0m Trial 66 finished with value: 11.766193275414913 and parameters: {'a': 0.4809740301645844, 'b': 0.029966396059388115, 'c': 0.005035244469416226, 'd': 0.8817008577383643, 'e': 0.027231080602800398, 'f': 0.4317403681961014, 'g': 0.2264436803729497}. Best is trial 33 with value: 11.664632528211978.\u001b[0m\n"
     ]
    },
    {
     "name": "stdout",
     "output_type": "stream",
     "text": [
      "169/169 [==============================] - 0s 697us/step\n"
     ]
    },
    {
     "name": "stderr",
     "output_type": "stream",
     "text": [
      "\u001b[32m[I 2023-03-11 16:44:18,417]\u001b[0m Trial 67 finished with value: 11.72677047287334 and parameters: {'a': 0.5302957512891208, 'b': 0.09064714053606142, 'c': 0.02175119795259904, 'd': 0.8138341455559549, 'e': 0.05689896679193955, 'f': 0.4632351736474618, 'g': 0.154229771509825}. Best is trial 33 with value: 11.664632528211978.\u001b[0m\n"
     ]
    },
    {
     "name": "stdout",
     "output_type": "stream",
     "text": [
      "169/169 [==============================] - 0s 634us/step\n"
     ]
    },
    {
     "name": "stderr",
     "output_type": "stream",
     "text": [
      "\u001b[32m[I 2023-03-11 16:44:27,929]\u001b[0m Trial 68 finished with value: 11.704642283694035 and parameters: {'a': 0.5417882751062332, 'b': 0.02319981978468111, 'c': 0.0025699277130980525, 'd': 0.8666014900633977, 'e': 0.031869802424710075, 'f': 0.509284450697053, 'g': 0.1532814356664861}. Best is trial 33 with value: 11.664632528211978.\u001b[0m\n"
     ]
    },
    {
     "name": "stdout",
     "output_type": "stream",
     "text": [
      "169/169 [==============================] - 0s 658us/step\n"
     ]
    },
    {
     "name": "stderr",
     "output_type": "stream",
     "text": [
      "\u001b[32m[I 2023-03-11 16:44:37,474]\u001b[0m Trial 69 finished with value: 11.742042793281628 and parameters: {'a': 0.5697834006251068, 'b': 0.03350476280842698, 'c': 0.09754142006435906, 'd': 0.890395323378264, 'e': 0.02068661028415157, 'f': 0.46853064582675413, 'g': 0.15887969463980173}. Best is trial 33 with value: 11.664632528211978.\u001b[0m\n"
     ]
    },
    {
     "name": "stdout",
     "output_type": "stream",
     "text": [
      "169/169 [==============================] - 0s 696us/step\n"
     ]
    },
    {
     "name": "stderr",
     "output_type": "stream",
     "text": [
      "\u001b[32m[I 2023-03-11 16:44:47,000]\u001b[0m Trial 70 finished with value: 11.740637064267398 and parameters: {'a': 0.6236443641975264, 'b': 0.001814910321294827, 'c': 0.003665421483797948, 'd': 0.8489819756662804, 'e': 0.03133786421808092, 'f': 0.4659642850404552, 'g': 0.21396316774337185}. Best is trial 33 with value: 11.664632528211978.\u001b[0m\n"
     ]
    },
    {
     "name": "stdout",
     "output_type": "stream",
     "text": [
      "169/169 [==============================] - 0s 648us/step\n"
     ]
    },
    {
     "name": "stderr",
     "output_type": "stream",
     "text": [
      "\u001b[32m[I 2023-03-11 16:44:56,532]\u001b[0m Trial 71 finished with value: 11.674296592880541 and parameters: {'a': 0.519404665751487, 'b': 0.07443713576225164, 'c': 0.027783351049953796, 'd': 0.816852808293665, 'e': 0.0005484743413368687, 'f': 0.5162599679635194, 'g': 0.08930968394115117}. Best is trial 33 with value: 11.664632528211978.\u001b[0m\n"
     ]
    },
    {
     "name": "stdout",
     "output_type": "stream",
     "text": [
      "169/169 [==============================] - 0s 723us/step\n"
     ]
    },
    {
     "name": "stderr",
     "output_type": "stream",
     "text": [
      "\u001b[32m[I 2023-03-11 16:45:06,217]\u001b[0m Trial 72 finished with value: 11.70903169152609 and parameters: {'a': 0.5252578434855492, 'b': 0.0883245548685608, 'c': 0.0036836149408623134, 'd': 0.8709026260566255, 'e': 0.06413663195127622, 'f': 0.5197763450200039, 'g': 0.14284869346309229}. Best is trial 33 with value: 11.664632528211978.\u001b[0m\n"
     ]
    },
    {
     "name": "stdout",
     "output_type": "stream",
     "text": [
      "169/169 [==============================] - 0s 734us/step\n"
     ]
    },
    {
     "name": "stderr",
     "output_type": "stream",
     "text": [
      "\u001b[32m[I 2023-03-11 16:45:15,801]\u001b[0m Trial 73 finished with value: 11.679588556983203 and parameters: {'a': 0.5104258883123116, 'b': 0.055955685602853834, 'c': 0.004797964482623398, 'd': 0.8624135630530406, 'e': 0.00824599274829913, 'f': 0.5548269514836158, 'g': 0.11447743470292293}. Best is trial 33 with value: 11.664632528211978.\u001b[0m\n"
     ]
    },
    {
     "name": "stdout",
     "output_type": "stream",
     "text": [
      "169/169 [==============================] - 0s 764us/step\n"
     ]
    },
    {
     "name": "stderr",
     "output_type": "stream",
     "text": [
      "\u001b[32m[I 2023-03-11 16:45:26,019]\u001b[0m Trial 74 finished with value: 11.707788345522392 and parameters: {'a': 0.5020897734637599, 'b': 0.0515347190072363, 'c': 0.09052550988172461, 'd': 0.9239612409882992, 'e': 0.0031928250271802804, 'f': 0.5325365801874695, 'g': 0.11247053160672196}. Best is trial 33 with value: 11.664632528211978.\u001b[0m\n"
     ]
    },
    {
     "name": "stdout",
     "output_type": "stream",
     "text": [
      "169/169 [==============================] - 0s 698us/step\n"
     ]
    },
    {
     "name": "stderr",
     "output_type": "stream",
     "text": [
      "\u001b[32m[I 2023-03-11 16:45:35,738]\u001b[0m Trial 75 finished with value: 11.72932091050844 and parameters: {'a': 0.4966395558196852, 'b': 0.05401716200407996, 'c': 0.03473731260700009, 'd': 0.9556929817280646, 'e': 0.006947741965231076, 'f': 0.5397295665990864, 'g': 0.18524555303468904}. Best is trial 33 with value: 11.664632528211978.\u001b[0m\n"
     ]
    },
    {
     "name": "stdout",
     "output_type": "stream",
     "text": [
      "169/169 [==============================] - 0s 630us/step\n"
     ]
    },
    {
     "name": "stderr",
     "output_type": "stream",
     "text": [
      "\u001b[32m[I 2023-03-11 16:45:45,491]\u001b[0m Trial 76 finished with value: 11.71594348533642 and parameters: {'a': 0.4653928315372802, 'b': 0.031315144104006695, 'c': 0.08552901845456895, 'd': 0.8374622895434806, 'e': 0.043723237830572234, 'f': 0.6059294160791852, 'g': 0.10544674670143714}. Best is trial 33 with value: 11.664632528211978.\u001b[0m\n"
     ]
    },
    {
     "name": "stdout",
     "output_type": "stream",
     "text": [
      "169/169 [==============================] - 0s 656us/step\n"
     ]
    },
    {
     "name": "stderr",
     "output_type": "stream",
     "text": [
      "\u001b[32m[I 2023-03-11 16:45:54,999]\u001b[0m Trial 77 finished with value: 11.695939781962855 and parameters: {'a': 0.5473166527220431, 'b': 0.0636970091720766, 'c': 0.11312385703308644, 'd': 0.9292075336371877, 'e': 0.004610885600249495, 'f': 0.568362105513521, 'g': 0.08240664258287882}. Best is trial 33 with value: 11.664632528211978.\u001b[0m\n"
     ]
    },
    {
     "name": "stdout",
     "output_type": "stream",
     "text": [
      "169/169 [==============================] - 0s 701us/step\n"
     ]
    },
    {
     "name": "stderr",
     "output_type": "stream",
     "text": [
      "\u001b[32m[I 2023-03-11 16:46:04,577]\u001b[0m Trial 78 finished with value: 11.670108677389127 and parameters: {'a': 0.5650554166263393, 'b': 0.10313512041458439, 'c': 0.028371111766994264, 'd': 0.9655383448113154, 'e': 0.04150224407745557, 'f': 0.49155404628431604, 'g': 0.07526891588777723}. Best is trial 33 with value: 11.664632528211978.\u001b[0m\n"
     ]
    },
    {
     "name": "stdout",
     "output_type": "stream",
     "text": [
      "169/169 [==============================] - 0s 688us/step\n"
     ]
    },
    {
     "name": "stderr",
     "output_type": "stream",
     "text": [
      "\u001b[32m[I 2023-03-11 16:46:14,203]\u001b[0m Trial 79 finished with value: 11.71025609262854 and parameters: {'a': 0.5880954451818838, 'b': 0.10462135890317706, 'c': 0.12233556680513478, 'd': 0.9745764233712128, 'e': 0.07531737608979547, 'f': 0.567693289140263, 'g': 0.0825166276718243}. Best is trial 33 with value: 11.664632528211978.\u001b[0m\n"
     ]
    },
    {
     "name": "stdout",
     "output_type": "stream",
     "text": [
      "169/169 [==============================] - 0s 635us/step\n"
     ]
    },
    {
     "name": "stderr",
     "output_type": "stream",
     "text": [
      "\u001b[32m[I 2023-03-11 16:46:23,795]\u001b[0m Trial 80 finished with value: 11.674783172066467 and parameters: {'a': 0.5597081988956749, 'b': 0.07142376342602003, 'c': 0.0464483866489736, 'd': 0.9265453450888884, 'e': 0.04725531172479614, 'f': 0.4936284044571636, 'g': 0.07027704578646063}. Best is trial 33 with value: 11.664632528211978.\u001b[0m\n"
     ]
    },
    {
     "name": "stdout",
     "output_type": "stream",
     "text": [
      "169/169 [==============================] - 0s 655us/step\n"
     ]
    },
    {
     "name": "stderr",
     "output_type": "stream",
     "text": [
      "\u001b[32m[I 2023-03-11 16:46:33,396]\u001b[0m Trial 81 finished with value: 11.669545084011304 and parameters: {'a': 0.5702355509871112, 'b': 0.08632117419478472, 'c': 0.051021617489403356, 'd': 0.9238045626389362, 'e': 0.0003943591273300193, 'f': 0.49326923543117523, 'g': 0.07438180113196426}. Best is trial 33 with value: 11.664632528211978.\u001b[0m\n"
     ]
    },
    {
     "name": "stdout",
     "output_type": "stream",
     "text": [
      "169/169 [==============================] - 0s 721us/step\n"
     ]
    },
    {
     "name": "stderr",
     "output_type": "stream",
     "text": [
      "\u001b[32m[I 2023-03-11 16:46:42,856]\u001b[0m Trial 82 finished with value: 11.671439792008282 and parameters: {'a': 0.6137613280783181, 'b': 0.08500201173751644, 'c': 0.0432602444029421, 'd': 0.8878881038783504, 'e': 0.04236568482860518, 'f': 0.48894515525964993, 'g': 0.07129921073705811}. Best is trial 33 with value: 11.664632528211978.\u001b[0m\n"
     ]
    },
    {
     "name": "stdout",
     "output_type": "stream",
     "text": [
      "169/169 [==============================] - 0s 671us/step\n"
     ]
    },
    {
     "name": "stderr",
     "output_type": "stream",
     "text": [
      "\u001b[32m[I 2023-03-11 16:46:52,307]\u001b[0m Trial 83 finished with value: 11.66310904106663 and parameters: {'a': 0.6596083336621402, 'b': 8.901958810539345e-05, 'c': 0.050786606318048697, 'd': 0.8905044868184925, 'e': 0.05230839141388126, 'f': 0.4963605739823891, 'g': 0.058833339951855475}. Best is trial 83 with value: 11.66310904106663.\u001b[0m\n"
     ]
    },
    {
     "name": "stdout",
     "output_type": "stream",
     "text": [
      "169/169 [==============================] - 0s 707us/step\n"
     ]
    },
    {
     "name": "stderr",
     "output_type": "stream",
     "text": [
      "\u001b[32m[I 2023-03-11 16:47:01,796]\u001b[0m Trial 84 finished with value: 11.649441856319006 and parameters: {'a': 0.6591382275511279, 'b': 0.002679222243752697, 'c': 0.05112651390207882, 'd': 0.8941115849385034, 'e': 0.08358866945680773, 'f': 0.4905956384268291, 'g': 0.018263638437283347}. Best is trial 84 with value: 11.649441856319006.\u001b[0m\n"
     ]
    },
    {
     "name": "stdout",
     "output_type": "stream",
     "text": [
      "169/169 [==============================] - 0s 734us/step\n"
     ]
    },
    {
     "name": "stderr",
     "output_type": "stream",
     "text": [
      "\u001b[32m[I 2023-03-11 16:47:11,282]\u001b[0m Trial 85 finished with value: 11.657465435671954 and parameters: {'a': 0.6718930730947308, 'b': 0.11560747648293829, 'c': 0.050139775931650137, 'd': 0.9752641060093908, 'e': 0.08237431217290145, 'f': 0.49226865615424376, 'g': 0.02843597207670167}. Best is trial 84 with value: 11.649441856319006.\u001b[0m\n"
     ]
    },
    {
     "name": "stdout",
     "output_type": "stream",
     "text": [
      "169/169 [==============================] - 0s 779us/step\n"
     ]
    },
    {
     "name": "stderr",
     "output_type": "stream",
     "text": [
      "\u001b[32m[I 2023-03-11 16:47:21,185]\u001b[0m Trial 86 finished with value: 11.665779113716043 and parameters: {'a': 0.6900876977397372, 'b': 0.11429951585937363, 'c': 0.05344968096272884, 'd': 0.9668100754122989, 'e': 0.13079479641417738, 'f': 0.49170146329725284, 'g': 0.026370415105122502}. Best is trial 84 with value: 11.649441856319006.\u001b[0m\n"
     ]
    },
    {
     "name": "stdout",
     "output_type": "stream",
     "text": [
      "169/169 [==============================] - 0s 644us/step\n"
     ]
    },
    {
     "name": "stderr",
     "output_type": "stream",
     "text": [
      "\u001b[32m[I 2023-03-11 16:47:30,818]\u001b[0m Trial 87 finished with value: 11.695836956075363 and parameters: {'a': 0.6812962215076424, 'b': 0.11534452830242851, 'c': 0.15032291679881998, 'd': 0.9643616570295142, 'e': 0.1294118959242239, 'f': 0.6309326506246837, 'g': 0.025389503199226213}. Best is trial 84 with value: 11.649441856319006.\u001b[0m\n"
     ]
    },
    {
     "name": "stdout",
     "output_type": "stream",
     "text": [
      "169/169 [==============================] - 0s 671us/step\n"
     ]
    },
    {
     "name": "stderr",
     "output_type": "stream",
     "text": [
      "\u001b[32m[I 2023-03-11 16:47:40,369]\u001b[0m Trial 88 finished with value: 11.657680576259677 and parameters: {'a': 0.6292752623631067, 'b': 0.0017644892110065258, 'c': 0.0757164467349745, 'd': 0.9906239108751533, 'e': 0.07764384607446881, 'f': 0.48760636238154925, 'g': 0.020081690388108177}. Best is trial 84 with value: 11.649441856319006.\u001b[0m\n"
     ]
    },
    {
     "name": "stdout",
     "output_type": "stream",
     "text": [
      "169/169 [==============================] - 0s 668us/step\n"
     ]
    },
    {
     "name": "stderr",
     "output_type": "stream",
     "text": [
      "\u001b[32m[I 2023-03-11 16:47:50,075]\u001b[0m Trial 89 finished with value: 11.662003958312303 and parameters: {'a': 0.6251842479002568, 'b': 0.007451215623687103, 'c': 0.08346478383923148, 'd': 0.987237324715925, 'e': 0.07490675249545702, 'f': 0.48235245494872026, 'g': 0.023376637494730457}. Best is trial 84 with value: 11.649441856319006.\u001b[0m\n"
     ]
    },
    {
     "name": "stdout",
     "output_type": "stream",
     "text": [
      "169/169 [==============================] - 0s 869us/step\n"
     ]
    },
    {
     "name": "stderr",
     "output_type": "stream",
     "text": [
      "\u001b[32m[I 2023-03-11 16:47:59,647]\u001b[0m Trial 90 finished with value: 11.670515486868622 and parameters: {'a': 0.6577973022896557, 'b': 0.006827868918419938, 'c': 0.07702373515928712, 'd': 0.9976780531759114, 'e': 0.1317471863449285, 'f': 0.40395359026998634, 'g': 0.023433426642349327}. Best is trial 84 with value: 11.649441856319006.\u001b[0m\n"
     ]
    },
    {
     "name": "stdout",
     "output_type": "stream",
     "text": [
      "169/169 [==============================] - 0s 728us/step\n"
     ]
    },
    {
     "name": "stderr",
     "output_type": "stream",
     "text": [
      "\u001b[32m[I 2023-03-11 16:48:09,317]\u001b[0m Trial 91 finished with value: 11.656807751952531 and parameters: {'a': 0.6791123648952044, 'b': 0.005894841734513501, 'c': 0.07459076439495356, 'd': 0.9970818767841235, 'e': 0.08241758532213402, 'f': 0.4173982311473581, 'g': 0.022055537165429902}. Best is trial 84 with value: 11.649441856319006.\u001b[0m\n"
     ]
    },
    {
     "name": "stdout",
     "output_type": "stream",
     "text": [
      "169/169 [==============================] - 0s 825us/step\n"
     ]
    },
    {
     "name": "stderr",
     "output_type": "stream",
     "text": [
      "\u001b[32m[I 2023-03-11 16:48:19,031]\u001b[0m Trial 92 finished with value: 11.669065610189394 and parameters: {'a': 0.710905169742039, 'b': 0.0008564256393738708, 'c': 0.11073693772768517, 'd': 0.9678322384366744, 'e': 0.08156659104363946, 'f': 0.4874800761486068, 'g': 0.024839685731950608}. Best is trial 84 with value: 11.649441856319006.\u001b[0m\n"
     ]
    },
    {
     "name": "stdout",
     "output_type": "stream",
     "text": [
      "169/169 [==============================] - 0s 856us/step\n"
     ]
    },
    {
     "name": "stderr",
     "output_type": "stream",
     "text": [
      "\u001b[32m[I 2023-03-11 16:48:28,743]\u001b[0m Trial 93 finished with value: 11.688569491681491 and parameters: {'a': 0.721871987501778, 'b': 0.009953555729028967, 'c': 0.15502499710831535, 'd': 0.9817302273288586, 'e': 0.09399817345616666, 'f': 0.4118311939180028, 'g': 0.024044636344031166}. Best is trial 84 with value: 11.649441856319006.\u001b[0m\n"
     ]
    },
    {
     "name": "stdout",
     "output_type": "stream",
     "text": [
      "169/169 [==============================] - 0s 651us/step\n"
     ]
    },
    {
     "name": "stderr",
     "output_type": "stream",
     "text": [
      "\u001b[32m[I 2023-03-11 16:48:38,403]\u001b[0m Trial 94 finished with value: 11.658244857301716 and parameters: {'a': 0.6898495298078374, 'b': 0.011407699018475631, 'c': 0.10966828427958837, 'd': 0.9559263312782915, 'e': 0.07576466146769655, 'f': 0.44958315159124373, 'g': 0.0008620741050039127}. Best is trial 84 with value: 11.649441856319006.\u001b[0m\n"
     ]
    },
    {
     "name": "stdout",
     "output_type": "stream",
     "text": [
      "169/169 [==============================] - 0s 649us/step\n"
     ]
    },
    {
     "name": "stderr",
     "output_type": "stream",
     "text": [
      "\u001b[32m[I 2023-03-11 16:48:47,872]\u001b[0m Trial 95 finished with value: 11.661850432525226 and parameters: {'a': 0.7020418551851736, 'b': 0.006781111132670246, 'c': 0.1176862725408091, 'd': 0.9454042257598099, 'e': 0.08321947830845453, 'f': 0.45219545647743775, 'g': 0.0007031152353028092}. Best is trial 84 with value: 11.649441856319006.\u001b[0m\n"
     ]
    },
    {
     "name": "stdout",
     "output_type": "stream",
     "text": [
      "169/169 [==============================] - 0s 648us/step\n"
     ]
    },
    {
     "name": "stderr",
     "output_type": "stream",
     "text": [
      "\u001b[32m[I 2023-03-11 16:48:57,234]\u001b[0m Trial 96 finished with value: 11.657472162539136 and parameters: {'a': 0.7437292322248336, 'b': 0.02164680359023813, 'c': 0.0771336358888187, 'd': 0.9526922592143319, 'e': 0.13250511706892268, 'f': 0.44817862757375226, 'g': 0.0043834181229356894}. Best is trial 84 with value: 11.649441856319006.\u001b[0m\n"
     ]
    },
    {
     "name": "stdout",
     "output_type": "stream",
     "text": [
      "169/169 [==============================] - 0s 793us/step\n"
     ]
    },
    {
     "name": "stderr",
     "output_type": "stream",
     "text": [
      "\u001b[32m[I 2023-03-11 16:49:06,663]\u001b[0m Trial 97 finished with value: 11.667048445845857 and parameters: {'a': 0.7660275312503974, 'b': 0.022846527225836084, 'c': 0.1347297983529485, 'd': 0.9955969291039412, 'e': 0.08089126844637294, 'f': 0.4486931842543316, 'g': 0.0079169572375557}. Best is trial 84 with value: 11.649441856319006.\u001b[0m\n"
     ]
    },
    {
     "name": "stdout",
     "output_type": "stream",
     "text": [
      "169/169 [==============================] - 0s 654us/step\n"
     ]
    },
    {
     "name": "stderr",
     "output_type": "stream",
     "text": [
      "\u001b[32m[I 2023-03-11 16:49:16,422]\u001b[0m Trial 98 finished with value: 11.689687244853461 and parameters: {'a': 0.7537781208173255, 'b': 0.049956791208720444, 'c': 0.17181941746572038, 'd': 0.9048105491822664, 'e': 0.11335872276735338, 'f': 0.37908229498812085, 'g': 5.2599374778507235e-05}. Best is trial 84 with value: 11.649441856319006.\u001b[0m\n"
     ]
    },
    {
     "name": "stdout",
     "output_type": "stream",
     "text": [
      "169/169 [==============================] - 0s 816us/step\n"
     ]
    },
    {
     "name": "stderr",
     "output_type": "stream",
     "text": [
      "\u001b[32m[I 2023-03-11 16:49:26,089]\u001b[0m Trial 99 finished with value: 11.668196811985892 and parameters: {'a': 0.6486899344762496, 'b': 0.001113515470054979, 'c': 0.07574341869874919, 'd': 0.9514376811386647, 'e': 0.0634464656736166, 'f': 0.4173299515210281, 'g': 0.04669873641669166}. Best is trial 84 with value: 11.649441856319006.\u001b[0m\n"
     ]
    },
    {
     "data": {
      "text/plain": [
       "{'a': 0.6591382275511279,\n",
       " 'b': 0.002679222243752697,\n",
       " 'c': 0.05112651390207882,\n",
       " 'd': 0.8941115849385034,\n",
       " 'e': 0.08358866945680773,\n",
       " 'f': 0.4905956384268291,\n",
       " 'g': 0.018263638437283347}"
      ]
     },
     "execution_count": 27,
     "metadata": {},
     "output_type": "execute_result"
    }
   ],
   "source": [
    "def coef_objective(trial):\n",
    "    a = trial.suggest_float('a', 0, 1)\n",
    "    b = trial.suggest_float('b', 0, 1)\n",
    "    c = trial.suggest_float('c', 0, 1)\n",
    "    d = trial.suggest_float('d', 0, 1)\n",
    "    e = trial.suggest_float('e', 0, 1)\n",
    "    f = trial.suggest_float('f', 0, 1)\n",
    "    g = trial.suggest_float('g', 0, 1)\n",
    "\n",
    "    preds_eval = []\n",
    "    for model in modelsXGB:\n",
    "        preds_eval.append(model.predict(X))\n",
    "    \n",
    "    resXGB = np.average(np.array(preds_eval),axis=0)\n",
    "    \n",
    "    preds_eval = []\n",
    "    for model in modelsCB:\n",
    "        preds_eval.append(model.predict(X))\n",
    "    \n",
    "    resCB = np.average(np.array(preds_eval),axis=0)\n",
    "    \n",
    "    preds_eval = []\n",
    "    for model in modelsLasso:\n",
    "        preds_eval.append(model.predict(X))\n",
    "    \n",
    "    resLasso = np.average(np.array(preds_eval),axis=0)\n",
    "    \n",
    "    preds_eval = []\n",
    "    for model in modelsLGBM:\n",
    "        preds_eval.append(model.predict(X))\n",
    "    \n",
    "    resLGBM = np.average(np.array(preds_eval),axis=0)\n",
    "    \n",
    "    preds_eval = []\n",
    "    for model in modelsSVR:\n",
    "        preds_eval.append(model.predict(X))\n",
    "    \n",
    "    resSVR = np.average(np.array(preds_eval),axis=0)\n",
    "    \n",
    "    preds_eval = []\n",
    "    for model in modelsRF:\n",
    "        preds_eval.append(model.predict(X))\n",
    "    \n",
    "    resRF = np.average(np.array(preds_eval),axis=0)\n",
    "    \n",
    "    resNN = np.average(np.array(NN_model.predict(X)), axis = 0)\n",
    "    \n",
    "    res1 = (resXGB * a + resCB * b + resLasso * c + resLGBM * d + resSVR * e + resRF * f + resNN * g)/(a + b + c + d + e + f + g)\n",
    "    \n",
    "    res = mean_squared_error(y, res1, squared=False)\n",
    "\n",
    "    return res\n",
    "\n",
    "study = optuna.create_study(direction= 'minimize')\n",
    "study.optimize(coef_objective, n_trials= 100)\n",
    "study.best_params"
   ]
  },
  {
   "cell_type": "code",
   "execution_count": null,
   "metadata": {},
   "outputs": [],
   "source": [
    "# MSE 11.632224313221586"
   ]
  },
  {
   "cell_type": "code",
   "execution_count": 28,
   "metadata": {},
   "outputs": [],
   "source": [
    "a = study.best_params['a']\n",
    "b = study.best_params['b']\n",
    "c = study.best_params['c']\n",
    "d = study.best_params['d']\n",
    "e = study.best_params['e']\n",
    "f = study.best_params['f']\n",
    "g = study.best_params['g']\n",
    "\n",
    "# a = 0.8548784784620398\n",
    "# b = 0.057459781784847896\n",
    "# c = 0.04093386132430907\n",
    "# d = 0.049843870753921445\n",
    "# e = 0.05028312502340519\n",
    "# f = 0.03687994916292475\n",
    "\n",
    "sum_coef = a + b + c + d + e + f + g\n",
    "a = a / sum_coef\n",
    "b = b / sum_coef\n",
    "c = c / sum_coef\n",
    "d = d / sum_coef\n",
    "e = e / sum_coef\n",
    "f = f / sum_coef\n",
    "g = g / sum_coef"
   ]
  },
  {
   "cell_type": "code",
   "execution_count": 29,
   "metadata": {},
   "outputs": [],
   "source": [
    "preds = predXGB * a + predCB * b + predLasso * c + predLGBM * d + predSVR * e + predRF * f + predNN * g"
   ]
  },
  {
   "cell_type": "code",
   "execution_count": 30,
   "metadata": {
    "execution": {
     "iopub.execute_input": "2023-03-07T18:10:26.297713Z",
     "iopub.status.busy": "2023-03-07T18:10:26.297325Z",
     "iopub.status.idle": "2023-03-07T18:10:26.303468Z",
     "shell.execute_reply": "2023-03-07T18:10:26.301786Z",
     "shell.execute_reply.started": "2023-03-07T18:10:26.297677Z"
    }
   },
   "outputs": [],
   "source": [
    "submission = pd.DataFrame(preds, columns = ['Strength']).set_index(X_test.index)"
   ]
  },
  {
   "cell_type": "code",
   "execution_count": 31,
   "metadata": {},
   "outputs": [
    {
     "data": {
      "text/plain": [
       "<AxesSubplot:>"
      ]
     },
     "execution_count": 31,
     "metadata": {},
     "output_type": "execute_result"
    },
    {
     "data": {
      "image/png": "[encoded data removed]",
      "text/plain": [
       "<Figure size 640x480 with 1 Axes>"
      ]
     },
     "metadata": {},
     "output_type": "display_data"
    }
   ],
   "source": [
    "submission.Strength.hist()"
   ]
  },
  {
   "cell_type": "code",
   "execution_count": 32,
   "metadata": {},
   "outputs": [
    {
     "data": {
      "text/html": [
       "<div>\n",
       "<style scoped>\n",
       "    .dataframe tbody tr th:only-of-type {\n",
       "        vertical-align: middle;\n",
       "    }\n",
       "\n",
       "    .dataframe tbody tr th {\n",
       "        vertical-align: top;\n",
       "    }\n",
       "\n",
       "    .dataframe thead th {\n",
       "        text-align: right;\n",
       "    }\n",
       "</style>\n",
       "<table border=\"1\" class=\"dataframe\">\n",
       "  <thead>\n",
       "    <tr style=\"text-align: right;\">\n",
       "      <th></th>\n",
       "      <th>Strength</th>\n",
       "    </tr>\n",
       "    <tr>\n",
       "      <th>id</th>\n",
       "      <th></th>\n",
       "    </tr>\n",
       "  </thead>\n",
       "  <tbody>\n",
       "    <tr>\n",
       "      <th>5407</th>\n",
       "      <td>48.652984</td>\n",
       "    </tr>\n",
       "    <tr>\n",
       "      <th>5408</th>\n",
       "      <td>20.264379</td>\n",
       "    </tr>\n",
       "    <tr>\n",
       "      <th>5409</th>\n",
       "      <td>34.191657</td>\n",
       "    </tr>\n",
       "    <tr>\n",
       "      <th>5410</th>\n",
       "      <td>47.180216</td>\n",
       "    </tr>\n",
       "    <tr>\n",
       "      <th>5411</th>\n",
       "      <td>33.169046</td>\n",
       "    </tr>\n",
       "    <tr>\n",
       "      <th>...</th>\n",
       "      <td>...</td>\n",
       "    </tr>\n",
       "    <tr>\n",
       "      <th>9007</th>\n",
       "      <td>32.970034</td>\n",
       "    </tr>\n",
       "    <tr>\n",
       "      <th>9008</th>\n",
       "      <td>35.728368</td>\n",
       "    </tr>\n",
       "    <tr>\n",
       "      <th>9009</th>\n",
       "      <td>38.786611</td>\n",
       "    </tr>\n",
       "    <tr>\n",
       "      <th>9010</th>\n",
       "      <td>32.004945</td>\n",
       "    </tr>\n",
       "    <tr>\n",
       "      <th>9011</th>\n",
       "      <td>21.348134</td>\n",
       "    </tr>\n",
       "  </tbody>\n",
       "</table>\n",
       "<p>3605 rows × 1 columns</p>\n",
       "</div>"
      ],
      "text/plain": [
       "       Strength\n",
       "id             \n",
       "5407  48.652984\n",
       "5408  20.264379\n",
       "5409  34.191657\n",
       "5410  47.180216\n",
       "5411  33.169046\n",
       "...         ...\n",
       "9007  32.970034\n",
       "9008  35.728368\n",
       "9009  38.786611\n",
       "9010  32.004945\n",
       "9011  21.348134\n",
       "\n",
       "[3605 rows x 1 columns]"
      ]
     },
     "execution_count": 32,
     "metadata": {},
     "output_type": "execute_result"
    }
   ],
   "source": [
    "submission"
   ]
  },
  {
   "cell_type": "code",
   "execution_count": 33,
   "metadata": {},
   "outputs": [],
   "source": [
    "submission.to_csv('submission.csv', index=True)"
   ]
  },
  {
   "cell_type": "code",
   "execution_count": null,
   "metadata": {},
   "outputs": [],
   "source": []
  }
 ],
 "metadata": {
  "kernelspec": {
   "display_name": "Python 3 (ipykernel)",
   "language": "python",
   "name": "python3"
  },
  "language_info": {
   "codemirror_mode": {
    "name": "ipython",
    "version": 3
   },
   "file_extension": ".py",
   "mimetype": "text/x-python",
   "name": "python",
   "nbconvert_exporter": "python",
   "pygments_lexer": "ipython3",
   "version": "3.9.13"
  }
 },
 "nbformat": 4,
 "nbformat_minor": 4
}
